{
  "nbformat": 4,
  "nbformat_minor": 0,
  "metadata": {
    "colab": {
      "name": "msa.ipynb",
      "provenance": [],
      "collapsed_sections": [],
      "include_colab_link": true
    },
    "kernelspec": {
      "display_name": "Julia",
      "language": "julia",
      "name": "julia"
    },
    "language_info": {
      "file_extension": ".jl",
      "mimetype": "application/julia",
      "name": "julia"
    },
    "accelerator": "GPU"
  },
  "cells": [
    {
      "cell_type": "markdown",
      "metadata": {
        "id": "view-in-github",
        "colab_type": "text"
      },
      "source": [
        "<a href=\"https://colab.research.google.com/github/AmitMandliya/multiple-sequence-alignment/blob/feature%2Fgoogle_collab_checkpoint/msa.ipynb\" target=\"_parent\"><img src=\"https://colab.research.google.com/assets/colab-badge.svg\" alt=\"Open In Colab\"/></a>"
      ]
    },
    {
      "cell_type": "markdown",
      "metadata": {
        "id": "tQ1r1bbb0yBv"
      },
      "source": [
        "# <img src=\"https://github.com/JuliaLang/julia-logo-graphics/raw/master/images/julia-logo-color.png\" height=\"100\" /> _Colab Notebook Template_\n",
        "\n",
        "## Instructions\n",
        "1. Work on a copy of this notebook: _File_ > _Save a copy in Drive_ (you will need a Google account). Alternatively, you can download the notebook using _File_ > _Download .ipynb_, then upload it to [Colab](https://colab.research.google.com/).\n",
        "2. If you need a GPU: _Runtime_ > _Change runtime type_ > _Harware accelerator_ = _GPU_.\n",
        "3. Execute the following cell (click on it and press Ctrl+Enter) to install Julia, IJulia and other packages (if needed, update `JULIA_VERSION` and the other parameters). This takes a couple of minutes.\n",
        "4. Reload this page (press Ctrl+R, or ⌘+R, or the F5 key) and continue to the next section.\n",
        "\n",
        "_Notes_:\n",
        "* If your Colab Runtime gets reset (e.g., due to inactivity), repeat steps 2, 3 and 4.\n",
        "* After installation, if you want to change the Julia version or activate/deactivate the GPU, you will need to reset the Runtime: _Runtime_ > _Factory reset runtime_ and repeat steps 3 and 4."
      ]
    },
    {
      "cell_type": "code",
      "metadata": {
        "id": "GIeFXS0F0zww",
        "outputId": "f195a879-e268-4fab-a5b3-c8e6c3da446c",
        "colab": {
          "base_uri": "https://localhost:8080/"
        }
      },
      "source": [
        "%%shell\n",
        "set -e\n",
        "\n",
        "#---------------------------------------------------#\n",
        "JULIA_VERSION=\"1.4.2\" # any version ≥ 0.7.0\n",
        "JULIA_PACKAGES=\"IJulia BenchmarkTools Plots\"\n",
        "JULIA_PACKAGES_IF_GPU=\"CuArrays\"\n",
        "JULIA_NUM_THREADS=2\n",
        "#---------------------------------------------------#\n",
        "\n",
        "if [ -n \"$COLAB_GPU\" ] && [ -z `which julia` ]; then\n",
        "  # Install Julia\n",
        "  JULIA_VER=`cut -d '.' -f -2 <<< \"$JULIA_VERSION\"`\n",
        "  echo \"Installing Julia $JULIA_VERSION on the current Colab Runtime...\"\n",
        "  BASE_URL=\"https://julialang-s3.julialang.org/bin/linux/x64\"\n",
        "  URL=\"$BASE_URL/$JULIA_VER/julia-$JULIA_VERSION-linux-x86_64.tar.gz\"\n",
        "  wget -nv $URL -O /tmp/julia.tar.gz # -nv means \"not verbose\"\n",
        "  tar -x -f /tmp/julia.tar.gz -C /usr/local --strip-components 1\n",
        "  rm /tmp/julia.tar.gz\n",
        "\n",
        "  # Install Packages\n",
        "  if [ \"$COLAB_GPU\" = \"1\" ]; then\n",
        "      JULIA_PACKAGES=\"$JULIA_PACKAGES $JULIA_PACKAGES_IF_GPU\"\n",
        "  fi\n",
        "  for PKG in `echo $JULIA_PACKAGES`; do\n",
        "    echo \"Installing Julia package $PKG...\"\n",
        "    julia -e 'using Pkg; pkg\"add '$PKG'; precompile;\"'\n",
        "  done\n",
        "\n",
        "  # Install kernel and rename it to \"julia\"\n",
        "  echo \"Installing IJulia kernel...\"\n",
        "  julia -e 'using IJulia; IJulia.installkernel(\"julia\", env=Dict(\n",
        "      \"JULIA_NUM_THREADS\"=>\"'\"$JULIA_NUM_THREADS\"'\"))'\n",
        "  KERNEL_DIR=`julia -e \"using IJulia; print(IJulia.kerneldir())\"`\n",
        "  KERNEL_NAME=`ls -d \"$KERNEL_DIR\"/julia*`\n",
        "  mv -f $KERNEL_NAME \"$KERNEL_DIR\"/julia  \n",
        "\n",
        "  echo ''\n",
        "  echo \"Success! Please reload this page and jump to the next section.\"\n",
        "fi"
      ],
      "execution_count": null,
      "outputs": [
        {
          "output_type": "stream",
          "text": [
            "Installing Julia 1.4.2 on the current Colab Runtime...\n",
            "2020-11-02 03:12:46 URL:https://storage.googleapis.com/julialang2/bin/linux/x64/1.4/julia-1.4.2-linux-x86_64.tar.gz [99093958/99093958] -> \"/tmp/julia.tar.gz\" [1]\n",
            "Installing Julia package IJulia...\n",
            "    Cloning default registries into `~/.julia`\n",
            "    Cloning registry from \"https://github.com/JuliaRegistries/General.git\"\n",
            "\u001b[2K\u001b[?25h      Added registry `General` to `~/.julia/registries/General`\n",
            "  Resolving package versions...\n",
            "  Installed Artifacts ─────── v1.3.0\n",
            "  Installed VersionParsing ── v1.2.0\n",
            "  Installed MbedTLS_jll ───── v2.16.8+1\n",
            "  Installed ZeroMQ_jll ────── v4.3.2+5\n",
            "  Installed SoftGlobalScope ─ v1.1.0\n",
            "  Installed Parsers ───────── v1.0.11\n",
            "  Installed IJulia ────────── v1.22.0\n",
            "  Installed JLLWrappers ───── v1.1.3\n",
            "  Installed MbedTLS ───────── v1.0.3\n",
            "  Installed JSON ──────────── v0.21.1\n",
            "  Installed Conda ─────────── v1.4.1\n",
            "  Installed ZMQ ───────────── v1.2.1\n",
            "Downloading artifact: MbedTLS\n",
            "######################################################################## 100.0%\n",
            "\u001b[1A\u001b[2K\u001b[?25hDownloading artifact: ZeroMQ\n",
            "######################################################################## 100.0%\n",
            "\u001b[1A\u001b[2K\u001b[?25h   Updating `~/.julia/environments/v1.4/Project.toml`\n",
            "  [7073ff75] + IJulia v1.22.0\n",
            "   Updating `~/.julia/environments/v1.4/Manifest.toml`\n",
            "  [56f22d72] + Artifacts v1.3.0\n",
            "  [8f4d0f93] + Conda v1.4.1\n",
            "  [7073ff75] + IJulia v1.22.0\n",
            "  [692b3bcd] + JLLWrappers v1.1.3\n",
            "  [682c06a0] + JSON v0.21.1\n",
            "  [739be429] + MbedTLS v1.0.3\n",
            "  [c8ffd9c3] + MbedTLS_jll v2.16.8+1\n",
            "  [69de0a69] + Parsers v1.0.11\n",
            "  [b85f4697] + SoftGlobalScope v1.1.0\n",
            "  [81def892] + VersionParsing v1.2.0\n",
            "  [c2297ded] + ZMQ v1.2.1\n",
            "  [8f1865be] + ZeroMQ_jll v4.3.2+5\n",
            "  [2a0f44e3] + Base64 \n",
            "  [ade2ca70] + Dates \n",
            "  [8ba89e20] + Distributed \n",
            "  [7b1f6079] + FileWatching \n",
            "  [b77e0a4c] + InteractiveUtils \n",
            "  [76f85450] + LibGit2 \n",
            "  [8f399da3] + Libdl \n",
            "  [56ddb016] + Logging \n",
            "  [d6f4376e] + Markdown \n",
            "  [a63ad114] + Mmap \n",
            "  [44cfe95a] + Pkg \n",
            "  [de0858da] + Printf \n",
            "  [3fa0cd96] + REPL \n",
            "  [9a3f8284] + Random \n",
            "  [ea8e919c] + SHA \n",
            "  [9e88b42a] + Serialization \n",
            "  [6462fe0b] + Sockets \n",
            "  [8dfed614] + Test \n",
            "  [cf7118a7] + UUIDs \n",
            "  [4ec0a83e] + Unicode \n",
            "   Building Conda ─→ `~/.julia/packages/Conda/3rPhK/deps/build.log`\n",
            "   Building IJulia → `~/.julia/packages/IJulia/a1SNk/deps/build.log`\n",
            "Precompiling project...\n",
            "Installing Julia package BenchmarkTools...\n",
            "   Updating registry at `~/.julia/registries/General`\n",
            "   Updating git-repo `https://github.com/JuliaRegistries/General.git`\n",
            "\u001b[?25l\u001b[2K\u001b[?25h  Resolving package versions...\n",
            "  Installed BenchmarkTools ─ v0.5.0\n",
            "   Updating `~/.julia/environments/v1.4/Project.toml`\n",
            "  [6e4b80f9] + BenchmarkTools v0.5.0\n",
            "   Updating `~/.julia/environments/v1.4/Manifest.toml`\n",
            "  [6e4b80f9] + BenchmarkTools v0.5.0\n",
            "  [37e2e46d] + LinearAlgebra \n",
            "  [2f01184e] + SparseArrays \n",
            "  [10745b16] + Statistics \n",
            "Precompiling project...\n",
            "Installing Julia package Plots...\n",
            "   Updating registry at `~/.julia/registries/General`\n",
            "   Updating git-repo `https://github.com/JuliaRegistries/General.git`\n",
            "\u001b[?25l\u001b[2K\u001b[?25h  Resolving package versions...\n",
            "  Installed LibVPX_jll ────────────────── v1.9.0+1\n",
            "  Installed FFMPEG_jll ────────────────── v4.3.1+4\n",
            "  Installed FreeType2_jll ─────────────── v2.10.1+5\n",
            "  Installed DataAPI ───────────────────── v1.4.0\n",
            "  Installed StructArrays ──────────────── v0.4.4\n",
            "  Installed TableTraits ───────────────── v1.0.0\n",
            "  Installed HTTP ──────────────────────── v0.8.19\n",
            "  Installed Plots ─────────────────────── v1.6.12\n",
            "  Installed Adapt ─────────────────────── v2.3.0\n",
            "  Installed StatsBase ─────────────────── v0.33.2\n",
            "  Installed Grisu ─────────────────────── v1.0.0\n",
            "  Installed IterTools ─────────────────── v1.3.0\n",
            "  Installed Contour ───────────────────── v0.5.5\n",
            "  Installed FFMPEG ────────────────────── v0.4.0\n",
            "  Installed DataStructures ────────────── v0.18.8\n",
            "  Installed OpenSSL_jll ───────────────── v1.1.1+6\n",
            "  Installed Bzip2_jll ─────────────────── v1.0.6+5\n",
            "  Installed Colors ────────────────────── v0.12.4\n",
            "  Installed x264_jll ──────────────────── v2020.7.14+2\n",
            "  Installed Opus_jll ──────────────────── v1.3.1+3\n",
            "  Installed IniFile ───────────────────── v0.5.0\n",
            "  Installed FriBidi_jll ───────────────── v1.0.5+6\n",
            "  Installed OrderedCollections ────────── v1.3.2\n",
            "  Installed SortingAlgorithms ─────────── v0.3.1\n",
            "  Installed PlotThemes ────────────────── v2.0.0\n",
            "  Installed EarCut_jll ────────────────── v2.1.5+0\n",
            "  Installed IteratorInterfaceExtensions ─ v1.0.0\n",
            "  Installed Latexify ──────────────────── v0.14.2\n",
            "  Installed MacroTools ────────────────── v0.5.6\n",
            "  Installed FixedPointNumbers ─────────── v0.8.4\n",
            "  Installed libfdk_aac_jll ────────────── v0.1.6+4\n",
            "  Installed x265_jll ──────────────────── v3.0.0+3\n",
            "  Installed Measures ──────────────────── v0.3.1\n",
            "  Installed GeometryBasics ────────────── v0.3.3\n",
            "  Installed Reexport ──────────────────── v0.2.0\n",
            "  Installed DataValueInterfaces ───────── v1.0.0\n",
            "  Installed Ogg_jll ───────────────────── v1.3.4+2\n",
            "  Installed PlotUtils ─────────────────── v1.0.7\n",
            "  Installed StaticArrays ──────────────── v0.12.5\n",
            "  Installed libvorbis_jll ─────────────── v1.3.6+6\n",
            "  Installed Tables ────────────────────── v1.1.0\n",
            "  Installed NaNMath ───────────────────── v0.3.4\n",
            "  Installed LaTeXStrings ──────────────── v1.2.0\n",
            "  Installed LAME_jll ──────────────────── v3.100.0+3\n",
            "  Installed Zlib_jll ──────────────────── v1.2.11+18\n",
            "  Installed Missings ──────────────────── v0.4.4\n",
            "  Installed RecipesPipeline ───────────── v0.1.13\n",
            "  Installed Showoff ───────────────────── v0.3.2\n",
            "  Installed Formatting ────────────────── v0.4.1\n",
            "  Installed Compat ────────────────────── v3.23.0\n",
            "  Installed ColorTypes ────────────────── v0.10.9\n",
            "  Installed GR ────────────────────────── v0.52.0\n",
            "  Installed ColorSchemes ──────────────── v3.10.1\n",
            "  Installed libass_jll ────────────────── v0.14.0+4\n",
            "  Installed Requires ──────────────────── v1.1.0\n",
            "  Installed RecipesBase ───────────────── v1.1.0\n",
            "  Installed GeometryTypes ─────────────── v0.8.3\n",
            "Downloading artifact: LibVPX\n",
            "######################################################################## 100.0%\n",
            "\u001b[1A\u001b[2K\u001b[?25hDownloading artifact: FFMPEG\n",
            "######################################################################## 100.0%\n",
            "\u001b[1A\u001b[2K\u001b[?25hDownloading artifact: FreeType2\n",
            "######################################################################## 100.0%\n",
            "\u001b[1A\u001b[2K\u001b[?25hDownloading artifact: x264\n",
            "######################################################################## 100.0%\n",
            "\u001b[1A\u001b[2K\u001b[?25hDownloading artifact: OpenSSL\n",
            "######################################################################## 100.0%\n",
            "\u001b[1A\u001b[2K\u001b[?25hDownloading artifact: Bzip2\n",
            "######################################################################## 100.0%\n",
            "\u001b[1A\u001b[2K\u001b[?25hDownloading artifact: FriBidi\n",
            "######################################################################## 100.0%\n",
            "\u001b[1A\u001b[2K\u001b[?25hDownloading artifact: Opus\n",
            "######################################################################## 100.0%\n",
            "\u001b[1A\u001b[2K\u001b[?25hDownloading artifact: EarCut\n",
            "######################################################################## 100.0%\n",
            "\u001b[1A\u001b[2K\u001b[?25hDownloading artifact: x265\n",
            "######################################################################## 100.0%\n",
            "\u001b[1A\u001b[2K\u001b[?25hDownloading artifact: libfdk_aac\n",
            "######################################################################## 100.0%\n",
            "\u001b[1A\u001b[2K\u001b[?25hDownloading artifact: Ogg\n",
            "######################################################################## 100.0%\n",
            "\u001b[1A\u001b[2K\u001b[?25hDownloading artifact: libvorbis\n",
            "######################################################################## 100.0%\n",
            "\u001b[1A\u001b[2K\u001b[?25hDownloading artifact: LAME\n",
            "######################################################################## 100.0%\n",
            "\u001b[1A\u001b[2K\u001b[?25hDownloading artifact: Zlib\n",
            "######################################################################## 100.0%\n",
            "\u001b[1A\u001b[2K\u001b[?25hDownloading artifact: libass\n",
            "######################################################################## 100.0%\n",
            "\u001b[1A\u001b[2K\u001b[?25h   Updating `~/.julia/environments/v1.4/Project.toml`\n",
            "  [91a5bcdd] + Plots v1.6.12\n",
            "   Updating `~/.julia/environments/v1.4/Manifest.toml`\n",
            "  [79e6a3ab] + Adapt v2.3.0\n",
            "  [6e34b625] + Bzip2_jll v1.0.6+5\n",
            "  [35d6a980] + ColorSchemes v3.10.1\n",
            "  [3da002f7] + ColorTypes v0.10.9\n",
            "  [5ae59095] + Colors v0.12.4\n",
            "  [34da2185] + Compat v3.23.0\n",
            "  [d38c429a] + Contour v0.5.5\n",
            "  [9a962f9c] + DataAPI v1.4.0\n",
            "  [864edb3b] + DataStructures v0.18.8\n",
            "  [e2d170a0] + DataValueInterfaces v1.0.0\n",
            "  [5ae413db] + EarCut_jll v2.1.5+0\n",
            "  [c87230d0] + FFMPEG v0.4.0\n",
            "  [b22a6f82] + FFMPEG_jll v4.3.1+4\n",
            "  [53c48c17] + FixedPointNumbers v0.8.4\n",
            "  [59287772] + Formatting v0.4.1\n",
            "  [d7e528f0] + FreeType2_jll v2.10.1+5\n",
            "  [559328eb] + FriBidi_jll v1.0.5+6\n",
            "  [28b8d3ca] + GR v0.52.0\n",
            "  [5c1252a2] + GeometryBasics v0.3.3\n",
            "  [4d00f742] + GeometryTypes v0.8.3\n",
            "  [42e2da0e] + Grisu v1.0.0\n",
            "  [cd3eb016] + HTTP v0.8.19\n",
            "  [83e8ac13] + IniFile v0.5.0\n",
            "  [c8e1da08] + IterTools v1.3.0\n",
            "  [82899510] + IteratorInterfaceExtensions v1.0.0\n",
            "  [c1c5ebd0] + LAME_jll v3.100.0+3\n",
            "  [b964fa9f] + LaTeXStrings v1.2.0\n",
            "  [23fbe1c1] + Latexify v0.14.2\n",
            "  [dd192d2f] + LibVPX_jll v1.9.0+1\n",
            "  [1914dd2f] + MacroTools v0.5.6\n",
            "  [442fdcdd] + Measures v0.3.1\n",
            "  [e1d29d7a] + Missings v0.4.4\n",
            "  [77ba4419] + NaNMath v0.3.4\n",
            "  [e7412a2a] + Ogg_jll v1.3.4+2\n",
            "  [458c3c95] + OpenSSL_jll v1.1.1+6\n",
            "  [91d4177d] + Opus_jll v1.3.1+3\n",
            "  [bac558e1] + OrderedCollections v1.3.2\n",
            "  [ccf2f8ad] + PlotThemes v2.0.0\n",
            "  [995b91a9] + PlotUtils v1.0.7\n",
            "  [91a5bcdd] + Plots v1.6.12\n",
            "  [3cdcf5f2] + RecipesBase v1.1.0\n",
            "  [01d81517] + RecipesPipeline v0.1.13\n",
            "  [189a3867] + Reexport v0.2.0\n",
            "  [ae029012] + Requires v1.1.0\n",
            "  [992d4aef] + Showoff v0.3.2\n",
            "  [a2af1166] + SortingAlgorithms v0.3.1\n",
            "  [90137ffa] + StaticArrays v0.12.5\n",
            "  [2913bbd2] + StatsBase v0.33.2\n",
            "  [09ab397b] + StructArrays v0.4.4\n",
            "  [3783bdb8] + TableTraits v1.0.0\n",
            "  [bd369af6] + Tables v1.1.0\n",
            "  [83775a58] + Zlib_jll v1.2.11+18\n",
            "  [0ac62f75] + libass_jll v0.14.0+4\n",
            "  [f638f0a6] + libfdk_aac_jll v0.1.6+4\n",
            "  [f27f6e37] + libvorbis_jll v1.3.6+6\n",
            "  [1270edf5] + x264_jll v2020.7.14+2\n",
            "  [dfaa095f] + x265_jll v3.0.0+3\n",
            "  [8bb1440f] + DelimitedFiles \n",
            "  [1a1011a3] + SharedArrays \n",
            "   Building GR → `~/.julia/packages/GR/BwGt2/deps/build.log`\n",
            "Precompiling project...\n",
            "Installing Julia package CuArrays...\n",
            "   Updating registry at `~/.julia/registries/General`\n",
            "   Updating git-repo `https://github.com/JuliaRegistries/General.git`\n",
            "\u001b[?25l\u001b[2K\u001b[?25h  Resolving package versions...\n",
            "  Installed FoldingTrees ─── v1.0.1\n",
            "  Installed Adapt ────────── v1.1.0\n",
            "  Installed CUDAapi ──────── v4.0.0\n",
            "  Installed TimerOutputs ─── v0.5.7\n",
            "  Installed GPUCompiler ──── v0.2.0\n",
            "  Installed BinaryProvider ─ v0.5.10\n",
            "  Installed DataStructures ─ v0.17.20\n",
            "  Installed CuArrays ─────── v2.2.2\n",
            "  Installed ExprTools ────── v0.1.3\n",
            "  Installed AbstractTrees ── v0.3.3\n",
            "  Installed CUDAdrv ──────── v6.3.0\n",
            "  Installed CodeTracking ─── v1.0.4\n",
            "  Installed NNlib ────────── v0.7.5\n",
            "  Installed CEnum ────────── v0.3.0\n",
            "  Installed Cthulhu ──────── v1.3.0\n",
            "  Installed LLVM ─────────── v1.7.0\n",
            "  Installed AbstractFFTs ─── v0.5.0\n",
            "  Installed CUDAnative ───── v3.2.0\n",
            "  Installed GPUArrays ────── v3.4.1\n",
            "   Updating `~/.julia/environments/v1.4/Project.toml`\n",
            "  [3a865a2d] + CuArrays v2.2.2\n",
            "   Updating `~/.julia/environments/v1.4/Manifest.toml`\n",
            "  [621f4979] + AbstractFFTs v0.5.0\n",
            "  [1520ce14] + AbstractTrees v0.3.3\n",
            "  [79e6a3ab] ↓ Adapt v2.3.0 ⇒ v1.1.0\n",
            "  [b99e7846] + BinaryProvider v0.5.10\n",
            "  [fa961155] + CEnum v0.3.0\n",
            "  [3895d2a7] + CUDAapi v4.0.0\n",
            "  [c5f51814] + CUDAdrv v6.3.0\n",
            "  [be33ccc6] + CUDAnative v3.2.0\n",
            "  [da1fd8a2] + CodeTracking v1.0.4\n",
            "  [34da2185] - Compat v3.23.0\n",
            "  [f68482b8] + Cthulhu v1.3.0\n",
            "  [3a865a2d] + CuArrays v2.2.2\n",
            "  [864edb3b] ↓ DataStructures v0.18.8 ⇒ v0.17.20\n",
            "  [e2ba6199] + ExprTools v0.1.3\n",
            "  [1eca21be] + FoldingTrees v1.0.1\n",
            "  [0c68f7d7] + GPUArrays v3.4.1\n",
            "  [61eb1bfa] + GPUCompiler v0.2.0\n",
            "  [929cbde3] + LLVM v1.7.0\n",
            "  [872c559c] + NNlib v0.7.5\n",
            "  [a759f4b9] + TimerOutputs v0.5.7\n",
            "  [1a1011a3] - SharedArrays \n",
            "Precompiling project...\n"
          ],
          "name": "stdout"
        }
      ]
    },
    {
      "cell_type": "markdown",
      "metadata": {
        "id": "-OS3Ac017T1i"
      },
      "source": [
        "# Checking the Installation\n",
        "The `versioninfo()` function should print your Julia version and some other info about the system:"
      ]
    },
    {
      "cell_type": "code",
      "metadata": {
        "id": "EEzvvzCl1i0F",
        "outputId": "36948464-4962-429e-a8ab-b7e8aec104b4",
        "colab": {
          "base_uri": "https://localhost:8080/"
        }
      },
      "source": [
        "versioninfo()"
      ],
      "execution_count": null,
      "outputs": [
        {
          "output_type": "stream",
          "text": [
            "Julia Version 1.4.2\n",
            "Commit 44fa15b150* (2020-05-23 18:35 UTC)\n",
            "Platform Info:\n",
            "  OS: Linux (x86_64-pc-linux-gnu)\n",
            "  CPU: Intel(R) Xeon(R) CPU @ 2.20GHz\n",
            "  WORD_SIZE: 64\n",
            "  LIBM: libopenlibm\n",
            "  LLVM: libLLVM-8.0.1 (ORCJIT, broadwell)\n",
            "Environment:\n",
            "  JULIA_NUM_THREADS = 2\n"
          ],
          "name": "stdout"
        }
      ]
    },
    {
      "cell_type": "code",
      "metadata": {
        "id": "OP4YrNwBG-qQ",
        "outputId": "594bae93-6766-440d-b2f4-8fa838533172",
        "colab": {
          "base_uri": "https://localhost:8080/"
        }
      },
      "source": [
        "function fun()\n",
        "  print(\"Hello!!!\")\n",
        "\n",
        "end\n",
        "fun()"
      ],
      "execution_count": null,
      "outputs": [
        {
          "output_type": "stream",
          "text": [
            "Hello!!!"
          ],
          "name": "stdout"
        }
      ]
    },
    {
      "cell_type": "code",
      "metadata": {
        "id": "yQlpeR9wNOi8",
        "outputId": "9cbe857d-3f8e-4246-ea9f-4426098403c2",
        "colab": {
          "base_uri": "https://localhost:8080/",
          "height": 397
        }
      },
      "source": [
        "using BenchmarkTools\n",
        "\n",
        "M = rand(2048, 2048)\n",
        "@benchmark M^2"
      ],
      "execution_count": null,
      "outputs": [
        {
          "output_type": "error",
          "ename": "SyntaxError",
          "evalue": "ignored",
          "traceback": [
            "\u001b[0;36m  File \u001b[0;32m\"<ipython-input-3-eead2ab1e4f3>\"\u001b[0;36m, line \u001b[0;32m1\u001b[0m\n\u001b[0;31m    using BenchmarkTools\u001b[0m\n\u001b[0m                       ^\u001b[0m\n\u001b[0;31mSyntaxError\u001b[0m\u001b[0;31m:\u001b[0m invalid syntax\n"
          ]
        }
      ]
    },
    {
      "cell_type": "code",
      "metadata": {
        "id": "XciCcMAJOT3_",
        "outputId": "2f534ca2-3796-44f7-b368-eb021012e3b2",
        "colab": {
          "base_uri": "https://localhost:8080/",
          "height": 34
        }
      },
      "source": [
        "if ENV[\"COLAB_GPU\"] == \"1\"\n",
        "    using CuArrays\n",
        "\n",
        "    M_gpu = cu(M)\n",
        "    @benchmark CuArrays.@sync M_gpu^2\n",
        "else\n",
        "    println(\"No GPU found.\")\n",
        "end"
      ],
      "execution_count": null,
      "outputs": [
        {
          "output_type": "stream",
          "text": [
            "No GPU found.\n"
          ],
          "name": "stdout"
        }
      ]
    },
    {
      "cell_type": "markdown",
      "metadata": {
        "id": "8RC1QNNqk6h1"
      },
      "source": [
        "# Need Help?\n",
        "\n",
        "* Learning: https://julialang.org/learning/\n",
        "* Documentation: https://docs.julialang.org/\n",
        "* Questions & Discussions:\n",
        "  * https://discourse.julialang.org/\n",
        "  * http://julialang.slack.com/\n",
        "  * https://stackoverflow.com/questions/tagged/julia\n",
        "\n",
        "If you ever ask for help or file an issue about Julia, you should generally provide the output of `versioninfo()`."
      ]
    },
    {
      "cell_type": "markdown",
      "metadata": {
        "id": "2UMidUQB03vJ"
      },
      "source": [
        "Add new code cells by clicking the `+ Code` button (or _Insert_ > _Code cell_).\n",
        "\n",
        "Have fun!\n",
        "\n",
        "<img src=\"https://raw.githubusercontent.com/JuliaLang/julia-logo-graphics/master/images/julia-logo-mask.png\" height=\"100\" />"
      ]
    },
    {
      "cell_type": "code",
      "metadata": {
        "id": "SpW680oEHhyw"
      },
      "source": [
        "using Random\n",
        "using Printf\n",
        "using Dates"
      ],
      "execution_count": null,
      "outputs": []
    },
    {
      "cell_type": "code",
      "metadata": {
        "id": "FK2cx5xLDvRd",
        "outputId": "a0beed40-5669-4fd2-a9a4-fe9fdcfbd6e2",
        "colab": {
          "base_uri": "https://localhost:8080/",
          "height": 129
        }
      },
      "source": [
        "# Generates t sequences all of length l, and returns an array of strings\n",
        "function generate_sequences(t::Int64, l::Int64)\n",
        "   # t is the number of sequences to create\n",
        "    # l is the length of the sequences\n",
        "    DNA = Array{String,1}(undef,0)\n",
        "    base_arr = [\"A\", \"T\", \"G\", \"C\"]\n",
        "\n",
        "    for t_index in 1:t\n",
        "        push!(DNA, \"\")\n",
        "        for l_value in 1:l\n",
        "            r = convert(Int64, floor(Random.rand() * 4) + 1)\n",
        "            DNA[t_index] = string(DNA[t_index], base_arr[r])\n",
        "        end\n",
        "    end\n",
        "    return DNA    \n",
        "end"
      ],
      "execution_count": null,
      "outputs": [
        {
          "output_type": "error",
          "ename": "SyntaxError",
          "evalue": "ignored",
          "traceback": [
            "\u001b[0;36m  File \u001b[0;32m\"<ipython-input-1-9a76e4c3782e>\"\u001b[0;36m, line \u001b[0;32m2\u001b[0m\n\u001b[0;31m    function generate_sequences(t::Int64, l::Int64)\u001b[0m\n\u001b[0m                              ^\u001b[0m\n\u001b[0;31mSyntaxError\u001b[0m\u001b[0;31m:\u001b[0m invalid syntax\n"
          ]
        }
      ]
    },
    {
      "cell_type": "code",
      "metadata": {
        "id": "oRlr0qXpD-ji",
        "outputId": "32e17ddc-0db1-41d1-f477-0f490d64e512",
        "colab": {
          "base_uri": "https://localhost:8080/"
        }
      },
      "source": [
        "# test generate_sequences here\n",
        "data = generate_sequences(10,1000)"
      ],
      "execution_count": null,
      "outputs": [
        {
          "output_type": "execute_result",
          "data": {
            "text/plain": [
              "10-element Array{String,1}:\n",
              " \"ACGAGAGTGAGTACAGTACACGGTGGTATGTTTAGCGATATACAGAGCCCGCCGTGGCTATAGGTTCAATAGGCATAGCGCTCTACGCTTTGGGTGGGGAAATAGATGATAATCATGAGTCTGTGTGCTGTGCCGAGCAGGAAAAGCCATACCCCATGGTAATCCGCAAACGGCCTTGGCCCTTATATGGTTCAACCTAGGCCTGCACGCCTGCTAAACCCTCGCTGGTTAATGACAGTCCTCCATCTAAATATATGCCTACCCTACTGTTCAATGGGCATGGATTACCTCGAAACAAACTACGGCGTGAGTGCATGGCCGGGGGCCGAGAGCAATACAGAGGATGCATTAACGCCGTTTAGACGCGGCACCAAGCGGCCCCATACTTGTGGATTGCGGGCCGGCTCGTTCCGTGGTCGGCGAGTGGTCCAGCACTACATTCGCGCGCGTTACCTGTCAAGTGCTTAAGAAATCCGCAAACCTCCAGAGGCGTCATGTATTGGACTGTAGGCTCTCACCTATCGGACTGAGTTTTCCTGTCACAAGTTGCATGGTATACTTCAACCACGGGATGCTTGGCTCCATACCTATCCAAATAATAGCTCTATTGTGGAACTATTTGGGAAAGCAAATTACGGTCAAGCCTGGTTCGCCCAGGTTTACCTTACTCCATTGCTAAGCGAGTCAAGTACGACGAGAGAGATGCAAGGCCCTGAAACCCTTGTAGGCAATAAACGCTCATCCTGCAGACCACTACGTACCACACTGTGACCAAGTGAGGTCCATTCTGATGAAAGAGCAGCAACGCTAATTTAGAAAACAGACAGGACTCGTCCCGATTCGACGCGGCCTTCTTAAGATCTATAAGCAATCTGTAAGAAGGGCGAGGTTGTCGAAACTGTACCGCGCTTACCTCCAGGCTAGACTCATTACCAGGGTCGGCAGTCAAGTTGGATGGTAGAATGCTGAAACGAGTGATGAACAGTTCGCAAACCCTGAT\"\n",
              " \"CTTCAGTTGCCTGCAAGGCGAAGGTGGGGCAGGAATAAAATCCTTATGAGTGACGAACGATTCCGATGCTACTTCTCTCTATTTTGCATGTCTGAAGGCACCTGATTTCAACATCAAGTTTAACCTTATGACCCCAAGGCACGTGAATCAATATCCTCGGTAATTACATCCTTTCTTGCTTGCAAAAGGTGGGCTACACCCTTTGACGTGTCCTTAGGTTAGTGACACCAATATCTATGATACCCTACTGGTCCGTATAGGATAACCTATTCGTTAAGAAATCGGGTTTCACAGGGGGCCTAGTCACCACCTTGCCGTCGCCAATTATAAAAGACCTTTATGGACGTTCGCTTTATTAATCTACCCACATGTAGTCTACCCCATAGGTGGAATGGAGCCAATCTGCAGCTCGCCTTTAGCAAGTCGAGTCGCTAACTGGATGGTGTTGTCGGATTTTGCGCCGTATCTGTCTGGAAAGGTGTATCTTTGGTTAGTCCAACAGAGTCTGTTGACCCGCGACCTTTCCAGAGGGAAGTCCGTCGTAGCACGGACTTTGAGCGTTCGAGCTCCGAACAAAATCAATGGTTTCATTAAGCCTTACTCTGCCCGGAGCCGTGATGGAGAAATTACGAGGAGCCATGATAATGTGTTCTTAAGTACTAAGAAAGTTATGCGCGAAGCTGTAAGCTACGCGTTGGGCCTGTGGCGTCATTGGTCATCGGATCTAAGGAGACTCTACTACAGTCAACACCACCAGATCGATGTCGGTTAGGTAAGACATCCGCAGCAGACCTTAACAAGAAATATAGAAGTATCATTATTACAAAAAAAAGGTATCGCCAGACCTAGTAAGTGTCGGAGGAAACAGCCGCTGGAGATGCGCCATTTATATCCTATGGCTTCTTTCATCATGCAAGCTGATATCCCGGCCCCAGGTGCCAGAGCGTAATCGACCCGAAGGAGTCTTCGATCGGGCAGAGGACTGGTCTTACAAAAGAGA\"\n",
              " \"CACCACATGCCCACCGTCCCAAGACGGCAATACGCACAAGCCCGAGACTCGCCGAACGAGGTAGTAACACAATGGAGGCTGTCTCTGAACTATGGTTAGCAAGGAAGACACTGCTGCATTTGTGACAAAGCTCCTCAGGCTACGCCCGAATCATAAAATTGCTGAATACTGTGGTGGATCAATTTGGAAGTATAACGGTGTACCGGTCGCTTGCTAGCCGTAGAAGCGCAGAAGTCTTGGCGGTTCCTTCCCGCTCGATCACGAGGACGAGGTCGACTAGGAAGACTGCGAATAATGCCCTACTTCATTTATCGATGGAGCTATAGATTAGGTATGGGTGAGGGTGCACGGAGTAAATCGTTAGGTGTCTTCTGAATTGCAGTTACAAGGGCTGGGAATGACATCAACGATGATACTAATTCGCTTTGGCTTCCTCATAAGGTTTGAATACCGCAGTTGAAACCGGCCAGATCAACGATCGTTAATCACCTCGGCGGCGAATTGCAGCATCACAATCGGTTTTAGCTCAGCCGAAAACTCTTGCTCCCGAGAATAGTGCTATTTGTGCCTTCTTTCCTATTGGTCGCGTAACCTGCCGAGTCTTGCCCTGCTATGTAACCCGCGCGGTTATTACTTGCCTACTTCACCATAGTATGTGGGGTGTTCCGACTTATCCCCATACAACCCACAAACCCCCCTTACGAGTCACGGTACCCCTCTTTCCATCAAAATAAGTCCTTATGGGAGGCCAGCTATTGCACCCGAACGCCACCAGATGACACAGGCCTACCAGTGTCCTGAGGGCACCCCACCGGTAGCACGGAATATTACGGCTGCCTACTCAAGCGGTATGCCCCTCTTGATGTGTTAGCTAGAATGTTTATTTATCCCCTTACCCACGACAGCCATCGATTAAACTAATTAGTTGCTACGCATACGACCTACATACAATGATTGACTGGAATCGGGACCGTATTTAAGCTTTGGTTCCGAGGCCTGT\"\n",
              " \"TAAATCATCAGGATCGGTAAGTATGCGAGGGCATTTTGAGCGCAGCAAATTGTGGGGTGGTGTAACGTAGCCACGCGAACGTGAGTTAAAATCTGTGTGTTAACATTTGTTAAATGGGTGTGAGGCGTCGCACAAATCGGACGTCCGGACGGCTAGCTGAGCTTCGGTGTGTATGAAAGGCGGACGACACGGACTCTGATGTATGGTGCGAGTTATAACTATTAACTATACTTCCCTAATCATACCACTTCGTAACGCTACGCTTGATACTTGAAATAGTGTACCGTAGGCTCGCGAGAAGCCATGCAATCCCACGCTGCGCGCTAACAATGACATGAATAACGCATCTCTTCTCAATAAGAACGCAGTCAAGGGAAACAAGGAACAAAGGTCACTCGACGGGCTCCCAGTGTGATCTAAGGAACCTTGTGGGACATTGGGAACCTTTCTCTCACGAAGGACATCTGCTTAGTGTTCCCTTATGGGTACTATGAACCAGCTAGATTTAAAGTGAAGAGTTGTACTTGTAGGTGAGGTCCGGCATACACGACTATCGGCAAAAAACGTTCTGTGGCTAGTAGTGGGGTCCTGAGTCGGGCATCTAGCTCTCTAAAACCACGCTTGATTCTCCGTGAAGTACGTTCTTTCCGCCCGTGGCTCGCGCAGAGTTGTGGAACCTAGTCGGATCGTACATTCCTCGAACTGTGTTCTCCCGTTTTAGTGTGCCGCACCATGTTTTCATACTGAGTCACATAACCATCTCGCTTGGCTTGAGCTGTCCGGGGCAACTGAAGTAAAGGGCCAGGCATGGTAACCATACACGGTCACCTCCAGAACTTTGACGACAACCGGGGCTTTGACGGTAGTGTACGCCATCAATAATAGCAATAATGGGCGAAATCAGCGAAGAGTCACTCCTCGATGGCGATGGTTGCATGTATTCGGCAACGCCGAACACAATGGGTAGTCCCGCGACCCGTACGTAACCAGGACACCATCA\"\n",
              " \"ATCGCCTCCTGCGGTATGTTACCAAAGGCAGTCGTTTAAACCTGTCTGCTCGGGCAATGATTCGATGGATATAAAACCACAGCGCGACGTCGTGAAGTTACTGAATAGCTAAATCTAACTACAACGTTACATACGTACATCCCCGCGCTATTTCCATGGTGATAGACAACATGTTCTTCCTAGCACACATATTCTCCTGCATGCTCAAGACTGCATTAGTTTGTGTCCGTGAGCAGGTCTCCCCGTACCCGTACGCATGTGCGGACTCCAAGATACGCCTGGATACGTGATTAACCGCGTAGCTGCTAGTAATGGGTGTCTGCTATGTCTAAACTTATTGAACTTGGAGCAAACGGCTCTCACTATAATCGTATCGCGTTTACACAATGATGTCCTGTGACATATCTGCAAGGGTTTGTGTAAGTTGCGTTCACAGTACTTTTGAGCATGCGGATATGCAGGCTTCACGAAATCGTATTATAAGGCAAGGGTCTCAGAACCTTCCCCATACGCGCCTGTTGAGTAGTTCGTCCGTATACCGCGACCGGGATTTTGTGATAAAACGTATAGAACTACGCCGGGCTTCTGCGAGTTTTCTTGAGCGGTGGACGCCTTATCGGAATTAACTTCAGCTGTTAGTTGCTAAGCTCATCTGGTTGAGTGACTCACAGCCCTCGCAACATAGTTAAGCGATTGTGCCTTTCATGCAAACCATACCGAGTGCTAGTAGATAAAAAACCTAAGATCTGCCCAGTCTAGGTCATAAACTGCGTTACCTCGTGCGCTCTCCTACCAGCCATACTAATGTGCACCCGAGGAAACGGTTTGAGTCTTAAATCTTGGGGTCTCACCAGAAGTCTGCGCGGGATGGACTTACACGCTGCCGCTGTATGTATCGCTAGCTTCGCATTTAATTACGGCGAGAAACACGCATTCTAGACGTGAGGGGCGTAGAATATACAACACAACTTTCACGGGGCACCTTTGTCACAAAAGGACG\"\n",
              " \"CTCATGGAGGACCATCAGGTTCTGTGGCTCCACCTGCGAATTAATTGATTTAGGCAACGGCTGAGTGTGCGCGGGGTATTAGAGACACCGGTTCCCCGCAGAAGCGTCTAATATGACGCTACGGTCACCAGTCCTTCATCCCTGGCTTATGTCGCGTTAATTATGGAGCGCACGTACATAAGGGCCGGACGGGTTCAAGATTTGATACAACGGCTACCAGTAAGACGCCCATCACAACTCAACCAGTCTTACGAATGGGAAAATGATGACAATACCATAGCTTCCTGAGCAAGTAATATGTGGAAGCACCGAAAGAAACATTACTGGACGCAAAGGTTGCGAGAAGTAGCATCATGAGAAATCGCGCTACAGACGCAAACTCAGTCACGAAGCGCATCATTGGACAATCTATTGGTTGACGTTCCTAGGGCGTTCTAACGCCTGGTCGGGGGTGCTAGATTGCTGTATGGAAAGAATATTGGTTCCCGCTACGGCATGCGCTCCAAATAGAGGCAGGATAGCTTGGCCATCACGGCTCTACACACTGGGGCGGGGGACCGACCAAGGAGTACTTCCTATATAAATCGAGTCGATACAGGTTTGGGGTGTCGGTTATACAACAGACCTCGCCGCCCCCCGGAGTTACCTCGGTTTACTGATTATTCCCTGATCGGCGAGGGAGTTCTGGACTAGTCAGACTCGCCCACCCATGCCCTCCCTCATGCAGACAACAAGGATCTGGTAGTTTGCCCACACTCCGGACGCGAACCTACATCGTGATAACACGATCGCGGACCGCAGCGGTGGGAGTCTCGGCCGGCGGATTGGCATAAAGCCGATACGTATAGCAGATACAAACCCACTTGCTGGTGGGTTATGGCACTACAGGATTGTTCTCCGAAGCTGTTCCGGCGTGACACAATTACGCTGTCGTGAGACGGTAGCCTCCCGGATCAACCGCCTACTCCTTAATTAGACCCGCGTCTTGAGTACATTGGGA\"\n",
              " \"CATGTATGCACGGGTCTACCAAGACGCCGGCCTTTTGGATACACCCACTGATTGTAAACGGCCTCAAATACGGTCATATACAGCTTCAGGGGATTTCCATATTACTCTCATAAAGAAATTTCTCCATACCCTCACGCAGTCACCAATTGGCACACGTGTTCAACCTGGAACCTGCGATTCTGAGATTTGCCTCATAGAGAGCTGATAGTCATACTCAGGTTCCACGACCGGAGAACCATAGTTCCCCCGGAGAGCCTACTAGGGCAAACCATTTACACATAGTCGTCTCAGAAGTAAGGCCCAAAGAGGATCTCAGATTGCGTTGACCGCCACGAGCACTTAAACGAGCCCTCGCAAACAGGCGGGACGCACAAAGATCCTACCGTTTATTATTTAACGACTGCCTTGCTATCGTATAGATGAGCGTTCTGGGTTCCGATATGATGGTTAATCACCTCCTACATGCTGCTCTAGGGATCACGCGATTCATCTAGGGCGACCGCTCCTAGGTTAAAGATCGCAGTTATTGGGGGCCGATTGATAGCAACGTCTGTTGGAAGGGACGGCCCGCATCACCGGTCTGAGAAGGGTGCCGCCGGCATTGTTATGGGGGAGACCCAGCAGACCGAGCGCGCGACTTGATCAGACAAACTATTAGGGTAGGCTTGCTTGGACAGTTCGACAGGCTAGGAACAACTAATAGAGTAAGGCGGCATATCTATAGAACATGAGAATTCAACAAAGCTTTACCGGAGAGAACGAACCGGTGACTGTGGCAGATGTGTAGCAGCTTAATGTATACGCTATGCCACTATGAACCTCTTCGTAGACTCCACAGGGTCGTATAGTCTATCCATAAGCTTCCAACTGCTACTTTTTATAAAATCCGAATGGAAGAAAAAATTACCTCAGTCTTTACTCTAACTTACAGTCACTCTTTGGAAGAATAGCACCCGGTTTGGTCCACTTCCGGATGAGGTTTTTATGCCAGTCAAAGTTA\"\n",
              " \"GACTATCGTGCTGTGTATCCTGGACGTATTAAGGGATACAACGGTATTAATTCGTTTGTTCTGTTACGGGCCAACCCGTTCAACGGTTATAAGTCGGCATCCCGCAAAGCGAGCACGGCCCCGCAACTTTCCTAAGAGGAGTAAGGGAATGCCCGTCAGCCTGCTATGGCGCCATGCGGACCTGTCAATTACGCAGGTACAGCACATTCGTGTGCCGAGTGCTACGATCAAAGGAGAACCCCCGGCGAGTCAACCAAAGCCGGTGTGCTGAGGGCTAAGGTTTGGTTACGTTCTATCTGGGGGCGGCAGCATTCGGTGCGATATATAGCAACCAACATCCTCTTCTAGCAAGACCGTCGGAGCATATTCGCGATTTGCACACGGTGGCGTAGTTGCACCAGAGCCGACTACTGTACAAGCCGGTCTTACGTGTCCAGTACCTAGTCTACATGGCGAAGCTAACGTCCTTTAAATCCCGGATTGAGTATCCGTTTGAAGACAGCAAGACACCAGCAAATGACAGGGACGATCCACTGCTACACCTATTTCTGCACTTCTCTCATGGCACTGGTAGTCCTAATGGTGTCGGTAGAGCAAAATTCACGAGATGTGGTCCCCTAGCCAGGTACCTAACGATGGGGACGGATTGGGAACCCACGCGATAGGTTTGTCTATAGTGGTGTAGGTGATTTGATGTGCTAGGGACACGTCTCGTCATACTAGTAAATCTTACAGTCAGTTGGTGCAGGGAAATTTCACAGCAGCTTTGAGCACGGGTAAGCCGTCATCTGTCCCAACGGCGTTTCCGGGGATTCCCTTGATCCAGAGATCACACATAATGTCTAGGTGACTGATCCTGAATTGACGACTCTGGTCCCTTCCACGCCGAGACTTTAAGCCTGAGTAATACTGAAGCATCCAGCTTACAACCATCTCCTAATTTCTGTCCAGGGAGCTCAGGCAACCCAGATTCGTGAGCGATGTCTTTTGACTCGCCCTC\"\n",
              " \"TTGTCTGAGTCACTGCGTGCAATAATACATCGTAATTAGTATTTGGGAAATTCCTCTGGAGGGAACTGGGACTCGGCGGTCGAGCATTGCCGTTGAACAATCAGGTCTGTTAGTTGGGTGCCATCAGGGTGCTTTGAAGTCCGAGACATCGTATGCAGATTCGCGACGTCCGGTATGCTGGATTGTCCTAAAGCTGAGAAAATATTCCCCGTCCTGTCTACCGTATGATTCCAGCTCGGCCTCTTGTAGTGCCGATAACAGGTTCACGTTCGTGAAATTCTGCGTATATAATAGCTTGCCTATAAACCCAGAATTAGACCCTTACAGCTATAAGATGTGAGCCCCGGACCCTCCGCATCCTGCCTCCTCGGAGTGTGTAAGTATTTTAGCGACTATAAAGAGGTCTCGGGTTCCACCCTATCATGGGAGTTTATCACCAAGACAACTGTCATCGCCCGTCGGGGCATTCCTCGACGAGACCACTCATGTTTGCCCGTTAAATGAGAGTTACCAAATAGACTCACTCCTACCTGACCGGGCGAATGAGTGACTTGTAGCCACTTTCGAATTCCCAATTCAACAGCTAAAATGACTGGCAACTGACTCAGTCCTAAAAAATGTGCTACTCACACAATACCCCTAATCTGCAACGCCTCTAGTAATACTACGTTAAAAGCAACGGCTGAGCATTAATGGGTAGACTACAGCATCAGGGGGACTGAGGTGGGTAGGGATACCTAACATACCGCAGAGCCTCTCCGTAAGTCTCGCCCATCAGCTCGGCAAAAACGTAGCCGCCATCACGGGTGAATGGATAGGTTCGGAGATTCGATTTCACACGTCGGCCACAATAGCGATGGGCAGTTCATCGCCCCATAGGCAGGGGACTCCGTCGGATGAGATATGCTCGCTCAACTCGGATGCTCATGCCGCTTGCGCCCCAACACGTCCTACGTGTGCCATATAAAATCAGATTTGCGCCTACTGCCGCCTAACGGTT\"\n",
              " \"CTTTCGGGCTGTCGGAATTTCGACTATCCTAGTTTTGACCGATAGGTTTAACGCCATATCCGGGGTTTTAGGAGTTGTGGGACCGGCGAGATATAATACGGTTAATAGTCGTACTCATATGCTCCTGGGGCGCTTAGGAAAGCCATGTCTAACCGTATGCTGACGAGGAAGTGTGCAGGGCAGAGGGACTCCTACTACCGGGTATTTAATTCGAACCAGGAGTATCCTCAGTTGTGTCTCTTCCTGTGGCCCCCAGAGAAGAACAGCGCTGGGTATATTACCTAAGGTTCACTATGGTGAGAAAAAGTCATGCTTAAGCTGCCGCATTGTGGGACTGCGCTGAACAGCACAGTAGACCCTAACCCATTCTTCCTCGACTGGCTCGGCACCGAGTAATGTAGTGTTCTGGGAAACAGATGCTCTTGATGTTCCATATAAGCTCCTGTGGTCCCTCAGGTTGATGTTATTCTACTAACTTGCGAGTGTCATTCTTATGGTAGCTCAGTTCTTGGGACTTTGGTGAGGAGATGACACACGCTTGTATCTCCGGTTGTCAAATCCCCTATAGCGCGCTCGATTTGCTGCAGGTCCAATCCTGCATCGGAACCGCTGGTGATCTATAGTAGAGGACGGGAGGAAGCTTTATAAGTCCCGTGATGCGGGCGAGGGATTCTGTGACAGGATTAGTGGTCTGATGTTGTTCCTGCTGCACCCGGCATACCGCGATGTAAGAGGCGCAAACACTAGACCACGTTGATTGGCCATTCGTTCGCAGTGGCAGGCTCACTGTAGGGGTTGTGAAGCACCACACAAAACCACACCCAGCTTTATCTGCGACATAAGAGTCATGGCGCAAGTGGAGACCGTAGAAATCTCCTGTTGCCCTCAACAAAGTATGGGGGGGTACGGTAGACAAAACTGTTGACTCCCGCATCTTATCGTTCCCCTTTCGACAGCTTAAGACCTCTATCCGAACTGAGGTGGTGCTTTTGCACCCAAC\""
            ]
          },
          "metadata": {
            "tags": []
          },
          "execution_count": 8
        }
      ]
    },
    {
      "cell_type": "code",
      "metadata": {
        "id": "sUDMq5OPD_H6",
        "outputId": "315be2e8-5758-4a29-be37-d6f53cc1fca2",
        "colab": {
          "base_uri": "https://localhost:8080/"
        }
      },
      "source": [
        "function MSA_to_TSP(sequences)\n",
        "  node = []\n",
        "  for i in 1:length(sequences)\n",
        "    push!(node,sequences[i])\n",
        "  end\n",
        "\n",
        "  graph = Array{Tuple{Int64,Int64,Float64},1}(undef,0)\n",
        "  for i in 1:length(node)\n",
        "    for j in i+1:length(node)\n",
        "      score, align1, align2 = get_alignment_score(node[i],node[j]) \n",
        "      push!(graph, (i, j, score))\n",
        "    end\n",
        "  end\n",
        "\n",
        "  return graph\n",
        "end"
      ],
      "execution_count": null,
      "outputs": [
        {
          "output_type": "execute_result",
          "data": {
            "text/plain": [
              "MSA_to_TSP (generic function with 1 method)"
            ]
          },
          "metadata": {
            "tags": []
          },
          "execution_count": 19
        }
      ]
    },
    {
      "cell_type": "code",
      "metadata": {
        "id": "9K_9s4f1EA34",
        "outputId": "fdd78cf6-1bda-4632-9f15-96db8a29ba64",
        "colab": {
          "base_uri": "https://localhost:8080/"
        }
      },
      "source": [
        "# test MSA_to_TSP here\n",
        "MSA_to_TSP(data)"
      ],
      "execution_count": null,
      "outputs": [
        {
          "output_type": "execute_result",
          "data": {
            "text/plain": [
              "45-element Array{Tuple{Int64,Int64,Float64},1}:\n",
              " (1, 2, 114.0)\n",
              " (1, 3, 91.0)\n",
              " (1, 4, 93.0)\n",
              " (1, 5, 105.0)\n",
              " (1, 6, 96.0)\n",
              " (1, 7, 90.0)\n",
              " (1, 8, 109.0)\n",
              " (1, 9, 109.0)\n",
              " (1, 10, 93.0)\n",
              " (2, 3, 73.0)\n",
              " (2, 4, 106.0)\n",
              " (2, 5, 126.0)\n",
              " (2, 6, 73.0)\n",
              " ⋮\n",
              " (5, 9, 101.0)\n",
              " (5, 10, 92.0)\n",
              " (6, 7, 89.0)\n",
              " (6, 8, 93.0)\n",
              " (6, 9, 79.0)\n",
              " (6, 10, 102.0)\n",
              " (7, 8, 88.0)\n",
              " (7, 9, 87.0)\n",
              " (7, 10, 112.0)\n",
              " (8, 9, 103.0)\n",
              " (8, 10, 109.0)\n",
              " (9, 10, 98.0)"
            ]
          },
          "metadata": {
            "tags": []
          },
          "execution_count": 20
        }
      ]
    },
    {
      "cell_type": "code",
      "metadata": {
        "id": "dvG_lQ3kECn1",
        "outputId": "9e45eff9-34f7-4181-9577-dadfbd98a763",
        "colab": {
          "base_uri": "https://localhost:8080/"
        }
      },
      "source": [
        "function get_alignment_score(v, w, match_penalty=1, mismatch_penalty=-1, deletion_penalty=-1)\n",
        "    n1 = length(v)\n",
        "    n2 = length(w)\n",
        "    #if !use_preallocated_matrices\n",
        "    s = zeros(Float64, n1+1, n2+1)\n",
        "    b = zeros(Float64, n1+1, n2+1)\n",
        "    #end\n",
        "\n",
        "    for i in 1:(n1+1)\n",
        "        s[i,1] = (i-1) * deletion_penalty\n",
        "        b[i,1] = 2\n",
        "    end\n",
        "    for j in 1:(n2+1)\n",
        "        s[1,j] = (j-1) * deletion_penalty\n",
        "        b[1,j] = 3\n",
        "    end\n",
        "\n",
        "    for i in 2:(n1+1)\n",
        "        for j in 2:(n2+1)\n",
        "            if v[i-1] == w[j-1]\n",
        "                ms = s[i-1,j-1] + match_penalty\n",
        "            else\n",
        "                # ignore cases where a letter is paired with a gap\n",
        "                # do not consider this a mismatch\n",
        "                # if v[i-1] != '-' && w[j-1] != '-'\n",
        "                #     ms = s[i-1,j-1] + mismatch_penalty\n",
        "                # else\n",
        "                #     # if a letter is paired with a gap, add no penalty\n",
        "                #     ms = s[i-1,j-1] #+ match_penalty # + 0.5 * mismatch_penalty\n",
        "                # end\n",
        "                ms = s[i-1,j-1] + mismatch_penalty\n",
        "            end\n",
        "            test = [ms, s[i-1,j] + deletion_penalty, s[i,j-1] + deletion_penalty]\n",
        "            p = argmax(test)\n",
        "            s[i,j] = test[p]\n",
        "            b[i,j] = p\n",
        "        end\n",
        "    end\n",
        "\n",
        "    i = n1+1\n",
        "    j = n2+1\n",
        "    sv = []\n",
        "    sw = []\n",
        "    while(i > 1 || j > 1)\n",
        "        p = b[i,j]\n",
        "        if (p == 1)\n",
        "            i = i-1\n",
        "            j = j-1\n",
        "            push!(sv, v[i])\n",
        "            push!(sw, w[j])\n",
        "        elseif p == 2\n",
        "            i=i-1\n",
        "            push!(sv, v[i])\n",
        "            push!(sw, \"-\")\n",
        "        elseif p == 3\n",
        "            j = j-1\n",
        "            push!(sv, \"-\")\n",
        "            push!(sw, w[j])\n",
        "        else\n",
        "            break\n",
        "        end\n",
        "    end\n",
        "\n",
        "    return (s[n1+1,n2+1], join(reverse(sv)), join(reverse(sw)))\n",
        "end"
      ],
      "execution_count": null,
      "outputs": [
        {
          "output_type": "execute_result",
          "data": {
            "text/plain": [
              "get_alignment_score (generic function with 4 methods)"
            ]
          },
          "metadata": {
            "tags": []
          },
          "execution_count": 11
        }
      ]
    },
    {
      "cell_type": "code",
      "metadata": {
        "id": "7CMhuwFhEGUx",
        "outputId": "3b8bf4af-64ad-4afd-ffc6-4da3d913c7a3",
        "colab": {
          "base_uri": "https://localhost:8080/"
        }
      },
      "source": [
        "# test get_alignment_score here\n",
        "sequences = generate_sequences(10,1000)\n",
        "score, align1, align2 = get_alignment_score(sequences[1],sequences[2])\n",
        "println(\"Score = \",score)\n",
        "println(\"Alignment of fir sequence = \",align1)\n",
        "println(\"Alignment of sec sequence = \",align2)"
      ],
      "execution_count": null,
      "outputs": [
        {
          "output_type": "stream",
          "text": [
            "Score = 91.0\n",
            "Alignment of fir sequence = -CA-ACACGCTCTTCCGCG-CATATA-AGGGGTTAAGGCCGCGGTAAGA-GA-CGCATTGCTGCAACAATTA-TATC--TA-G-CCATTTCTTGCCTGACACAGG-TC-TG---GCGTGCTTAG-CT-TAATC-CTCG-CC----CAA-TCCTTAGA-GTGGGCTTACT-TC-CG-A-CACCCGC-GCT-GGTCAATTGACG-C-GCTCA--TTACTT--CGAAGATGACATTTCTACGTGCCGAGGGACCCTT--GGTGCGAGTTGAG-GGAT-CTGAT---A--CGTAACTTCGCACCC-TT---TG---A--GTAACATTTTGCCAGG-GCTT-GTTTTGTAGTTCTGTCCGCC-GCGACAGTTAGATTGTCACA-A--CG-G--GTG--CGTACTAAA-GA-TT-CGTCTGGAGC--CA-ACGCCTG-A-CGTATA-CTCGCCCCCCCCCCCTATC-ATGCCGCA-CAATAAC--G-GTC-ACTTCGAGGACCCGTACAAATGTGTATCTGCAAATACGACTGCAGTGTACATCGCTCCGACCGG-ACAATC--AAATGCTGATAAGC-TTAATG-AT-A-CTGATGCAC-TCTGATAGAGCTGAGTTCTA-CGA--C---AACA-G--GGTGC-G-GATAGAGC-TAATCAACAGGCTCGTGCGGCTTCCGTCCGGGATCAG-C-TTGGGGTCCTCCCGGTGTCAGCTGATGTTC-CGTAGTAAAAAACTGTCGGGATCGGACCCCGCCATAACC-TCCCGTCCG--G--GAT--TCTTA-GTG---G--T-T-ACCCTATGTTAG---ACTA-CCATTGCGC-TATCAGCTCGCCGCGCAGACCTCACGACTTCATAAACAATTCTTTG-GT---TAACA-CTAC-TACTTGTAAA-CCGCGATTTT---CAATGTG-AGAGAAACG-GTGTTC-T-CA-AAATTCG-GAGTAGCTTAGGGTGATTCT--TA-TGCGATCGGT---GGATT-TCTCG-GCAAAGTCGGAGGCACGGAATGGATC-CTGTGTGA-AGTATAAC-AGATAGAGGAGCCA-ATAGAAG-CCTC-GCGCT-AAAATACCGGCGGGGCGTG-ATTAGTGCA--GGACATTTG-CGGTAACT-TCCCCGAAACAGTCTAGCAGGCCGT--TAT\n",
            "Alignment of sec sequence = TGAGATA-GGGAATCCG-GACCGATACA--TCTT--CG-CTTGGTTAGACGATC-CCTTTC-G-AA-AA--ACT-TCGGCAGGTCCGCTT-ATACCT--CACCGGCACTTGCCAGCGTGC--CGCCTCCGATCAC-GGACCTTGGGAACTGCACAGAGGT-AACTT--TGTCAGGTATCGCCAACTGCTCCGTC--TT-AAGTCAG-T-AGTTTA-TTCACGTAG-TG--A--TC-AAGT---GAGCGA-ACTTCAAATG-GACATAAGAGTTTCCT-ATAAAACTCGGAA-TTC-CACCCATTGCCTGCACACGGTAA-ATCTT--C-GGCGGTTGGCACAG-AATACTCACGGCCGGC-A-AG--AG-TCG-CAAATACCCGTGAAGGGAACGT-GTAAATCATTTGCGAATTTA-CTTCATCCGGGTGCAGCCAAAAGCT-GTGCCCACTTCGTTTCTCTGCTTCATCAACGACGGGAGTCGACTT-TA-GA-CCG--C-GATG-ACAT-AG-AAGTCCCAC-GCAGTCT--ATC-CT-ATA-AGGAACTAGCGGAACT-CGGCTCAGCTTTTATGCCTAAGGGGTTGCCCGCCTGACACAG--AATTTCTATCTATTCTGTAA-ATGCCCATTCAGCGAT-GCCCGTAATC-GCA-TCT-GAACGTCTT--ATAC---AT-AGACATT---G-AC-ACCGGT-T---CT--TGCCCGCGAAGTTACGAA-TG-C----TCTG---CCTCC-TTACCGTAGCGT-GGTAGAAGATCAT-TTACGTGCCCGTTTATAACTCTCTGGGAGCTCAGTATCGAGTGCGCATAT-AGATAAACG-GC-GGCCT-A--A-TT-AT----AA--GTTTGCGTCCCGAA-AGGTTCGT-C-GGAAAATCTGAG-TTTTACGCAAAGTGCTGAG---CGCGAG--CATGCATTCATCCGAGAGT-GTTTCGAAT--TTCTGATACACCGCTTGGTAAAGTATTGTC-CGCGCAGA-T-GTATTC-C---A--GATCAC--T-TCACAGGCTACCTAGATAG-GG-GTCACATA-AGGTCC-CAG-GCTCAGAA-AGTGTC-TTCCCTGCACCAGTGCATTTGAC--TTGAC--TAGGTGT--CCGGGTC-CTCTAG-AGG-AGTGCGGT\n"
          ],
          "name": "stdout"
        }
      ]
    },
    {
      "cell_type": "code",
      "metadata": {
        "id": "nv_A8lC4EIKs"
      },
      "source": [
        "function ACO_on_TSP()\n",
        "end"
      ],
      "execution_count": null,
      "outputs": []
    },
    {
      "cell_type": "code",
      "metadata": {
        "id": "YInsT-ngEJ69"
      },
      "source": [
        "# test ACO_on_TSP here"
      ],
      "execution_count": null,
      "outputs": []
    },
    {
      "cell_type": "code",
      "metadata": {
        "id": "3sD0CKnOELi7"
      },
      "source": [
        "function TSP_to_MSA()\n",
        "end"
      ],
      "execution_count": null,
      "outputs": []
    },
    {
      "cell_type": "code",
      "metadata": {
        "id": "CXTxRSSbENOz"
      },
      "source": [
        "# test TSP_to_MSA here"
      ],
      "execution_count": null,
      "outputs": []
    }
  ]
}