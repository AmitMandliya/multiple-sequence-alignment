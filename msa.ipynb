{
 "cells": [
  {
   "cell_type": "markdown",
   "metadata": {
    "id": "tQ1r1bbb0yBv"
   },
   "source": [
    "# <img src=\"https://github.com/JuliaLang/julia-logo-graphics/raw/master/images/julia-logo-color.png\" height=\"100\" /> _Colab Notebook Template_\n",
    "\n",
    "## Instructions\n",
    "1. Work on a copy of this notebook: _File_ > _Save a copy in Drive_ (you will need a Google account). Alternatively, you can download the notebook using _File_ > _Download .ipynb_, then upload it to [Colab](https://colab.research.google.com/).\n",
    "2. If you need a GPU: _Runtime_ > _Change runtime type_ > _Harware accelerator_ = _GPU_.\n",
    "3. Execute the following cell (click on it and press Ctrl+Enter) to install Julia, IJulia and other packages (if needed, update `JULIA_VERSION` and the other parameters). This takes a couple of minutes.\n",
    "4. Reload this page (press Ctrl+R, or ⌘+R, or the F5 key) and continue to the next section.\n",
    "\n",
    "_Notes_:\n",
    "* If your Colab Runtime gets reset (e.g., due to inactivity), repeat steps 2, 3 and 4.\n",
    "* After installation, if you want to change the Julia version or activate/deactivate the GPU, you will need to reset the Runtime: _Runtime_ > _Factory reset runtime_ and repeat steps 3 and 4."
   ]
  },
  {
   "cell_type": "markdown",
   "metadata": {
    "id": "-OS3Ac017T1i"
   },
   "source": [
    "# Checking the Installation\n",
    "The `versioninfo()` function should print your Julia version and some other info about the system:"
   ]
  },
  {
   "cell_type": "code",
   "execution_count": 1,
   "metadata": {
    "id": "SpW680oEHhyw"
   },
   "outputs": [],
   "source": [
    "using Random\n",
    "using Printf\n",
    "using Dates"
   ]
  },
  {
   "cell_type": "code",
   "execution_count": 2,
   "metadata": {
    "colab": {
     "base_uri": "https://localhost:8080/"
    },
    "id": "FK2cx5xLDvRd",
    "outputId": "e43ca21f-dbe6-4441-d77c-2a490de13666"
   },
   "outputs": [
    {
     "data": {
      "text/plain": [
       "generate_sequences (generic function with 1 method)"
      ]
     },
     "execution_count": 2,
     "metadata": {},
     "output_type": "execute_result"
    }
   ],
   "source": [
    "# Generates t sequences all of length l, and returns an array of strings\n",
    "function generate_sequences(t::Int64, l::Int64)\n",
    "   # t is the number of sequences to create\n",
    "    # l is the length of the sequences\n",
    "    DNA = Array{String,1}(undef,0)\n",
    "    base_arr = [\"A\", \"T\", \"G\", \"C\"]\n",
    "\n",
    "    for t_index in 1:t\n",
    "        push!(DNA, \"\")\n",
    "        for l_value in 1:l\n",
    "            r = convert(Int64, floor(Random.rand() * 4) + 1)\n",
    "            DNA[t_index] = string(DNA[t_index], base_arr[r])\n",
    "        end\n",
    "    end\n",
    "    return DNA    \n",
    "end"
   ]
  },
  {
   "cell_type": "code",
   "execution_count": null,
   "metadata": {
    "colab": {
     "base_uri": "https://localhost:8080/"
    },
    "id": "oRlr0qXpD-ji",
    "outputId": "10c6eba4-b97b-452a-f1c1-7e5ad68e4f26"
   },
   "outputs": [
    {
     "data": {
      "text/plain": [
       "10-element Array{String,1}:\n",
       " \"GGCTGGAGGGAAAAACGATGATACACTTAGGGATTCAGTGTTGGTCATTACTCTCGATGTGTGTCGAGGAGGTATGCCGGCGACCTGGTGCCTCTCGCCAATAGGCCGTCCCCGATTAGTTAATGATGACGGTTAACGACTTCGCGGGGGTTTTCACAGAATATTGGTGGTTCAGGGCGAATTCCGATTGACTGTAGGTTGTTCTCCGAATCCGCAGGAATGGAGTCAGCTGTCTAGTTTCACAACCCAGCGGTTGCACTTGTTCAAAAGGGCTTTATTGTCAGGTGGTTACCATCGTCACCGTGCCGCTGGGATCATAATCACCCGGCCGCTAAATTACTAAGCGGAATAATTTTGTCACACGCACCTCGATCCACAATCCTCGTTTGCTTTGCAGTCCACTGGCGAAAGGCTTGGGCGGTTAGCAGGGCTTATAGTCTTTGATTCGCTTGCTAGACAAAGTGCACCGTATTGTACGTGTAGGAGAAGCGACATTTTTGTCTCTGATACGTGAATCACTAGCTATTTTGCGCTAAGTCGCAGTGTATATATGCAGACCGAGGCAAAGTTATTCCCTATGTGCATTTATAGCCATATGCGTGCACTATTTCGGCATCTCCTCTTGGCGCAAATGAGCAAGGGCTGTGTTACGATAGCCCCACACCGTTGGCTAGCGAACTACCGTGATTTACCCCCTAATAACACTGTGATCAGTTACGCAGCTTTTTCGATGGATTGACGTTTGTCGTGCCCTCTCATTGATTGTTCTAAATTCAAGTTTGCAACGGCAGCCATACTTACAGGCTTGGGTGACATTAGTGCGAGTTTGGGTTCCAACAGACGGATTTCTGCGTAGATAACACTCCGAATCCTGATCATAGATGAGGCTGAACGCGTAGTCAGCGTTTGAGACGCGCGCATTTTGTGCATGTCGGCGCTTTTACGGTCTTCGTGTGCCACTCCAGAAATAGTTACGATATGACTATGGTACGGCTTACAG\"\n",
       " \"ACGGCCACTATACGAGTATTCGTCATTCTAGGCTGTAACATTTTCGTTTTAAATCCACCGTCTGAAGGCAAGAGCGAATGATACTGGTGGTCCAATTTCCGCTACGCACGAGCAGATCAGTCACTTAGAGATTGTCGTACCGACGTAAGGAGCGAATTGAAGCTGTCGCACCGCCGATACCTAAGTCAGCCCGTTCTGTGCCGAGGGTCCGCTCTCTGGAATTTTTTGGGTGTTGCTAGGTTCCCGCCGGTTTCGGCCCAGAGGCTGTTCACACGTACGCTGATACCAATTAATCATGCTTGGGGTTACTAAGCGTACTGAGAGTGTAGCAAAGCGTTGGGAACAGTCAGATCACACCTACATACGGCACTCATAGTCTGCTCCCGCATACCGAAGGCGAACTGGGACTCCGTGGTGAAACAAAAGATTTTTTATCTCTTTTACGTCCGATCGTCTGTCTTTTTGGGTCAGTGCCTCCCATCAGATTCAACACCCGACAATCTCTCACATGGGCAAGCCCCCGTCCCCTCCTATGGGGGAATACGCCAACCGCGTACTTTTTGCGAGTATGATACCGCAAGTGGTTTGCGTTATTGCTGGGAGAGGCTGTACTGCAAGAGATAACTGGATGAGACAGTCGATATGCCCGCTGTCGAACTCCGAGATTTTACTATATTTACTTCCAAAGGATTCCTTCCCCCTGAGCCGGCAGGGGGTTCAGCGCATATGACCAGCCGTCTATATAGAAATTTGGACAAGCTGTCGTACATACTACGACTTGCACCGTTCCTGCTCTTAAACTCAGCTCAGGGCGTAGGTTCCATCGCTTTTTTATGCTACCGAACTGATAGAGCAAGCGTCGCCTTTTTGCAGTGGGCACAGAGCAGTAACTCAATGGGGCTCTAAGCATGATACATTTGGCATCGAAAGTTAGTTCTATCCGATCCCTCTGATATGTTAGAAGCTGGGTACCACCCTCACAGGAGGCAGGTTATGTTTT\"\n",
       " \"ATCCAGGATCTGAATCAAGATAAAATCAACACACGAAGTGTTCCTAGCTCATACGGGTCATGAGGGTGCCTCGCACTACCCGAGTGTTACATATTCTGAAATTATAACTAAATATACAGTCGGGCTCGCAGGACTGCGCCCCAGCTTTCTTATATTGGTAGGTAGAGTCCGGCTTTGTAGGTTATTAAAGTTCGATGGTAACGGGCACAACCATCCACCACCAGGTACTTCCAACCACGCTCTCCGAAGTCATTTGCGGATTGCGTAACCCCGCGATAGTGCTAATGGAGTTATATAACTTGGCCAGTATCGTCGTAAGGTGATTCGTCAGGAGTCTGCTGAGGATCAGGCCGGATACATTAGGTCAGTATTGTGGTTGCTCTGGGAGTTCTTCCGCAAAGTAGCTAATAGTAAGCTATTGGGAAGTATCCAGATGCGCTACAGTCGCGGAGTTCCGCCATAACCATGATTGCAACAGCCCTAGATTTGTTCCTGAAAGTTATGTGATTGACTTTTGCAGCCTCCCATACGTGTTTTTCTCAAATCGCAACATATGATGACCCGTTCTGAGAAGACCCCTCCGGGTATTAGACTTCGAAACGCTGGCTAGTTAGAGGGGGCACGCCTTCGAGGTCAGCCTGACGACAGAGGTACCGACAGACACCGTGAAGTTCCTCCACCTGCCTGTTGCACCCCACGGCCATACACATGCCTATTAATAATTCCATTTTGCTACTAGGGACGGTAGCTTTCAGATAGTACTGATTTGTCTTACTTGGAAAAAGAAACTCCCCCTTAAGCTATGCTATCCTTTGCCACGGCTTTCTGCCCGTTCGTAGGGCTGAGTGTGGTGAAGCTTGCCTCAGAAGGCCCTAGTGCCCAGACCGATGGCATTTGCCAGATACTGCGGCTCGGCGCGTGGTTAGTTGTGCCCTTAGCCTGCTGTCCCATCCTCAGGAGTTGGCCCGTCTAGCAGCCTCACAAAGTTCCACTGTGTTGA\"\n",
       " \"ACCTTTCATAACTCTAAATCAACTCTTATTAGAGGCACCTGGGTGGGTTACAACTTTGATAGCGACTGTGACATAGGACGGTTTCCTCGAATTCTGCATTCTGTCGATCCCTACCCGTTATTAAAACCCGATTCAAGTGATATATCTAACAAATATGGCTCTCCCCAGTCCCCACCGTGGAGCCGTGAATTCAAGGGTTCGAAATCCAACCAGACTCACCCGGCACGGGACCGTTTTCACAGCGATTTCCTGGACGCATATTCGGGCCTCTAACCTCCGCAACCATATCCCCACTAGAAGTTGATGCACGAGCTAGGCCCAAATCATCTCAACGGTAGGTGGTATATCCAAGTACAGATGCTACGGCAGCAAGCGTGAGATATGTGTTACTTGCCTGTATAGGGCAGTGTCCATGAGCCTAAACCTTACATCGACAGAGGGTTGTGGCCGTACCAGAGTACCTAATACTGCAAGGTACGGCGATGAGGGACAGGGATTGCAGAAATAATAAACTAACTGTCTCCTCACTATAGGCCATCGTGCAGCCGCCCCCAAAGGCATCCCATCACAGGCTAACAGCTCGACCTCTCCGTCTCGGAATATGAGTGAACAAGGGCTAGGGATGCCGCGCCATGCTACTACATCATAACTAGACTTCTAGTCCTCTCTATGAGGATTCGTCGAGAATGCCTAAGACCCCGCACCAAGGATGCATAATCTATTGGAGACGGTCGATCGCGTAACGTCCACCTGGTACGAGGAACGGTGTAGATACCCTGCCAACGATTGCGATCGAGCCGACTCATCAGATTCGGTTGTGTTTCTGTGACTTGTCCCCAGAAACTTCTTGAAGGTGGGATCCAAGAGAAATGGTTAAAATAGACATTGCCGTGTCGGGCGTAAGAGGGGTTTCATGGCTAATCGTTTCATAGGGAAAGACACACTGTTGTGCCCAGTGTAGGGATGCGGAATCGTCTTGTGTATTGAGCATTTCAAGCTG\"\n",
       " \"TAGCAAGTCACGGCGGCATATAGCCCAACTATCATTGACACTAGCGTCCTTTTTTATTGATTCTCTGATGAGCCTAGAGTCGCCGGCAAATGATGCGAAAGGATGACGTGGAGGTAACCACCCAGGGAATCCGTTTTCAATTCATAGGACATCAACATCCTGTGCTCTCGGGACGCACCAAATTCACGCCAAACTACGCGTCGGGGGTGAGTCTAGTTGTCGCTGGCTATGGTGAACGGGTTCACAAAATTAGCTCGGCACAATAGCGTCGGTGCGTAGAGTCGCAATGTTTGTAAGCCGCTGACGTACCTTCCGTGCGGAGCCGGGGCTCCGAGACCAGGCTCATTGTACATCCGCGATGCGGGAGCTCTGAGTCACACATCCTGGATCTCGTCAACTTAGCTAGGTGCCGTGCGAGTCCGACGACTAATCCGTCCGAGTCTCGGGCCAGGAAAATCCATCTTATTCACTTCTCATCCGCGAGGGTCGTGTTCCCCAAATTTTTTAGGACTCCGGGGATCAACTGTACGGACACTTGATAAGGGGGCAGTACACGTACGGCGTTACTGACCTTTATAAATAGACATCAGTATGAGACACTTCTTGTTTAAAGAATGCCTTAATTGCCAAGATCTGAGGTTTCTCGTTATGCCGGGAGTGCTCCGTGACTCATGTCTGCCGCCGTATTTAGGTCAAATAGAACGTTGGTAAGCCGCTAACGTTAGGGACGCCGCTGCGCAAACCCTTGTGTGAGCTACTGGCGCGCTCAAATACAGAACTCTTGGGGAACGGACAGCACTCTTGTAAGGCGGCATCGGAGGGGTTATGTTCAGTGCGACGAGTGTCCGAATTTCGTAGTCATGATTGTCCCGGATTTCCCATTGAAAGATAAATACTTCCTGGTACTTGTTTACCGACCACTTCGCAGAGGCCCAACCGGCTTGACACAGGGTTCTCGAAGATTAGTCCCTGGATCGTTACATGATTAGAGTGGCCCACA\"\n",
       " \"TTCGCCAGGAGTTGGCCTACCGTAAGCATCGAGATATCGTAAGCAGGCTTCGTCGGCTTGATGTATGACCCAGTTGCTGTCTGGCTGGTACAATCCTAAATATGCCGTATTGGACCACCGCCTGCCATAGGTGCTGCACCGTAATGGAGACAATTGCGAATGGACCAGTACCGCCGAGAAGTAACGAGCGGGCTATAGGGGATGCGGACACATAGATACCGTCGTTGCACCCATCTCCCCGGGATCGCGGCTATAGTCTACTGTTGCGCCAGCCTCATTGGATAGAAGTATGCTACAGCTCCTGCCACCAAGTGCGCTATAAATAGTGACTGGCCGAAAGGCCTGAAAACCTCCCGCTTACTCCTGTGCTCTACTGGTACGCAGCTGACCGCCATACATACTAGACGATCTACTATTGTATCCCTGAGTAGGGCCATCTCACCCTGCGGACAAATTGACAGGTTCCGTTCTTCCGACACAGCCATCCCTGGCTCTTATAATAATAAGGCGCCGCTGTCTATATAATAAGGCCCGTTCCGCGAGGAGCGTGAGTCCCTGTAGCATGCCTGGGCGTTAATCGACTCGTCGTCGAAGGTGGGTATAGACGACCCAGAGGCCGCCTCCCGTCAGTCTTCGATGGTCCGTTATAAGGATGAGCACGAAGGTCAAAAAAAATTGTATGAATTCGGCCATATGTTTCACTAATCCCGGATTTGGGTTTCAGCTCTCAGATTCCGTACTAATACGGTCTTCCACAAGTGTTTTCACGTATGCCCTTAATGTCGAGCTCCCCCTTCTGCAACGTCACATGGAATCGCAAATCAATGGCGCTAGGAGCCGACCGTAGATACTTTAGCCCGATCTCCTCCTCATTCCCAAAGCAATGCTCCCACGGTTTAGGAGGCGCTAGATTTGCGGTGGCCTAGTTACTTGGTTTCCGGCCACCGGTAGCCTTACTTAAGTGCCCCGAGCCCGCTTAACGCTAATAACATAAGGATAT\"\n",
       " \"TCCATTCGTTGCTCCATCTATCTAGCCCCTTCCTTACAGGTGGTACATTAGAGTTATTACCGATAAATAAAGACAATGACGAGAAGAACCCGACACTTGAAGAGGGGGAGTAGTAAGGGCGCCGACTTACGAAAGGTCAGCGAATTGGGACGCAAGCTCGGGTGTCAATGCTATATGAGGCTACCAGGACGGGTGATTTCGGTATACCGTCCAGCTATGCCACCAGAGATAAAATTGCCCCGCAGACCACAGTCTTACCTAACGTGACGAGAAACAATGGTAAACCTCGTTCGCGCTGCAGGGGGCAAGCCGAGCATCTCATACTAAACGAAACAACACGAATAGAAACACAAGCAACATAGAATTCCGTCCAAATATGATAGTGTCAACCGCCAAAACAGACGTCTTAAGGTGGATCCCACGTGCTGTATTGCATGAGGGTGCACGGTTATAAGAGCTTGCGACCCCCTTACAATCGCACGGCACCAAGTAAGGCTGTGGAAAGGTCAAAGAGAGTTCACGTGTCCTTTCCCGCGGTGCAAACACACCATTCAAAACGGTCGTTCCACCAATCCGAAGCAGTGCAGGCACGTCTTTCACGGACGATTCTCATTCGGGCACCAGGGGGGCTGGAGTACTTCCTCGAAAACTAGCCGTACCCGTCATATGTGAGAGGGCTCCGGTATTCGGATGAGCTTTGGGATCAGCATGAAGCCTACCCGCTTTAGACGGACCTAGCCGGGCAACAATGATTAAGTCAACCCATCTGACGTGTAAGTTACAGACGAGAGCTCTGACTAAATCTCTTAACAGCAGATGCTTACGCTCGAGAACAGCATCTGTTGATCACGTTCACATTCCGGTTACCAGTTCCCCAAGGGATTGGTGTCCGTGAACTGTGAGGTGGTTACCCGGCCATGCCGATACAAAGGGCGGTCCTCTCATTGGAGGAAAATAATGGGGCTGCAGAGTGCCTATACATCGTTTATTTACGGATCAC\"\n",
       " \"CTTGCCATAGGTGTTGGGGCCATAATACAACCTAAAATCCACCAGGTAATTCAAGCAAAAATACTGGACAAAAAACCCAAAGTGGACCGGGAAAGTTGGTCGTTTGCTGCAACACGTCGCGTGCGGTCTAGCCGGTTTCCCTCCGTCTATGCATCAATTCCGGGTCCTGCACCTCTATCGAGAATGAACAGAGTGACTACTGTACAGAAAATACTAGACGGCATGCTCTTGCTCGACCCGCCGCGAGACCTATGAACGTTAGAACCGTGGAACGATAGAAAGCAAACTCGAACCGATTGATTTGTTCGGGAGAATGCGGTGCGCTGATACGGCATGCGATTAAAATAAGGATACGAAGCAGAACTTATGACAGTCTATTTCATTAAGTGTCGGGCATCGGTGAGATAGAACGAGAACAGACCTTCCTTCCGTAATCAGTGCGACTGTTGCTATGACCCCTCTTAGATATCCGGACCGGTCCCCATCAGATAACTTAATCCGATATGGGATTGACGTGATGCTTGGGATGGAGTAAAACGGGATTCCTCGTAGTGGAACCCGTCAGCAGTGAACTTACAGTAGTTCGTGGCCCATCGAAGCGAACGACAGGGATTTTGATTACAGCCGCAGATGCGCGCAAAAGTAGGGTTACCCGCTGAGGCCAGCACGCTTTGTCCGTTATTCTGGCAGACACCTCCATAATACCACTGCAAATCGCACCGACTCATCACACAAGAACAGTATACGCAGTCACGTGATCCCAGGTGCAGAGATTGTAAGGCTAGACAGATTCCCGGGCAAAGTTAGCGAATCATGGGTTTGTGCCGTGGTGGCACGCTCAGCCCCCCTTCATTAATCATCGTGTTATCAGGGACTCGGTAACACTTAACACGAATGCTCTCCGCGCACCTCGCTGTAAATATCAGGATCTGGGCATGCTGAATTCAACGAATTAGACCTCGTATACGTTACTACATTCTAGAGTTCCAGGATTATTGAG\"\n",
       " \"TTAGGCCGAACTATCGTTTCGACTCACAGCGGTTCACTGATAGTGATCATTGAACCACGTTCGTAAGATTCGTGGTTATATCGGAAAGCTCATATGCCTTTTTTCTGAGGTGAGTTACCCCGCACCTGGACCGTCGCTTCCCGTACGACCAAGTACGCGTTTGACGAGCCCGGTCATCTTCAAGGTGGTTGTAGGTCAGAACCGCCTATATAATGTTTTAGGGGGGCCTCCTTCCAGTGTCGCCATCGCTGAACGTGTCAGCCAATTACCAGCCCCAAAGAGTGCTTGGTTCCTAAGCAGACGACCAAAGGTGCTCGAAACAATGAGTCGAATAATGACCGGCTTACGGATAAATCGAGTTAAGCTGCCAACGACTTTGTCAGGACCAGGAACTGCAATTCTACTGCCGGCACTTATACCCAATGGCTTACAATAAGCAGTGATCTACACCCCCGCTGCAACCACGGGATCGCGTCCTCCCCATGGTCCCTCGGTGATTACGCGCGCCCGATTCTGGCTAGCGGGGATTATTTTGCCCAAGAGGGCCACCAAACATATTTTTGCGGCAACATCGCGTAAATACCGTCGGTAGTCTTGGACTAGAATTTGCACCGTATTAGCCGTGGTCTGTCCTTCGGCAGCTGTTAGCTCCTGCTATCATAAGATCTTGTCAGTTGCCTGTTATGTACAGTCGACATTTGTCGATGAGGGCGAGATCCCTTCCACTGGCAGTATTGGTCTAATCGACGGATTCTGATCATGGTTACAGAAAGCTTGCAGGCGGCCTGCTAGACTTGTGACTCGCCATATGACTCGGCTCGACGTCTTCTTTAGTCACGTCTCCAGTACGAAATAAATGCGTTGACGGGAGTGAGCAGAAATGGTTATTTCGTACGTCACACCAGTGATAGGGGTCAGAGGTCATAGAGTCCCGAGGTTAGCATTTTCGTAGATTGATGTAGGAGCATTTTCCGCACATAAAACGTGTCACATGGCCCGC\"\n",
       " \"TTCGGGATGCAAATTCTGCTAGTACAAACACCTAGGGTATACCATGGGATACGTTTAGTCCTGACCCAGCGTCGGTCCCTTATTATCATCATATCGAGTGGGTGGTATTTGTAATTTCAACATATTTTACATTCGGTGTGGGGTCGACCACAGAGCAATACGGCCCCAGCTCGTCGATCCTGAAAGCTTTACACGGCCCTTGAACCCGGAACGAGCAAATCCACTCTCCAGGACTGTCTTCTTTACCCTGACGGCGGATTTTAGGGGCTGTGGCCGTAGTGACCCCTTCGAGTTGGCAAAGACCCTCACTGGGTGCAGCGAAAGCTTTTCTGTATGGAACATCCAAAAAGCAGCGTGCAGTCTGTACTAACCCACACTAAGGGCGTCTGCACACCTATCTGTACGGTGGTAAAAGTAAGTCGGAATGCCGCGAAGAGCGCGTGGCCCGGAACTCGAACTCTCGTTCTCGTTGCGACAACCATCCCAAACGTATGGCAGGCACCTATGACAGGCAATTTACAGCACTGAAAACTTGGTTAGGCGCGTCAACCCCCATTTCGTGACGCTCTATTTCAAATCACTAGTTCCATGTCACTCTTCTATGTTCTGGCGGGGAGCAGTCCACCATGCGTTTGCGCTCATACATTTACCACGGGTCTACGTCTAGTCAATGCTAGGCGCTTCGGTGCATCAGCGTTGCGTCGGTTCGAGAATAGCCGTACGTCCCAGAAGAATGTATCCTTGTCTGGCGACGCGCTTTCGACTTAGATTGCGAACCAGCTAGCCGGCTAAAGTAAGTAGAAACCGGGTGACACGCCGACCAAGAAGGAGGAGATTCACGTCGGTAAGCTGAAAAGGCCAGATGGTTTACTCAAGCGATGTGCTTAGGATATTCAAGACATGACACGCCTGAGCCTTGTTGGTTTCCTTGTCACAACACTCATTGCTTGCTACGTGTCAATACCAAACATGTTCATTGTTCACCGGCGCTAGCCTAACA\""
      ]
     },
     "execution_count": 16,
     "metadata": {
      "tags": []
     },
     "output_type": "execute_result"
    }
   ],
   "source": [
    "# test generate_sequences here\n",
    "data = generate_sequences(10,1000)"
   ]
  },
  {
   "cell_type": "code",
   "execution_count": 217,
   "metadata": {
    "colab": {
     "base_uri": "https://localhost:8080/"
    },
    "id": "sUDMq5OPD_H6",
    "outputId": "6a6384cb-cb94-4a78-f85f-b6a706887204"
   },
   "outputs": [
    {
     "data": {
      "text/plain": [
       "MSA_to_TSP (generic function with 1 method)"
      ]
     },
     "execution_count": 217,
     "metadata": {},
     "output_type": "execute_result"
    }
   ],
   "source": [
    "function MSA_to_TSP(sequences)\n",
    "  node = []\n",
    "  for i in 1:length(sequences)\n",
    "    push!(node,sequences[i])\n",
    "  end\n",
    "\n",
    "  graph = Array{Float64, 2}(undef, length(node), length(node))\n",
    "  max_score = 0\n",
    "  for i in 1:length(node)\n",
    "    graph[i,i] = 0\n",
    "    for j in i+1:length(node)\n",
    "      score, align1, align2 = get_alignment_score(node[i],node[j]) \n",
    "      graph[i,j] = score\n",
    "      graph[j,i] = score\n",
    "      if max_score < score \n",
    "                max_score = score\n",
    "      end\n",
    "    end\n",
    "  end\n",
    "  for i in 1:length(node)\n",
    "    for j in i+1:length(node)\n",
    "      graph[i,j] = max_score - graph[i,j] + 1\n",
    "      graph[j,i] = max_score - graph[j,i] + 1\n",
    "    end\n",
    "  end    \n",
    "  return graph\n",
    "end"
   ]
  },
  {
   "cell_type": "code",
   "execution_count": 218,
   "metadata": {
    "colab": {
     "base_uri": "https://localhost:8080/"
    },
    "id": "9K_9s4f1EA34",
    "outputId": "d0dc385b-21c2-40bd-aebc-72e834165668"
   },
   "outputs": [
    {
     "ename": "LoadError",
     "evalue": "UndefVarError: data not defined",
     "output_type": "error",
     "traceback": [
      "UndefVarError: data not defined",
      "",
      "Stacktrace:",
      " [1] top-level scope at In[218]:2",
      " [2] include_string(::Function, ::Module, ::String, ::String) at .\\loading.jl:1091"
     ]
    }
   ],
   "source": [
    "# test MSA_to_TSP here\n",
    "MSA_to_TSP(data)"
   ]
  },
  {
   "cell_type": "code",
   "execution_count": 219,
   "metadata": {
    "colab": {
     "base_uri": "https://localhost:8080/"
    },
    "id": "dvG_lQ3kECn1",
    "outputId": "c89d82d4-fd7c-41bb-d6ab-b8dc00bdde91"
   },
   "outputs": [
    {
     "data": {
      "text/plain": [
       "get_alignment_score (generic function with 4 methods)"
      ]
     },
     "execution_count": 219,
     "metadata": {},
     "output_type": "execute_result"
    }
   ],
   "source": [
    "function get_alignment_score(v, w, match_penalty=1, mismatch_penalty=-1, deletion_penalty=-1)\n",
    "    n1 = length(v)\n",
    "    n2 = length(w)\n",
    "    #if !use_preallocated_matrices\n",
    "    s = zeros(Float64, n1+1, n2+1)\n",
    "    b = zeros(Float64, n1+1, n2+1)\n",
    "    #end\n",
    "\n",
    "    for i in 1:(n1+1)\n",
    "        s[i,1] = (i-1) * deletion_penalty\n",
    "        b[i,1] = 2\n",
    "    end\n",
    "    for j in 1:(n2+1)\n",
    "        s[1,j] = (j-1) * deletion_penalty\n",
    "        b[1,j] = 3\n",
    "    end\n",
    "\n",
    "    for i in 2:(n1+1)\n",
    "        for j in 2:(n2+1)\n",
    "            if v[i-1] == w[j-1]\n",
    "                ms = s[i-1,j-1] + match_penalty\n",
    "            else\n",
    "                # ignore cases where a letter is paired with a gap\n",
    "                # do not consider this a mismatch\n",
    "                # if v[i-1] != '-' && w[j-1] != '-'\n",
    "                #     ms = s[i-1,j-1] + mismatch_penalty\n",
    "                # else\n",
    "                #     # if a letter is paired with a gap, add no penalty\n",
    "                #     ms = s[i-1,j-1] #+ match_penalty # + 0.5 * mismatch_penalty\n",
    "                # end\n",
    "                ms = s[i-1,j-1] + mismatch_penalty\n",
    "            end\n",
    "            test = [ms, s[i-1,j] + deletion_penalty, s[i,j-1] + deletion_penalty]\n",
    "            p = argmax(test)\n",
    "            s[i,j] = test[p]\n",
    "            b[i,j] = p\n",
    "        end\n",
    "    end\n",
    "\n",
    "    i = n1+1\n",
    "    j = n2+1\n",
    "    sv = []\n",
    "    sw = []\n",
    "    while(i > 1 || j > 1)\n",
    "        p = b[i,j]\n",
    "        if (p == 1)\n",
    "            i = i-1\n",
    "            j = j-1\n",
    "            push!(sv, v[i])\n",
    "            push!(sw, w[j])\n",
    "        elseif p == 2\n",
    "            i=i-1\n",
    "            push!(sv, v[i])\n",
    "            push!(sw, \"-\")\n",
    "        elseif p == 3\n",
    "            j = j-1\n",
    "            push!(sv, \"-\")\n",
    "            push!(sw, w[j])\n",
    "        else\n",
    "            break\n",
    "        end\n",
    "    end\n",
    "\n",
    "    return (s[n1+1,n2+1], join(reverse(sv)), join(reverse(sw)))\n",
    "end"
   ]
  },
  {
   "cell_type": "code",
   "execution_count": 220,
   "metadata": {
    "colab": {
     "base_uri": "https://localhost:8080/"
    },
    "id": "7CMhuwFhEGUx",
    "outputId": "56605c57-85db-448d-9716-72b88f0c46dd"
   },
   "outputs": [
    {
     "name": "stdout",
     "output_type": "stream",
     "text": [
      "Score = 96.0\n",
      "Alignment of fir sequence = AAACATCA-GGAA-CACTA-GAGCTCAAGCTCCTACTCAGCGCGGGT-GA-TCGCGAACT-TTCAAGATCTAC-CAGGCAACCACGCCGTCGAAATGATC-TTC---ACTGATCGAAATGTGTCGTGGGCAGT-GT-TGTAGCAC--TCCTTACAGTTAAGGC-GAAAGAATGATATTGTGATC-AGA-GGACTACAGG--CTCTCGGAGAAA--CACCGA--ATAGTAACATGTCATA-ACTCATGAGCTGGTAGGGCTCT-CCCTATGCGTGCTCCAAATCAGGGCTACTGAAGTCCGACTTAC-AGGAAAAG-A-AGGAATAACG-GC-T--C-GC-GT-CC-T--CTC--AGAG---G------ACG--AAG-A-T-GCTA--TC-GACA-ACT-GGTGTCATCTACTTACACGATGGAGAATTACTGGGGTAGTTG-GGGCTT--G-GCGCAGAGCTAT-CAT-TCCATGAGAAAGTCGGATC-CGCCG-TG-TG-CCCT-A-A---GT--GG-TAAGACCACCTTGAAGGCTTTGAG-TGACGGATGGTGGGTGCTATACAGCGCGCT-CGTGCTGT-CAGTGATCCCCA-GGC-TCGGC-TAAGAAGCCAGGGTGGCACGCCGAGCAGGTATT-GTGTGC-GCGTCGCTCGCTTGGTCGCAGTCCGTGTTCAGACT--CTCCGTGCA-ACGACAACAGCGAA--TAATGTACCATATCTTTACCACAATGCGAGAT-AAGGGTACC-AACGACC-GAGCTATGTTA-CGCTTTTCTCCCAGGGTATGGTGA-C-CGCGGA-CCTTACTTACCTGTT-GCGCCTAATAAAGCG-T-G-CTCCT--G-TCAGTCAAAAGACCC--CACTCTG-TCTC-CGTCGTGTAGTCTATATCTAGGGCCT-CCGATACA-TCAG-CGTGC--AC-AATA-GAACG--T-TTGCCA-AT--TAGTTGC-AAGGAGC-AGTTTAGGCCTAAATCGCCC-TTA-GG-GGATCATACTC--TTCATCC--CGGCAGGTGT-AGCCGGCA--CCTG--CCT-AGCCTTCTGAT--TGA-ACT-G-----AGA-GTA---G-TC-GC-CGTAAAG-TAC--CTACATAAGGAAATTCC--CG-TTGAACC-CCCGTAGAGAGCGCTG\n",
      "Alignment of sec sequence = GGGCTTAATTGAACCTCTATGA-CT---G-ACGTA-TTA-CAC-TGTAAAGTCAC--ACTAGAC-AGCGCT-CGCCGCCTA-CA-GCC-TCCATACGATCAACCGAGACT-AGCGCAATGTG-CG-CGCCA-TCGTCT-TCGC-CGGTCC-T-C-G-TCA-CCTGCCACTTTGATAAAGTAAACTAGATGCA-TTCCGGCACTTTC-TACAAACTCATCTACTATGGTACCGGGT-ATATACACA-CA-AT--TAGTG-T-TACCTTAT-CTTGCCCCATACCCGGGC--CT---GTCCCTCGT-CGAGCAACTGTACCCGCGTAACGCCCTTGGCAGCTGTCCCATGACTCTAATAGTCTGTCAAAAACGTCAAGCACTGGC-ACCCCAGACAGAGTCGG-GGAATC--CTT-C-C--T-CA-AA-TACT---GT-TTTGTACGCTTACGTGC-CATTG-AATCCCTCTCCA-GCG--TCTC-CATCTAGCCGTTGATGTCCATCACACGTGTGGGGCAAAG-CGA-C-TG-A--CTTAAAGCTCAAGG--GCT--GT-C-AT-CTG-GC-ATACCT-CTTTCCAGGGCTTCCAATTCCGTCGGCTTGAGTA-TCAACCT-TTA-G-TGA-AAAATATTAGCGCGCAACGTC-AT-AC-T-ATC-TAG---ATGTTCA-TCTGGCT-GGTGCATAC-TC--C-GC-AAGGTGAGGTGCC----C--AACCGGAGGGC-A-TTCTA-GG-CCCTCTCTCCCTGA-CT-CG-AAGCGCGTTTCT-GCAGGGT-T--TCATCTC-CGGATCAGTAATT--C-GTTGGTGCGGAGT----CGTTGGACT-CTAGGTTTTG-C---A-ACCCTGCCCAC-GATCACACG-CGCCT-TTCTA-A---AGGG-GTAACG-TA-AGACGGCCGTGCGGGCTCATAGGCACGACTGTTGCTAGATGGTAGCCCCGAGGGAGCTCG-TCA-ACC--CGTC-CCCGTTATGGCTGATTATCCTCGGCTGA-CCAACGG-A-GTCTCATCCCG-ATGTCTGCACCTGATTCTT-TG-TGGTGACACTCGTCTCAAGATG-AGGCGATCTGCGCCT-GCGCTACTTCTCCGT-CCCATGTTCCAACGCGT-AACCTGGC-T-G-G-G-GATT\n"
     ]
    }
   ],
   "source": [
    "# test get_alignment_score here\n",
    "sequences = generate_sequences(10,1000)\n",
    "score, align1, align2 = get_alignment_score(sequences[1],sequences[2])\n",
    "println(\"Score = \",score)\n",
    "println(\"Alignment of fir sequence = \",align1)\n",
    "println(\"Alignment of sec sequence = \",align2)"
   ]
  },
  {
   "cell_type": "code",
   "execution_count": 221,
   "metadata": {
    "colab": {
     "base_uri": "https://localhost:8080/"
    },
    "id": "IH8FYmLgUprC",
    "outputId": "4584ffc8-6d8d-480e-87b6-0106667d0c6d"
   },
   "outputs": [
    {
     "data": {
      "text/plain": [
       "create_colony (generic function with 1 method)"
      ]
     },
     "execution_count": 221,
     "metadata": {},
     "output_type": "execute_result"
    }
   ],
   "source": [
    "# Return the ant colony with cities initialized to each ant\n",
    "\n",
    "function create_colony(num_ants, num_nodes)\n",
    "    colony = []\n",
    "    for i in 1 : num_ants\n",
    "       push!(colony, Dict(\"path\"=>[rand(1:num_nodes)], \"distance\" => 0))\n",
    "    end\n",
    "    return colony\n",
    "end"
   ]
  },
  {
   "cell_type": "code",
   "execution_count": 222,
   "metadata": {
    "colab": {
     "base_uri": "https://localhost:8080/"
    },
    "id": "Bl7SPj75Uqc0",
    "outputId": "56cb2caf-896d-4eec-996c-4c5e73dcd61c"
   },
   "outputs": [
    {
     "data": {
      "text/plain": [
       "10-element Array{Any,1}:\n",
       " Dict{String,Any}(\"distance\" => 0,\"path\" => [1])\n",
       " Dict{String,Any}(\"distance\" => 0,\"path\" => [4])\n",
       " Dict{String,Any}(\"distance\" => 0,\"path\" => [3])\n",
       " Dict{String,Any}(\"distance\" => 0,\"path\" => [4])\n",
       " Dict{String,Any}(\"distance\" => 0,\"path\" => [2])\n",
       " Dict{String,Any}(\"distance\" => 0,\"path\" => [3])\n",
       " Dict{String,Any}(\"distance\" => 0,\"path\" => [1])\n",
       " Dict{String,Any}(\"distance\" => 0,\"path\" => [2])\n",
       " Dict{String,Any}(\"distance\" => 0,\"path\" => [2])\n",
       " Dict{String,Any}(\"distance\" => 0,\"path\" => [3])"
      ]
     },
     "execution_count": 222,
     "metadata": {},
     "output_type": "execute_result"
    }
   ],
   "source": [
    "create_colony(10, 4)"
   ]
  },
  {
   "cell_type": "code",
   "execution_count": 223,
   "metadata": {
    "colab": {
     "base_uri": "https://localhost:8080/"
    },
    "id": "iZzqK24NUqnw",
    "outputId": "44320527-f5ac-44d8-c655-8a4680046646"
   },
   "outputs": [
    {
     "data": {
      "text/plain": [
       "create_pheror_matrix (generic function with 1 method)"
      ]
     },
     "execution_count": 223,
     "metadata": {},
     "output_type": "execute_result"
    }
   ],
   "source": [
    "function create_pheror_matrix(num_nodes)\n",
    "    pheromone = zeros(Float64, num_nodes, num_nodes)\n",
    "    for i in 1: num_nodes\n",
    "        for j in 1: num_nodes\n",
    "            pheromone[i,j] = 1/num_nodes\n",
    "        end\n",
    "    end\n",
    "    return pheromone\n",
    "end"
   ]
  },
  {
   "cell_type": "code",
   "execution_count": 224,
   "metadata": {
    "colab": {
     "base_uri": "https://localhost:8080/"
    },
    "id": "qsji7XHwUqP1",
    "outputId": "4b83463d-c0fb-4067-f567-9397aa82355c"
   },
   "outputs": [
    {
     "data": {
      "text/plain": [
       "4×4 Array{Float64,2}:\n",
       " 0.25  0.25  0.25  0.25\n",
       " 0.25  0.25  0.25  0.25\n",
       " 0.25  0.25  0.25  0.25\n",
       " 0.25  0.25  0.25  0.25"
      ]
     },
     "execution_count": 224,
     "metadata": {},
     "output_type": "execute_result"
    }
   ],
   "source": [
    "create_pheror_matrix(4)"
   ]
  },
  {
   "cell_type": "code",
   "execution_count": 225,
   "metadata": {
    "colab": {
     "base_uri": "https://localhost:8080/"
    },
    "id": "oH_0qzAmUy-3",
    "outputId": "5bd4f322-76a8-43cc-af71-f22e074abffb"
   },
   "outputs": [
    {
     "data": {
      "text/plain": [
       "calculate_proba (generic function with 1 method)"
      ]
     },
     "execution_count": 225,
     "metadata": {},
     "output_type": "execute_result"
    }
   ],
   "source": [
    "function calculate_proba(num_nodes, pheromone, distance_matrix, alpha, beta)\n",
    "    probability = zeros(Float64, num_nodes, num_nodes)\n",
    "    for i in 1: num_nodes\n",
    "        for j in 1: num_nodes\n",
    "            probability[i,j] = (pheromone[i,j]^alpha) * (distance_matrix[i,j]^-beta)\n",
    "            probability[j,i] = probability[i,j]\n",
    "        end\n",
    "    end\n",
    "    return probability\n",
    "end"
   ]
  },
  {
   "cell_type": "code",
   "execution_count": 226,
   "metadata": {
    "colab": {
     "base_uri": "https://localhost:8080/"
    },
    "id": "ZdMIbq9UWHop",
    "outputId": "ccd81115-4396-47cc-fb35-2ccd08aa1ae2"
   },
   "outputs": [
    {
     "data": {
      "text/plain": [
       "calculate_proba_ant (generic function with 1 method)"
      ]
     },
     "execution_count": 226,
     "metadata": {},
     "output_type": "execute_result"
    }
   ],
   "source": [
    "function calculate_proba_ant(pheromone, distance_matrix, unvisited_nodes, current_node, proba, alpha, beta)\n",
    "  sigma = 0.0\n",
    "  for unvisited_node in unvisited_nodes\n",
    "    sigma += (pheromone[current_node,unvisited_node]^alpha) * (distance_matrix[current_node,unvisited_node]^-beta)\n",
    "  end\n",
    "  proba_ant = proba[current_node,:]/sigma\n",
    "  return proba_ant\n",
    "end"
   ]
  },
  {
   "cell_type": "code",
   "execution_count": 227,
   "metadata": {
    "colab": {
     "base_uri": "https://localhost:8080/"
    },
    "id": "2fCncJIzXHDh",
    "outputId": "62a7176f-748f-4102-ca6c-8100c26c8aad"
   },
   "outputs": [
    {
     "data": {
      "text/plain": [
       "find_best_path (generic function with 1 method)"
      ]
     },
     "execution_count": 227,
     "metadata": {},
     "output_type": "execute_result"
    }
   ],
   "source": [
    "function find_best_path(n_ants, colony)\n",
    "  bpath = []\n",
    "  best_distance = Inf32\n",
    "  typeof(best_distance)\n",
    "  idx_best = 0\n",
    "  for i=1: n_ants\n",
    "    if colony[i][\"distance\"] < best_distance\n",
    "      best_distance = colony[i][\"distance\"]\n",
    "      bpath = colony[i][\"path\"]\n",
    "      idx_best = i\n",
    "    end\n",
    "  end\n",
    "  best_path = Dict(\"path\"=> bpath, \"distance\"=> best_distance, \"ant\"=> idx_best)\n",
    "  return best_path\n",
    "end"
   ]
  },
  {
   "cell_type": "code",
   "execution_count": 228,
   "metadata": {
    "colab": {
     "base_uri": "https://localhost:8080/"
    },
    "id": "q-w0_md6Z1qk",
    "outputId": "8cdbe2a6-20fa-4bbf-f2bc-858103d39e26"
   },
   "outputs": [
    {
     "data": {
      "text/plain": [
       "update_pheror_matrix (generic function with 1 method)"
      ]
     },
     "execution_count": 228,
     "metadata": {},
     "output_type": "execute_result"
    }
   ],
   "source": [
    "function update_pheror_matrix(num_nodes, n_ants, pheromone, distance_matrix, colony, Q, decay)\n",
    "  depositpher = 0.0\n",
    "  for i=1: n_ants\n",
    "    ant = i\n",
    "    for j= 1:(length(colony[ant][\"path\"])-1)\n",
    "      src = colony[ant][\"path\"][j]\n",
    "      dest = colony[ant][\"path\"][j+1]\n",
    "      pheromone[src,dest] += Q/colony[i][\"distance\"]\n",
    "    end\n",
    "    depositpher += Q/colony[i][\"distance\"]\n",
    "    for i= 1:num_nodes\n",
    "      for j= 1:num_nodes\n",
    "        pheromone[i,j] = (1-decay)*pheromone[i,j]*depositpher\n",
    "        pheromone[j,i] = pheromone[i,j]\n",
    "      end\n",
    "    end\n",
    "  end\n",
    "  return pheromone\n",
    "end"
   ]
  },
  {
   "cell_type": "code",
   "execution_count": 229,
   "metadata": {
    "colab": {
     "base_uri": "https://localhost:8080/"
    },
    "id": "NsL7_OW6boFi",
    "outputId": "344cd511-5bb0-4ca6-94a6-186fca5daa5b"
   },
   "outputs": [
    {
     "data": {
      "text/plain": [
       "calculateDist_ant (generic function with 1 method)"
      ]
     },
     "execution_count": 229,
     "metadata": {},
     "output_type": "execute_result"
    }
   ],
   "source": [
    "function calculateDist_ant(ant, colony, distmatrix)\n",
    "  dist = 0\n",
    "  path = colony[ant][\"path\"]\n",
    "  for i= 1:length(path)-1\n",
    "    dist += distmatrix[path[i],path[i+1]]\n",
    "  end\n",
    "  return dist\n",
    "end"
   ]
  },
  {
   "cell_type": "markdown",
   "metadata": {
    "id": "ZnGe1twunXLF"
   },
   "source": []
  },
  {
   "cell_type": "code",
   "execution_count": 230,
   "metadata": {
    "colab": {
     "base_uri": "https://localhost:8080/"
    },
    "id": "etAiFH4sUzB-",
    "outputId": "46ee11e0-1c96-497d-98a5-a73995113a4c"
   },
   "outputs": [
    {
     "data": {
      "text/plain": [
       "traverse (generic function with 1 method)"
      ]
     },
     "execution_count": 230,
     "metadata": {},
     "output_type": "execute_result"
    }
   ],
   "source": [
    "function traverse(ant, num_nodes, colony, pheromone, distance_matrix, proba, alpha, beta)\n",
    "    unvisited = collect(1:num_nodes)\n",
    "    current = colony[ant][\"path\"][1]\n",
    "    deleteat!(unvisited, findfirst(isequal(current), unvisited))\n",
    "    for j in 1: num_nodes-1\n",
    "        if length(unvisited) > 1\n",
    "            ant_probability = calculate_proba_ant(pheromone, distance_matrix, unvisited, current, proba, alpha, beta)\n",
    "            prob = map((x) -> ant_probability[x] , unvisited)\n",
    "            current = unvisited[findmax(prob)[2]]\n",
    "            deleteat!(unvisited, findfirst(isequal(current), unvisited))\n",
    "            push!(colony[ant][\"path\"], current)       \n",
    "        else\n",
    "            push!(colony[ant][\"path\"], unvisited[1])\n",
    "        end\n",
    "    end\n",
    "    colony[ant][\"distance\"] = calculateDist_ant(ant, colony, distance_matrix)\n",
    "end"
   ]
  },
  {
   "cell_type": "code",
   "execution_count": 231,
   "metadata": {
    "colab": {
     "base_uri": "https://localhost:8080/"
    },
    "id": "3nEqLOO5Uy08",
    "outputId": "918abfbc-31df-4187-e76d-e027bef48a15"
   },
   "outputs": [
    {
     "data": {
      "text/plain": [
       "run1 (generic function with 1 method)"
      ]
     },
     "execution_count": 231,
     "metadata": {},
     "output_type": "execute_result"
    }
   ],
   "source": [
    "function run1(num_ants, num_nodes, distance_matrix, iterations, Q, decay, alpha, beta)\n",
    "    pheromone = create_pheror_matrix(num_nodes)\n",
    "    gbpath = Dict()\n",
    "    for i= 1: iterations\n",
    "        colony = create_colony(num_ants, num_nodes)\n",
    "        probability = calculate_proba(num_nodes, pheromone, distance_matrix, alpha, beta)\n",
    "        for ant in 1: num_ants\n",
    "            traverse(ant, num_nodes, colony, pheromone, distance_matrix, probability, alpha, beta)\n",
    "        end\n",
    "        # complete update_pheromone_matrix\n",
    "        pheromone = update_pheror_matrix(num_nodes, num_ants, pheromone, distance_matrix, colony, Q, decay)\n",
    "        #complete find best path fucntion\n",
    "        best_path = find_best_path(num_ants, colony)\n",
    "        \n",
    "        bpath = best_path\n",
    "        if i == 1\n",
    "            gbpath = bpath\n",
    "        else\n",
    "            if bpath[\"distance\"] < gbpath[\"distance\"]\n",
    "                gbpath = bpath\n",
    "            end\n",
    "        end\n",
    "        println(\"current best path = \",bpath[\"path\"])\n",
    "        println(\"current distance = \",bpath[\"distance\"])\n",
    "        println(\"global best path = \",gbpath[\"path\"])\n",
    "        println(\"global best path distance =\",gbpath[\"distance\"])\n",
    "        println(\"iteration over\")\n",
    "    end \n",
    "    # return the best path\n",
    "    return gbpath[\"path\"]\n",
    "end"
   ]
  },
  {
   "cell_type": "code",
   "execution_count": 232,
   "metadata": {
    "colab": {
     "base_uri": "https://localhost:8080/"
    },
    "id": "0Kmrwnabim88",
    "outputId": "d89842c0-bc3f-43a8-ef83-8b02bc666576"
   },
   "outputs": [
    {
     "name": "stdout",
     "output_type": "stream",
     "text": [
      "current best path = [3, 4, 5, 1, 2]\n",
      "current distance = 2264.036\n",
      "global best path = [3, 4, 5, 1, 2]\n",
      "global best path distance =2264.036\n",
      "iteration over\n",
      "current best path = [4, 5, 1, 2, 3]\n",
      "current distance = 2314.688\n",
      "global best path = [3, 4, 5, 1, 2]\n",
      "global best path distance =2264.036\n",
      "iteration over\n",
      "current best path = [3, 4, 5, 1, 2]\n",
      "current distance = 2264.036\n",
      "global best path = [3, 4, 5, 1, 2]\n",
      "global best path distance =2264.036\n",
      "iteration over\n",
      "current best path = [4, 5, 1, 2, 3]\n",
      "current distance = 2314.688\n",
      "global best path = [3, 4, 5, 1, 2]\n",
      "global best path distance =2264.036\n",
      "iteration over\n",
      "current best path = [2, 1, 5, 4, 3]\n",
      "current distance = 2264.036\n",
      "global best path = [3, 4, 5, 1, 2]\n",
      "global best path distance =2264.036\n",
      "iteration over\n",
      "current best path = [2, 1, 5, 4, 3]\n",
      "current distance = 2264.036\n",
      "global best path = [3, 4, 5, 1, 2]\n",
      "global best path distance =2264.036\n",
      "iteration over\n",
      "current best path = [2, 1, 5, 4, 3]\n",
      "current distance = 2264.036\n",
      "global best path = [3, 4, 5, 1, 2]\n",
      "global best path distance =2264.036\n",
      "iteration over\n",
      "current best path = [3, 4, 5, 1, 2]\n",
      "current distance = 2264.036\n",
      "global best path = [3, 4, 5, 1, 2]\n",
      "global best path distance =2264.036\n",
      "iteration over\n",
      "current best path = [2, 1, 5, 4, 3]\n",
      "current distance = 2264.036\n",
      "global best path = [3, 4, 5, 1, 2]\n",
      "global best path distance =2264.036\n",
      "iteration over\n",
      "current best path = [3, 4, 5, 1, 2]\n",
      "current distance = 2264.036\n",
      "global best path = [3, 4, 5, 1, 2]\n",
      "global best path distance =2264.036\n",
      "iteration over\n"
     ]
    },
    {
     "data": {
      "text/plain": [
       "5-element Array{Int64,1}:\n",
       " 3\n",
       " 4\n",
       " 5\n",
       " 1\n",
       " 2"
      ]
     },
     "execution_count": 232,
     "metadata": {},
     "output_type": "execute_result"
    }
   ],
   "source": [
    "#distance_matrix = MSA_to_TSP(generate_sequences(10,1000))\n",
    "#distance_matrix = [0 5 7.07 5 10.44; 5 0 5 7.07 10.19; 7.07 5 0 5 5.38; 5 7.07 5 0 5.83; 10.44 10.19 5.38 5.83 0]\n",
    "distance_matrix = [0 556.149 1160.79 786.014 556.149; 556.149 0 648.358 556.149 786.014; 1160.79 648.358 0 597.706 1131.61; 786.014 556.149 597.706 0 554.032; 556.149 786.014 1131.61 554.032 0]\n",
    "typeof(distance_matrix)\n",
    "run1(50,5,distance_matrix,10,0.6,0.6,1,1)\n",
    "#phero = run(20,10,distance_matrix,10,0.6,0.6,1,1)"
   ]
  },
  {
   "cell_type": "code",
   "execution_count": 233,
   "metadata": {
    "colab": {
     "base_uri": "https://localhost:8080/"
    },
    "id": "wAdqdicyw3HY",
    "outputId": "f79c771c-f64e-42d3-d027-bdfdf569844d"
   },
   "outputs": [
    {
     "ename": "LoadError",
     "evalue": "UndefVarError: phero not defined",
     "output_type": "error",
     "traceback": [
      "UndefVarError: phero not defined",
      "",
      "Stacktrace:",
      " [1] top-level scope at In[233]:1",
      " [2] include_string(::Function, ::Module, ::String, ::String) at .\\loading.jl:1091"
     ]
    }
   ],
   "source": [
    "findmax(phero[10,:])"
   ]
  },
  {
   "cell_type": "code",
   "execution_count": 234,
   "metadata": {
    "id": "nv_A8lC4EIKs"
   },
   "outputs": [
    {
     "data": {
      "text/plain": [
       "ACO_on_TSP (generic function with 1 method)"
      ]
     },
     "execution_count": 234,
     "metadata": {},
     "output_type": "execute_result"
    }
   ],
   "source": [
    "function ACO_on_TSP()\n",
    "end"
   ]
  },
  {
   "cell_type": "code",
   "execution_count": 235,
   "metadata": {
    "id": "YInsT-ngEJ69"
   },
   "outputs": [],
   "source": [
    "# test ACO_on_TSP here"
   ]
  },
  {
   "cell_type": "code",
   "execution_count": 236,
   "metadata": {
    "id": "3sD0CKnOELi7"
   },
   "outputs": [
    {
     "data": {
      "text/plain": [
       "TSP_to_MSA (generic function with 1 method)"
      ]
     },
     "execution_count": 236,
     "metadata": {},
     "output_type": "execute_result"
    }
   ],
   "source": [
    "function TSP_to_MSA()\n",
    "end"
   ]
  },
  {
   "cell_type": "code",
   "execution_count": 237,
   "metadata": {
    "id": "CXTxRSSbENOz"
   },
   "outputs": [],
   "source": [
    "# test TSP_to_MSA here"
   ]
  },
  {
   "cell_type": "code",
   "execution_count": 238,
   "metadata": {
    "colab": {
     "base_uri": "https://localhost:8080/"
    },
    "id": "DS0cNpWLS0va",
    "outputId": "6ad648d1-cf45-44d3-c76e-222c49bcbb9a"
   },
   "outputs": [
    {
     "ename": "LoadError",
     "evalue": "UndefVarError: createPherorMatrix not defined",
     "output_type": "error",
     "traceback": [
      "UndefVarError: createPherorMatrix not defined",
      "",
      "Stacktrace:",
      " [1] top-level scope at In[238]:2",
      " [2] include_string(::Function, ::Module, ::String, ::String) at .\\loading.jl:1091"
     ]
    }
   ],
   "source": [
    "# test createPherorMatrix here\n",
    "createPherorMatrix()"
   ]
  },
  {
   "cell_type": "code",
   "execution_count": 239,
   "metadata": {
    "colab": {
     "base_uri": "https://localhost:8080/"
    },
    "id": "IXWsSuvhCsRn",
    "outputId": "c6a31a0f-197f-4723-cf90-6a65ab8a9058"
   },
   "outputs": [
    {
     "name": "stdout",
     "output_type": "stream",
     "text": [
      "current best path = [6, 4, 2, 1, 5, 3]\n",
      "current distance = 56.0\n",
      "global best path = [6, 4, 2, 1, 5, 3]\n",
      "global best path distance =56.0\n",
      "iteration over\n",
      "current best path = [6, 2, 4, 5, 1, 3]\n",
      "current distance = 55.0\n",
      "global best path = [6, 2, 4, 5, 1, 3]\n",
      "global best path distance =55.0\n",
      "iteration over\n",
      "current best path = [6, 2, 4, 5, 3, 1]\n",
      "current distance = 65.0\n",
      "global best path = [6, 2, 4, 5, 1, 3]\n",
      "global best path distance =55.0\n",
      "iteration over\n",
      "current best path = [1, 6, 2, 4, 5, 3]\n",
      "current distance = 60.0\n",
      "global best path = [6, 2, 4, 5, 1, 3]\n",
      "global best path distance =55.0\n",
      "iteration over\n",
      "current best path = [3, 4, 2, 6, 5, 1]\n",
      "current distance = 59.0\n",
      "global best path = [6, 2, 4, 5, 1, 3]\n",
      "global best path distance =55.0\n",
      "iteration over\n",
      "current best path = [3, 4, 2, 6, 5, 1]\n",
      "current distance = 59.0\n",
      "global best path = [6, 2, 4, 5, 1, 3]\n",
      "global best path distance =55.0\n",
      "iteration over\n",
      "current best path = [3, 4, 2, 6, 5, 1]\n",
      "current distance = 59.0\n",
      "global best path = [6, 2, 4, 5, 1, 3]\n",
      "global best path distance =55.0\n",
      "iteration over\n",
      "current best path = [5, 1, 3, 4, 2, 6]\n",
      "current distance = 72.0\n",
      "global best path = [6, 2, 4, 5, 1, 3]\n",
      "global best path distance =55.0\n",
      "iteration over\n",
      "current best path = [5, 1, 3, 4, 2, 6]\n",
      "current distance = 72.0\n",
      "global best path = [6, 2, 4, 5, 1, 3]\n",
      "global best path distance =55.0\n",
      "iteration over\n",
      "current best path = [5, 1, 3, 4, 2, 6]\n",
      "current distance = 72.0\n",
      "global best path = [6, 2, 4, 5, 1, 3]\n",
      "global best path distance =55.0\n",
      "iteration over\n"
     ]
    },
    {
     "data": {
      "text/plain": [
       "6-element Array{Int64,1}:\n",
       " 6\n",
       " 2\n",
       " 4\n",
       " 5\n",
       " 1\n",
       " 3"
      ]
     },
     "execution_count": 239,
     "metadata": {},
     "output_type": "execute_result"
    }
   ],
   "source": [
    "# This cell is for testing by Amit\n",
    "\n",
    "#distance_matrix = [0 10.0 15.0 20.0;10.0 0 35.0 25.0;15.0 35.0 0 30.0;20.0 25.0 30.0 0]\n",
    "#distance_matrix = [0 12.0 10.0 19.0 8.0; 12.0 0 3.0 7.0 2.0; 10.0 3.0 0 6.0 20.0; 19.0 7.0 6.0 0 4.0; 8.0 2.0 20.0 4.0 0]\n",
    "distance_matrix = [0 12  29 22 13 24; 12 0 19 3 25 6; 29 19 0 21 23 28; 22 3 21 0 4 5; 13 25 23 4 0 16; 24 6 28 5 16 0]\n",
    "distance_matrix =Float64.(distance_matrix)\n",
    "run1(50,6,distance_matrix,10,0.6,0.6,1,1)\n",
    "# [4, 5, 2, 3, 1, 1] D E B C A\n",
    "# 6, 2, 4, 5, 1, 3 F B D E A C"
   ]
  },
  {
   "cell_type": "code",
   "execution_count": 240,
   "metadata": {
    "colab": {
     "base_uri": "https://localhost:8080/"
    },
    "id": "7l3UBgm3aNdp",
    "outputId": "7ea4b6b7-6848-49a1-ebbc-707f916e910a"
   },
   "outputs": [
    {
     "name": "stdout",
     "output_type": "stream",
     "text": [
      "Score = -219.0\n",
      "Alignment of fir sequence = A-----T-T---AGTT------TG--GTTC-----CGT-TACTA-T-TG-A-TG--CTGTG---AGC-G-GG---T-G--TATAAAAG----T--C--T-GCGCTA--CGT-G---CC---C-T----G-AT-GCAGT-C--CTC-----T-ACC-TC----G-AAT-A-C---TATC-T---GC-----CG--CC--GT--TC-A-G----A-G-----G---C-G-A----A-AT-CTC-TCA-G--TGTAG-TT-G-----CA-T---T--C-TT--C-CAT--C-----GGC-----TC--G--A---TGC-G-C-CA---------------TCG-TAGG-C---CA---C-----G-A----C-G-G-----G-GTACT--GCC---TGG-------T-G-T-C--ACAA-T--C-A-G-TG-AAA--CAG---T---AG-------TGA-G---GT-ACAT---TC---T-AT-----GA--CC---C---A------G--C--C--CT-A-------AT--TGCCGTAAG---A-TGT-G---GAGG-GG--T-A----GG-TA-G-ACC-CTCTAA---ACACT-G----T-A--T----G--TC-----TGAGG--CG---AGT-AT-A-GGGG-C--------CTG-C--A---ACCAC-CTG---C-AC---T-C-----G-CGC-C--A-----G----CTGG-C-TC-A---TT----CC-A-G----G-TTTT------CCT-AAG--CA---C-TA---A-G-AGTGTAC-A---C-T-CA--T-T--GTC--GACT--T-C--C-G-A---------A--C-GA----ATC-TTCTTGTGGAG-T-GG-------G-----G----G-GTG-T-GC-CT-G--TC----T-C-A--TA-CTGTCCA---CC----CT----CAC-AC-C---G--TC--C-----T--A-G-T-C-AAAC-CC-C--A-TGTC--G-TAG-----------TGTT-----A-CC---------CCGT-C-TC---TG----A--G-GTA-A-G-AAACG-A-AA-G-TACCCCGACGTT-TG---TCT-TTCCCTA-AAA------TCG-AGT--CT-GCATA-TCC-C-T-TA-AGCAGCC--TCCTGGC--CGT--GTCG-A--TT-----CAT-CGG---GT-TGT--T-G----CC---A-TT-----C-TA---A-A-C--CT-AACCT--G--TG-GAT-T--A----G--C-TA-A--T---G-CCATGG-C--GCTCC----TG-ACATACCGCG-G--AC-TG---G-TC-A-A-CCATACTAT-CCTCGG--ATAG-C-A--T-G-----G-------GG--A-T-TTTAGT-CG-CAA--T-A---A-TA--G-----TC-GTC-TCG-TT-CTGC-CGAC-TT-T--A--T-G-GT---CT-A--AA-GC-C-GC-GGTCCATTGTG-GTGCGTC--C-G-AATCG----AT-A------A-CGTCTCTCGTTT-G---CG-G-T-CC-G-TCCGTTAG-C--G-CACT-TGA--G-GACC--AGC--CCACT--CCAT-------GC-ATA-TCG-G--CT-TC--AACGT-C-GTG-A--G-T-CGGAACAC-CGG---AGC--G-GT-A-G-T--CC-C--TTCATATTAC-GTAGT-TCTA-T----G-G-AAG-G---G--G---AA---G--AA----T-TG--GG-A--TAT--A-AAT--TGAT-AT-CT-AT----TTG-GTATC-ACAT-G-TCCCCCGC--CTA-GA-CA-CGAG-AGAACT-ATATAC-TA-ACAA-A-GA-T--A-CT---C---C-C---ATAC-ATT--CT-----CC---------TC--T-GC------T---A---TGCT\n",
      "Alignment of sec sequence = AGCCGTTCTAGGAGTTCCCCAATGCCAATCAGGATCGTGTAATACTGCGTACTGCCCTTTGCAAAACTGAGGACCTCGACT-TGACAGTCCCTCACTGTAGCGCAAGGCGTAGCAACCGTTCTTACAGGCGTAGAAGTACATCTCGGTGTTGGCCATCAGGGGAAATCATCAATTATCGTCCCGCGTTTTAGAACCAAGTGATCTACGCCAAACGTTACCGAACCTGAAGCGGAGATGTTCTTAAGGACT-TAGCTTCGACACACACTAGCTGACATTGACTGATAACTTTAAGGCGGGTTTCTAGCCAGCTTGCAGCCACATGTCCCGTGGTGTGTTCGATAGGACGAGCATCCCGGAGAGAAGGTTCTGAGATAAAGAATAGTGGGCCTTTTGGCATCACTTCGTTCCAGAAAATTAGCTACGCAGAAAAGGCGGCCCTACGAGCAACACTTTATGCCTCTCACATCAATCGTTTCATCCGCCGATTCCAAACATTAGGTGTGGTCCTTCGACTCACCGCTCGGTCGTGTCGTCAGCTTACT-TAGCCAGAGGTGGCATCATTCTGGAAAGGTACCTC-CTAAGGGTCACTCGCATCTAACGTCCCGGCCTCAGTTTTG-GGTACGACTAATGATCAGGGGGACAAGGATATCAGCCTTATTGACC-CGCTGCTCCGACTGGTCCAGTTGGTCACACTAACCGTGGATTACTGGTCGGCGACGTTTACCCCCTATGCCTAGTTTTTGGAGGGCGTGGAGCACACTCCGTAGGTACGAAGT-TACTAGGTCTTGAATTTGTGCGTCGGGCCTCGTGCAGCAGTATGGCGGGGGAGGCTGAGCGGAACATTAGTGTGCAGTTAGGCAAAAAAGAATAAGTCAAGTTTGTTAGCGATAGTTTCAAAGTCCTATGTACCTATCTATGCCCGGGGCTACCACACAACGCAAAGTTTCGGCAGATATGAAGGATCCGAAGCGCCGCTTATTGGCAGGCTAGTACCTCATACCTCTTGCGAGACCCAGGTGGTTACCGTCCTTCTTGTGCAATAGTGTGTACACGTAAACGTATAAGGTTA--GC-AC-TTCAGAAATATATTCCTTATAAACTGCCGTCGCCGTGGGTGGCGTAGACCGCATATAGTGCACCCGATCAGGGCTTAGTCAGT-GAATGTTGCGGCCTTGCGGCAAGTCTTTACTGGATACCCTGGACTTAAACGCATATCGATACCATCTAAACTTAGGTTTGACATGTGAACCCCGACCATACAGCTGCCGCCCATGGACGTGCCCCATAATGTCCAT-TCGAGAGCAACTTGTTCGACCGAGAGCCA-ACTCTCCCCCGGACAAAGCCAATTTCGATTTTGTCCATACGGAAAGTCTTTA-TCCGCCAAGGTCACCCACAACCGAACCATCTG-CGTCGATTAGGGCGCTACATTGTAAAGCTAGAGTAAGTTGATTAACGCACAACTGG--CATTGTGCCT-CTTCTTCGGAAAT-GATTTATAATTGGGGAGCGACCCTCATTTCGTACCGCGCTGCCTGATCC-TCAGACATGTTACTACGAGGGTGCCCTGAGCTGAGACTCCCCATGCGGAAGGCGAAATTCGCGATCTAACAAAATGTCCTCTGTACTGCTCCTG-ACTCTAGGTCAAGCTAGTGTGATGATGGCCACAGAGCAAATTCCAGAATTGTC-ACTCCCGGAGTAAGTGTTCGCTGTATAATGTGCCAATCGTTATGATGGCAGGGATGCAGAATGCT-CTCATCCTCATCCAATCGAGCCTCTAAATCGTTCCAGAGCTGCGATGACCAGCG-GTAG-CCTGGTGT-CTTATCCAACAGGACTGAATCTGGGCTTTCACTGGGTTCGATTACCTCGACACCGTGTGTAATTCTTTAGCTGGAAATAACACGGTGTT\n"
     ]
    }
   ],
   "source": [
    "# test get_alignment_score here This cell is for testing by Amit\n",
    "sequences = generate_sequences(2,1000)\n",
    "sequences1 = generate_sequences(8,1900)\n",
    "score, align1, align2 = get_alignment_score(sequences[1],sequences1[2])\n",
    "println(\"Score = \",score)\n",
    "println(\"Alignment of fir sequence = \",align1)\n",
    "println(\"Alignment of sec sequence = \",align2)"
   ]
  },
  {
   "cell_type": "code",
   "execution_count": 241,
   "metadata": {},
   "outputs": [
    {
     "data": {
      "text/plain": [
       "find_gap_indices (generic function with 1 method)"
      ]
     },
     "execution_count": 241,
     "metadata": {},
     "output_type": "execute_result"
    }
   ],
   "source": [
    "function find_gap_indices(A, alignedA)\n",
    "    i = 1\n",
    "    j = 1\n",
    "    pointer = []\n",
    "    while j <= length(alignedA)\n",
    "        if alignedA[j] == '-' && (i > length(A) || A[i] != '-')\n",
    "            push!(pointer, j)\n",
    "            j += 1\n",
    "        else\n",
    "            j += 1\n",
    "            i += 1\n",
    "        end\n",
    "    end\n",
    "    return pointer\n",
    "end"
   ]
  },
  {
   "cell_type": "code",
   "execution_count": 242,
   "metadata": {},
   "outputs": [
    {
     "data": {
      "text/plain": [
       "2-element Array{Any,1}:\n",
       "  7\n",
       " 10"
      ]
     },
     "execution_count": 242,
     "metadata": {},
     "output_type": "execute_result"
    }
   ],
   "source": [
    "# test find_gap_indices here\n",
    "A = \"AAA--GGTT--\"\n",
    "alignedA = \"AAA--G-GT-T--\"\n",
    "find_gap_indices(A,alignedA)"
   ]
  },
  {
   "cell_type": "code",
   "execution_count": 243,
   "metadata": {},
   "outputs": [
    {
     "data": {
      "text/plain": [
       "insert_gaps (generic function with 1 method)"
      ]
     },
     "execution_count": 243,
     "metadata": {},
     "output_type": "execute_result"
    }
   ],
   "source": [
    "function insert_gaps(S,gap_indices_for_A)\n",
    "    copy_of_S = S\n",
    "    if length(gap_indices_for_A) > 0 && length(gap_indices_for_A) > 0\n",
    "        gap_indices_for_A = sort(gap_indices_for_A)\n",
    "        for i in gap_indices_for_A\n",
    "            copy_of_S = string(string(copy_of_S[1:i-1],'-'),copy_of_S[i:end])\n",
    "        end\n",
    "    end\n",
    "    return copy_of_S\n",
    "end"
   ]
  },
  {
   "cell_type": "code",
   "execution_count": 244,
   "metadata": {},
   "outputs": [
    {
     "data": {
      "text/plain": [
       "\"-A-A-AAA\""
      ]
     },
     "execution_count": 244,
     "metadata": {},
     "output_type": "execute_result"
    }
   ],
   "source": [
    "# test insert_gaps here\n",
    "insert_gaps(\"AAAAA\",[1,3,5])"
   ]
  },
  {
   "cell_type": "code",
   "execution_count": 245,
   "metadata": {},
   "outputs": [
    {
     "data": {
      "text/plain": [
       "align_output_sequences (generic function with 1 method)"
      ]
     },
     "execution_count": 245,
     "metadata": {},
     "output_type": "execute_result"
    }
   ],
   "source": [
    "# this function takes two params: sequences is the original array of input sequences, order is the array output of tsp algorithm of the order of sequences\n",
    "# notice that the index in both the params are relative to each other\n",
    "function align_output_sequences(sequences, order) \n",
    "    ordered_sequences = Array{String,1}(undef,0)\n",
    "    for i=1:length(order)\n",
    "        push!(ordered_sequences,sequences[order[i]])\n",
    "    end\n",
    "    aligned_sequences = Array{String,1}(undef,0)\n",
    "    for i=1:length(ordered_sequences)\n",
    "        push!(aligned_sequences,ordered_sequences[i])\n",
    "    end\n",
    "    for i=1:length(aligned_sequences)-1\n",
    "        A = aligned_sequences[i]\n",
    "        B = aligned_sequences[i+1]\n",
    "        score, alignedA, alignedB = get_alignment_score(A,B)\n",
    "        gap_indices_for_A = find_gap_indices(A, alignedA)\n",
    "        # go to all predecessors of A and insert the gaps at same place\n",
    "        for j = 1:i-1\n",
    "            S = aligned_sequences[j]\n",
    "            newly_alinged_S = insert_gaps(S,gap_indices_for_A)\n",
    "            aligned_sequences[j] = newly_alinged_S\n",
    "        end\n",
    "        aligned_sequences[i] = alignedA\n",
    "        aligned_sequences[i+1] = alignedB\n",
    "    end  \n",
    "    return aligned_sequences\n",
    "end"
   ]
  },
  {
   "cell_type": "code",
   "execution_count": 246,
   "metadata": {},
   "outputs": [
    {
     "data": {
      "text/plain": [
       "Make_Profile (generic function with 1 method)"
      ]
     },
     "execution_count": 246,
     "metadata": {},
     "output_type": "execute_result"
    }
   ],
   "source": [
    "function Make_Profile(k::Int, t::Int, A::Array{String,1})::Dict{String,Array{Int64,1}}\n",
    "    idxA = zeros(Int64, k)\n",
    "    idxC = zeros(Int64, k)\n",
    "    idxG = zeros(Int64, k)\n",
    "    idxT = zeros(Int64, k)\n",
    "    idxGap = zeros(Int64, k)\n",
    "\n",
    "    for index in range(1, length=k)\n",
    "        for seq in A\n",
    "            if seq[index] == 'A'\n",
    "                idxA[index] += 1\n",
    "            elseif seq[index] == 'C'\n",
    "                idxC[index] += 1\n",
    "            elseif seq[index] == 'G'\n",
    "                idxG[index] += 1\n",
    "            elseif seq[index] == 'T'\n",
    "                idxT[index] += 1\n",
    "            elseif seq[index] == '-'\n",
    "                idxGap[index] += 1\n",
    "            else\n",
    "                msg = @sprintf(\"character [%s] not allowed in DNA sequence\", string(seq[index]))\n",
    "                throw(ErrorException(msg))\n",
    "            end\n",
    "        end\n",
    "    end\n",
    "\n",
    "    return Dict(\n",
    "        \"A\" => idxA,\n",
    "        \"C\" => idxC,\n",
    "        \"G\" => idxG,\n",
    "        \"T\" => idxT,\n",
    "        \"-\" => idxGap\n",
    "    )\n",
    "end"
   ]
  },
  {
   "cell_type": "code",
   "execution_count": 247,
   "metadata": {},
   "outputs": [
    {
     "data": {
      "text/plain": [
       "score_sequences (generic function with 1 method)"
      ]
     },
     "execution_count": 247,
     "metadata": {},
     "output_type": "execute_result"
    }
   ],
   "source": [
    "# Score the sequences in A by obtaining the consensus score using Make_Profile\n",
    "function score_sequences(A::Array{String,1})::Int\n",
    "    k = length(A[1])    # how long are the sequences\n",
    "    t = length(A)       # how many sequences\n",
    "    profile = Make_Profile(k, t, A)\n",
    "    # score is the sum of the maximum occurring letter (not including gaps) in each position\n",
    "    score = 0\n",
    "    for i in 1:k\n",
    "        a = profile[\"A\"][i]\n",
    "        t = profile[\"T\"][i]\n",
    "        g = profile[\"G\"][i]\n",
    "        c = profile[\"C\"][i]\n",
    "        gap = profile[\"-\"][i]\n",
    "#         if max(a, t, g, c) == 4\n",
    "#             println(\"inx = \",i)\n",
    "#             score += 1\n",
    "#         end\n",
    "        score += max(a, t, g, c)\n",
    "#         score += 2(max(a, t, g, c)) - (a + t + c + g) - 2(gap)\n",
    "    end\n",
    "    return score\n",
    "end"
   ]
  },
  {
   "cell_type": "code",
   "execution_count": 248,
   "metadata": {},
   "outputs": [
    {
     "name": "stdout",
     "output_type": "stream",
     "text": [
      "[0.0 18.0 7.0 1.0; 18.0 0.0 18.0 7.0; 7.0 18.0 0.0 16.0; 1.0 7.0 16.0 0.0]current best path = [2, 4, 1, 3]\n",
      "current distance = 15.0\n",
      "global best path = [2, 4, 1, 3]\n",
      "global best path distance =15.0\n",
      "iteration over\n",
      "current best path = [2, 4, 1, 3]\n",
      "current distance = 15.0\n",
      "global best path = [2, 4, 1, 3]\n",
      "global best path distance =15.0\n",
      "iteration over\n",
      "current best path = [1, 4, 2, 3]\n",
      "current distance = 26.0\n",
      "global best path = [2, 4, 1, 3]\n",
      "global best path distance =15.0\n",
      "iteration over\n",
      "current best path = [3, 1, 4, 2]\n",
      "current distance = 15.0\n",
      "global best path = [2, 4, 1, 3]\n",
      "global best path distance =15.0\n",
      "iteration over\n",
      "current best path = [3, 1, 4, 2]\n",
      "current distance = 15.0\n",
      "global best path = [2, 4, 1, 3]\n",
      "global best path distance =15.0\n",
      "iteration over\n",
      "current best path = [2, 3, 1, 4]\n",
      "current distance = 26.0\n",
      "global best path = [2, 4, 1, 3]\n",
      "global best path distance =15.0\n",
      "iteration over\n",
      "current best path = [3, 1, 4, 2]\n",
      "current distance = 15.0\n",
      "global best path = [2, 4, 1, 3]\n",
      "global best path distance =15.0\n",
      "iteration over\n",
      "current best path = [3, 1, 4, 2]\n",
      "current distance = 15.0\n",
      "global best path = [2, 4, 1, 3]\n",
      "global best path distance =15.0\n",
      "iteration over\n",
      "current best path = [3, 1, 4, 2]\n",
      "current distance = 15.0\n",
      "global best path = [2, 4, 1, 3]\n",
      "global best path distance =15.0\n",
      "iteration over\n",
      "current best path = [2, 4, 1, 3]\n",
      "current distance = 15.0\n",
      "global best path = [2, 4, 1, 3]\n",
      "global best path distance =15.0\n",
      "iteration over\n",
      "current best path = [3, 1, 4, 2]\n",
      "current distance = 15.0\n",
      "global best path = [2, 4, 1, 3]\n",
      "global best path distance =15.0\n",
      "iteration over\n",
      "current best path = [3, 1, 4, 2]\n",
      "current distance = 15.0\n",
      "global best path = [2, 4, 1, 3]\n",
      "global best path distance =15.0\n",
      "iteration over\n",
      "current best path = [4, 1, 3, 2]\n",
      "current distance = 26.0\n",
      "global best path = [2, 4, 1, 3]\n",
      "global best path distance =15.0\n",
      "iteration over\n",
      "current best path = [2, 4, 1, 3]\n",
      "current distance = 15.0\n",
      "global best path = [2, 4, 1, 3]\n",
      "global best path distance =15.0\n",
      "iteration over\n",
      "current best path = [2, 3, 1, 4]\n",
      "current distance = 26.0\n",
      "global best path = [2, 4, 1, 3]\n",
      "global best path distance =15.0\n",
      "iteration over\n",
      "current best path = [4, 1, 3, 2]\n",
      "current distance = 26.0\n",
      "global best path = [2, 4, 1, 3]\n",
      "global best path distance =15.0\n",
      "iteration over\n",
      "current best path = [3, 1, 4, 2]\n",
      "current distance = 15.0\n",
      "global best path = [2, 4, 1, 3]\n",
      "global best path distance =15.0\n",
      "iteration over\n",
      "current best path = [3, 1, 4, 2]\n",
      "current distance = 15.0\n",
      "global best path = [2, 4, 1, 3]\n",
      "global best path distance =15.0\n",
      "iteration over\n",
      "current best path = [3, 1, 4, 2]\n",
      "current distance = 15.0\n",
      "global best path = [2, 4, 1, 3]\n",
      "global best path distance =15.0\n",
      "iteration over\n",
      "current best path = [3, 1, 4, 2]\n",
      "current distance = 15.0\n",
      "global best path = [2, 4, 1, 3]\n",
      "global best path distance =15.0\n",
      "iteration over\n",
      "AATGGT-CATAGC-G-AG-ATGA--AGCCACG----T--GATGGA-T--AA-T----A-TTG-TGCAAACGAC-C-TTA-TTAGCTATTGAC-CGTC--GATG---TCCAACGAGACAATT\n",
      "---GTTACATATCAG-A--ATCATTAGAAACGC---T---CT----T--AA-TGGG-G-TTA-AGCAGA-GA--C-TTAGTAAG-GATTAACTC-CCAAGATG-A-TTGACCGTG-C--TC\n",
      "---G----A-ATCTGTA--TTC-TT--CAA-GC---T--TC-AAC-T-CCA-T-GC-A-CT--A-C-GA--A--CGGTAGT--G-G--T---T---C---A-C-A-TTGACCGTG------\n",
      "-TTG-GGCGCAT-TG-ACCGTCCTT-CCTA-GCGTATCATCAAACTTGTGATTCTCTATCTAGAGC--AAAATGCGGT-GT--CCG-CT--AT-ATGGAGATCTATTTCAAAAT------A\n"
     ]
    },
    {
     "data": {
      "text/plain": [
       "280"
      ]
     },
     "execution_count": 248,
     "metadata": {},
     "output_type": "execute_result"
    }
   ],
   "source": [
    "sequences = [\"AATGGTCATAGCGAGATGAAGCCACGTGATGGATAATATTGTGCAAACGACCTTATTAGCTATTGACCGTCGATGTCCAACGAGACAATT\",\n",
    "    \"GAATCTGTATTCTTCAAGCTTCAACTCCATGCACTACGAACGGTAGTGGTTCACATTGACCGTG\",\n",
    "    \"TTGGGCGCATTGACCGTCCTTCCTAGCGTATCATCAAACTTGTGATTCTCTATCTAGAGCAAAATGCGGTGTCCGCTATATGGAGATCTATTTCAAAATA\",\n",
    "    \"GTTACATATCAGAATCATTAGAAACGCTCTTAATGGGGTTAAGCAGAGACTTAGTAAGGATTAACTCCCAAGATGATTGACCGTGCTC\"]\n",
    "# sequences = [\"ATGTCTCTGACCAGGACTGAGAGGACCATCATCCTGTCCCTGTGGAGCAAGATCT\",\n",
    "# \"ATGTCTCTGACCAGGATTGAGAGGAGCATCACCCTATCGCTGACGAGCAAGATCT\",\n",
    "# \"CTGACTCTCACCGGGAATGACAGGACCATCACACTATCGCTGACGAGCAAGATCT\",\n",
    "# \"CTCACTCTCTCCGGTAATGACATGACCATCACACTATCTCTGACGTGCAAGATCT\",\n",
    "# \"CTCACTCTCTCCGGTAATAACATTACAATCACACTCTCTCTGACGTGCAAGATCT\",\n",
    "# \"GTCACTCTCTCCGGGAATAACATTACAATCACACGCTCTCGGACGTGCAAGATCG\"]\n",
    "graph = MSA_to_TSP(sequences)\n",
    "print(graph)\n",
    "run1(50,length(sequences),graph,20,0.6,0.6,1,1)\n",
    "aligned_sequences = align_output_sequences(sequences,[1,4,2,3])\n",
    "#println(aligned_sequences)\n",
    "for i=1:length(aligned_sequences)\n",
    "    println(aligned_sequences[i])\n",
    "end\n",
    "score_sequences(aligned_sequences)"
   ]
  },
  {
   "cell_type": "code",
   "execution_count": 249,
   "metadata": {},
   "outputs": [
    {
     "name": "stdout",
     "output_type": "stream",
     "text": [
      "230\n"
     ]
    }
   ],
   "source": [
    "align1 = [\n",
    "\"--------TTGGGCGCATTGACCGTCCTTCCTAGCGTATC-ATCAAACTTGTGATTCTCTATCTAGAGCAAAATGCGGTGTCCGCTATATGGAGATCTATTTCAAAATA------\",\n",
    "\"GTTACATATCAGAATCATTAGAAACGCTCTTAATGGGGTTAAGCAGAGACTTAGT----AAGGATTAACTCCCAAGA-------TGATTGACCGTGCTC----------------\",\n",
    "\"----------------------AATGGTCATAGCGAGATGAAGCCACGTGATGGAT---AATATTGTGCAAACGACCTTATTAGCTATTGACCGTCGATGTCCAACGAGACAATT\",\n",
    "\"------------------------------------------------GAATCTGT---ATTCTTCAAGCTTCAACTCCATGCACTACGAACGGTAGTGGTTCACATTGACCGTG\"]\n",
    "\n",
    "println(score_sequences(align1))"
   ]
  },
  {
   "cell_type": "code",
   "execution_count": 250,
   "metadata": {},
   "outputs": [
    {
     "name": "stdout",
     "output_type": "stream",
     "text": [
      "230\n",
      "116\n"
     ]
    }
   ],
   "source": [
    "nir = [\n",
    "\"AATGGTCATAGC------------G-----AGATGA--AG-CCACGTGATGGATAATATTGTGCAAACGACCTTATTAGCT---ATTGACCGTCGATGTCCAACGAGACAAT---T\",\n",
    "\"GAATC-------------------T-----GTATTCTTC--AA-GCTTCAACTC-----CAT--------------GCACT---ACGAACGGTAGTGGTTCACATTGACCGT---G\",\n",
    "\"TTGGG-CGCATTGACCGTCCTTCCTAGCGTATCATC--AAACT-TGTGATTCTCTATCTAGAGCAAAATGCGGTGTCCGCT---AT-----AT-GGAGATCTATTTCAAAAT---A\",\n",
    "\"GTTA--CATATC------------A---GAATCATT--AG-AAACGCTCTTAATGGGGTTAAGCAGAG-AC-TTAGTAAGGATTAACTCCCAA-GATGATT-----GACCGTGCTC\"\n",
    "]\n",
    "println(score_sequences(nir))\n",
    "println(length(nir[1]))"
   ]
  },
  {
   "cell_type": "code",
   "execution_count": 251,
   "metadata": {},
   "outputs": [
    {
     "name": "stdout",
     "output_type": "stream",
     "text": [
      "280\n",
      "121\n"
     ]
    }
   ],
   "source": [
    "humara = [\n",
    "\"AATGGT-CATAGC-G-AG-ATGA--AGCCACG----T--GATGGA-T--AA-T----A-TTG-TGCAAACGAC-C-TTA-TTAGCTATTGAC-CGTC--GATG---TCCAACGAGACAATT\",\n",
    "\"---GTTACATATCAG-A--ATCATTAGAAACGC---T---CT----T--AA-TGGG-G-TTA-AGCAGA-GA--C-TTAGTAAG-GATTAACTC-CCAAGATG-A-TTGACCGTG-C--TC\",\n",
    "\"---G----A-ATCTGTA--TTC-TT--CAA-GC---T--TC-AAC-T-CCA-T-GC-A-CT--A-C-GA--A--CGGTAGT--G-G--T---T---C---A-C-A-TTGACCGTG------\",\n",
    "\"-TTG-GGCGCAT-TG-ACCGTCCTT-CCTA-GCGTATCATCAAACTTGTGATTCTCTATCTAGAGC--AAAATGCGGT-GT--CCG-CT--AT-ATGGAGATCTATTTCAAAAT------A\"\n",
    "]\n",
    "println(score_sequences(humara))\n",
    "println(length(humara[1]))"
   ]
  },
  {
   "cell_type": "code",
   "execution_count": 252,
   "metadata": {},
   "outputs": [
    {
     "name": "stdout",
     "output_type": "stream",
     "text": [
      "237\n"
     ]
    }
   ],
   "source": [
    "tcoffee = [\n",
    "    \"AATGGTCATAGC-GAGATGA-----AG------------CCACGTGATGGATAATATTGTGCAAACGACCTTATTAGCTATTGACCGT--CGATGTCCAACGAGACAATT\",\n",
    "    \"GAATC-T-------GTATTCTTC-AAG------------CT------TCAA---CTCCATGCA--------------CTACGAACGGT--AGTGGTTCACATTGACCGTG\",\n",
    "    \"TTGGG-CGCATTGACCGTCCTTCCTAGCGTATCATCAAACT-TGTGATTCTCTATCTAGAGCAAAATGCGGTGTCCGCTATA--------TGGAGATCTATTTCAAAATA\",\n",
    "    \"GTTA--CATATC-AGAATCATTAGAAACG---------------CTCTTAATGGGGTTAAGCAGA-GA-CTTAGTAAGGATTAACTCCCAAGATGATTGAC--CGTGCTC\"\n",
    "]\n",
    "println(score_sequences(tcoffee))"
   ]
  },
  {
   "cell_type": "code",
   "execution_count": 253,
   "metadata": {},
   "outputs": [
    {
     "data": {
      "text/plain": [
       "calc_sum_pair (generic function with 1 method)"
      ]
     },
     "execution_count": 253,
     "metadata": {},
     "output_type": "execute_result"
    }
   ],
   "source": [
    "function calc_sum_pair(sequences) \n",
    "    t = length(sequences)\n",
    "    k = length(sequences[1])\n",
    "    score = 0\n",
    "    for i=1:t\n",
    "        A = sequences[i]\n",
    "        for j=i+1:t\n",
    "            B = sequences[j]\n",
    "            for idx = 1:k\n",
    "                if A[idx] == B[idx] && A[idx] != '-'\n",
    "                    score += 1\n",
    "                end\n",
    "            end\n",
    "        end\n",
    "    end\n",
    "    return score\n",
    "end"
   ]
  },
  {
   "cell_type": "code",
   "execution_count": 254,
   "metadata": {},
   "outputs": [
    {
     "name": "stdout",
     "output_type": "stream",
     "text": [
      "169\n",
      "257\n",
      "183\n"
     ]
    }
   ],
   "source": [
    "println(calc_sum_pair(nir))\n",
    "println(calc_sum_pair(humara))\n",
    "println(calc_sum_pair(tcoffee))"
   ]
  },
  {
   "cell_type": "code",
   "execution_count": 255,
   "metadata": {},
   "outputs": [
    {
     "name": "stdout",
     "output_type": "stream",
     "text": [
      "169\n"
     ]
    }
   ],
   "source": [
    "println(calc_sum_pair(nir))"
   ]
  },
  {
   "cell_type": "code",
   "execution_count": 256,
   "metadata": {},
   "outputs": [
    {
     "data": {
      "text/plain": [
       "get_sequences_from_file (generic function with 1 method)"
      ]
     },
     "execution_count": 256,
     "metadata": {},
     "output_type": "execute_result"
    }
   ],
   "source": [
    "function get_sequences_from_file(file_name)\n",
    "    sequences = []\n",
    "    flag_first_arrow = true\n",
    "    open(file_name) do f\n",
    "        sequence = \"\"\n",
    "        for line in eachline(f)\n",
    "            if startswith(line, '>') \n",
    "                if flag_first_arrow\n",
    "                    flag_first_arrow = false\n",
    "                    continue\n",
    "                end\n",
    "                push!(sequences, sequence)\n",
    "                sequence = \"\"\n",
    "            else\n",
    "                sequence *= line\n",
    "            end\n",
    "        end\n",
    "        if length(sequence) > 0\n",
    "            push!(sequences, sequence)\n",
    "        end\n",
    "    end\n",
    "    return sequences\n",
    "end"
   ]
  },
  {
   "cell_type": "code",
   "execution_count": 267,
   "metadata": {},
   "outputs": [
    {
     "name": "stdout",
     "output_type": "stream",
     "text": [
      "current best path = [2, 4, 1, 3]\n",
      "current distance = 15.0\n",
      "global best path = [2, 4, 1, 3]\n",
      "global best path distance =15.0\n",
      "iteration over\n",
      "The aligned sequences are saved in output file. Printing them here as well the aligned sequences:\n",
      "----G----A-AT-C-TGTATTC-TT--C-AA--GCT------T----CAACT-CCAT-G-CA-CTACGA--ACGGTAGT--G-G---T----T----C---A-CATTGACCGTG------\n",
      "----GTTACATAT-C-AG-AATCATTAGA-AA-CGCT---C--T----TAA-TGGGGT-T-AAGC-A-GA-GAC-TTAGTAAG-GAT-T-AACTC--CCAAGATGATTGACCGTG-C--TC\n",
      "AAT-GGT-CATAG-CGAG--ATGA--AGC-CA-CG-T--GA--TG-GATAA-T---AT-T-GTGC-A-AACGACCTTA-TTAGCTAT-T-GAC-CG-TC--GATG-TCCAACGAGACAATT\n",
      "-TTGGGCGCATTGAC-CGTCCTTCCTAGCGTATC-ATCAAACTTGTGAT-TCT-CTATCTAGAGC-AAAATG-CGGT-GTCCGCTATATGGA---GATC--TAT--T---TC-A-A-AATA\n"
     ]
    },
    {
     "data": {
      "text/plain": [
       "(264, [\"----G----A-AT-C-TGTATTC-TT--C-AA--GCT------T----CAACT-CCAT-G-CA-CTACGA--ACGGTAGT--G-G---T----T----C---A-CATTGACCGTG------\", \"----GTTACATAT-C-AG-AATCATTAGA-AA-CGCT---C--T----TAA-TGGGGT-T-AAGC-A-GA-GAC-TTAGTAAG-GAT-T-AACTC--CCAAGATGATTGACCGTG-C--TC\", \"AAT-GGT-CATAG-CGAG--ATGA--AGC-CA-CG-T--GA--TG-GATAA-T---AT-T-GTGC-A-AACGACCTTA-TTAGCTAT-T-GAC-CG-TC--GATG-TCCAACGAGACAATT\", \"-TTGGGCGCATTGAC-CGTCCTTCCTAGCGTATC-ATCAAACTTGTGAT-TCT-CTATCTAGAGC-AAAATG-CGGT-GTCCGCTATATGGA---GATC--TAT--T---TC-A-A-AATA\"])"
      ]
     },
     "execution_count": 267,
     "metadata": {},
     "output_type": "execute_result"
    }
   ],
   "source": [
    "# this is the driver function which take the fasta file as input and writes the output to the output.txt file.\n",
    "# the default input to this function is input.fasta which should be present in the same folder as this code.\n",
    "function driver(filename=\"input1.txt\")\n",
    "    # get the sequences from input file\n",
    "    input_sequences = get_sequences_from_file(filename)\n",
    "    # convert the get input_sequences to TSP problem and get the distance_matrix for TSP\n",
    "    input_distance_matrix = MSA_to_TSP(input_sequences)\n",
    "    # configuration for ACO\n",
    "    num_ants = 50\n",
    "    num_sequences = length(input_sequences)\n",
    "    iterations = 1\n",
    "    Q = 0.6\n",
    "    decay = 0.6\n",
    "    alpha = 1\n",
    "    beta = 1\n",
    "    # run the ant colony optimization, get the order of node traversal\n",
    "    order_of_alignment = run1(num_ants,num_sequences,input_distance_matrix,iterations,Q,decay,alpha,beta)\n",
    "    # align output sequences in the order identified by above algorithm\n",
    "    aligned_sequences = align_output_sequences(sequences,order_of_alignment)\n",
    "    # get the score of the aligned_sequences\n",
    "    final_score = calc_sum_pair(aligned_sequences)\n",
    "    # save the output in fasta format in output.txt\n",
    "    \n",
    "    # print the aligned sequences\n",
    "    println(\"The aligned sequences are saved in output file. Printing them here as well the aligned sequences:\")\n",
    "    for i=1:length(aligned_sequences)\n",
    "        println(aligned_sequences[i])\n",
    "    end  \n",
    "    return final_score, aligned_sequences\n",
    "end\n",
    "driver()"
   ]
  },
  {
   "cell_type": "code",
   "execution_count": null,
   "metadata": {},
   "outputs": [],
   "source": []
  },
  {
   "cell_type": "code",
   "execution_count": null,
   "metadata": {},
   "outputs": [],
   "source": []
  },
  {
   "cell_type": "code",
   "execution_count": null,
   "metadata": {},
   "outputs": [],
   "source": []
  }
 ],
 "metadata": {
  "accelerator": "GPU",
  "colab": {
   "collapsed_sections": [],
   "name": "msa.ipynb",
   "provenance": []
  },
  "kernelspec": {
   "display_name": "Julia 1.5.0",
   "language": "julia",
   "name": "julia-1.5"
  },
  "language_info": {
   "file_extension": ".jl",
   "mimetype": "application/julia",
   "name": "julia",
   "version": "1.5.0"
  }
 },
 "nbformat": 4,
 "nbformat_minor": 1
}
