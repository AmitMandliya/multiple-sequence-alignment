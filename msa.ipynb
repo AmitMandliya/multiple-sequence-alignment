{
 "cells": [
  {
   "cell_type": "code",
   "execution_count": 9,
   "metadata": {},
   "outputs": [
    {
     "data": {
      "text/plain": [
       "generate_sequences (generic function with 1 method)"
      ]
     },
     "execution_count": 9,
     "metadata": {},
     "output_type": "execute_result"
    }
   ],
   "source": [
    "function generate_sequences()\n",
    "    \n",
    "end"
   ]
  },
  {
   "cell_type": "code",
   "execution_count": 10,
   "metadata": {},
   "outputs": [],
   "source": [
    "# test generate_sequences here"
   ]
  },
  {
   "cell_type": "code",
   "execution_count": 11,
   "metadata": {},
   "outputs": [
    {
     "data": {
      "text/plain": [
       "MSA_to_TSP (generic function with 1 method)"
      ]
     },
     "execution_count": 11,
     "metadata": {},
     "output_type": "execute_result"
    }
   ],
   "source": [
    "function MSA_to_TSP()\n",
    "end"
   ]
  },
  {
   "cell_type": "code",
   "execution_count": 12,
   "metadata": {},
   "outputs": [],
   "source": [
    "# test MSA_to_TSP here"
   ]
  },
  {
   "cell_type": "code",
   "execution_count": 13,
   "metadata": {},
   "outputs": [
    {
     "data": {
      "text/plain": [
       "get_alignment_score (generic function with 1 method)"
      ]
     },
     "execution_count": 13,
     "metadata": {},
     "output_type": "execute_result"
    }
   ],
   "source": [
    "function get_alignment_score(v, w, match_penalty=1, mismatch_penalty=-1, deletion_penalty=-1)\n",
    "    n1 = length(v)\n",
    "    n2 = length(w)\n",
    "    #if !use_preallocated_matrices\n",
    "    s = zeros(Float64, n1+1, n2+1)\n",
    "    b = zeros(Float64, n1+1, n2+1)\n",
    "    #end\n",
    "\n",
    "    for i in 1:(n1+1)\n",
    "        s[i,1] = (i-1) * deletion_penalty\n",
    "        b[i,1] = 2\n",
    "    end\n",
    "    for j in 1:(n2+1)\n",
    "        s[1,j] = (j-1) * deletion_penalty\n",
    "        b[1,j] = 3\n",
    "    end\n",
    "\n",
    "    for i in 2:(n1+1)\n",
    "        for j in 2:(n2+1)\n",
    "            if v[i-1] == w[j-1]\n",
    "                ms = s[i-1,j-1] + match_penalty\n",
    "            else\n",
    "                # ignore cases where a letter is paired with a gap\n",
    "                # do not consider this a mismatch\n",
    "                # if v[i-1] != '-' && w[j-1] != '-'\n",
    "                #     ms = s[i-1,j-1] + mismatch_penalty\n",
    "                # else\n",
    "                #     # if a letter is paired with a gap, add no penalty\n",
    "                #     ms = s[i-1,j-1] #+ match_penalty # + 0.5 * mismatch_penalty\n",
    "                # end\n",
    "                ms = s[i-1,j-1] + mismatch_penalty\n",
    "            end\n",
    "            test = [ms, s[i-1,j] + deletion_penalty, s[i,j-1] + deletion_penalty]\n",
    "            p = argmax(test)\n",
    "            s[i,j] = test[p]\n",
    "            b[i,j] = p\n",
    "        end\n",
    "    end\n",
    "\n",
    "    i = n1+1\n",
    "    j = n2+1\n",
    "    sv = []\n",
    "    sw = []\n",
    "    while(i > 1 || j > 1)\n",
    "        p = b[i,j]\n",
    "        if (p == 1)\n",
    "            i = i-1\n",
    "            j = j-1\n",
    "            push!(sv, v[i])\n",
    "            push!(sw, w[j])\n",
    "        elseif p == 2\n",
    "            i=i-1\n",
    "            push!(sv, v[i])\n",
    "            push!(sw, \"-\")\n",
    "        elseif p == 3\n",
    "            j = j-1\n",
    "            push!(sv, \"-\")\n",
    "            push!(sw, w[j])\n",
    "        else\n",
    "            break\n",
    "        end\n",
    "    end\n",
    "\n",
    "    return (s[n1+1,n2+1], join(reverse(sv)), join(reverse(sw)))\n",
    "end"
   ]
  },
  {
   "cell_type": "code",
   "execution_count": 14,
   "metadata": {},
   "outputs": [],
   "source": [
    "# test get_alignment_score here"
   ]
  },
  {
   "cell_type": "code",
   "execution_count": null,
   "metadata": {},
   "outputs": [],
   "source": [
    "function ACO_on_TSP()\n",
    "end"
   ]
  },
  {
   "cell_type": "code",
   "execution_count": null,
   "metadata": {},
   "outputs": [],
   "source": [
    "# test ACO_on_TSP here"
   ]
  },
  {
   "cell_type": "code",
   "execution_count": 15,
   "metadata": {},
   "outputs": [
    {
     "data": {
      "text/plain": [
       "TSP_to_MSA (generic function with 1 method)"
      ]
     },
     "execution_count": 15,
     "metadata": {},
     "output_type": "execute_result"
    }
   ],
   "source": [
    "function TSP_to_MSA()\n",
    "end"
   ]
  },
  {
   "cell_type": "code",
   "execution_count": 16,
   "metadata": {},
   "outputs": [],
   "source": [
    "# test TSP_to_MSA here"
   ]
  },
  {
   "cell_type": "code",
   "execution_count": null,
   "metadata": {},
   "outputs": [],
   "source": []
  }
 ],
 "metadata": {
  "kernelspec": {
   "display_name": "Julia 1.5.0",
   "language": "julia",
   "name": "julia-1.5"
  },
  "language_info": {
   "file_extension": ".jl",
   "mimetype": "application/julia",
   "name": "julia",
   "version": "1.5.0"
  }
 },
 "nbformat": 4,
 "nbformat_minor": 2
}
