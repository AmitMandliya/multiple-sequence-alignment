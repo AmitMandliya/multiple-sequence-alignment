{
  "nbformat": 4,
  "nbformat_minor": 0,
  "metadata": {
    "colab": {
      "name": "msa.ipynb",
      "provenance": [],
      "collapsed_sections": [],
      "include_colab_link": true
    },
    "kernelspec": {
      "display_name": "Julia",
      "language": "julia",
      "name": "julia"
    },
    "language_info": {
      "file_extension": ".jl",
      "mimetype": "application/julia",
      "name": "julia"
    },
    "accelerator": "GPU"
  },
  "cells": [
    {
      "cell_type": "markdown",
      "metadata": {
        "id": "view-in-github",
        "colab_type": "text"
      },
      "source": [
        "<a href=\"https://colab.research.google.com/github/AmitMandliya/multiple-sequence-alignment/blob/feature%2Fgoogle_collab_checkpoint/msa.ipynb\" target=\"_parent\"><img src=\"https://colab.research.google.com/assets/colab-badge.svg\" alt=\"Open In Colab\"/></a>"
      ]
    },
    {
      "cell_type": "markdown",
      "metadata": {
        "id": "tQ1r1bbb0yBv"
      },
      "source": [
        "# <img src=\"https://github.com/JuliaLang/julia-logo-graphics/raw/master/images/julia-logo-color.png\" height=\"100\" /> _Colab Notebook Template_\n",
        "\n",
        "## Instructions\n",
        "1. Work on a copy of this notebook: _File_ > _Save a copy in Drive_ (you will need a Google account). Alternatively, you can download the notebook using _File_ > _Download .ipynb_, then upload it to [Colab](https://colab.research.google.com/).\n",
        "2. If you need a GPU: _Runtime_ > _Change runtime type_ > _Harware accelerator_ = _GPU_.\n",
        "3. Execute the following cell (click on it and press Ctrl+Enter) to install Julia, IJulia and other packages (if needed, update `JULIA_VERSION` and the other parameters). This takes a couple of minutes.\n",
        "4. Reload this page (press Ctrl+R, or ⌘+R, or the F5 key) and continue to the next section.\n",
        "\n",
        "_Notes_:\n",
        "* If your Colab Runtime gets reset (e.g., due to inactivity), repeat steps 2, 3 and 4.\n",
        "* After installation, if you want to change the Julia version or activate/deactivate the GPU, you will need to reset the Runtime: _Runtime_ > _Factory reset runtime_ and repeat steps 3 and 4."
      ]
    },
    {
      "cell_type": "code",
      "metadata": {
        "id": "GIeFXS0F0zww",
        "outputId": "82b53db8-41cc-43bd-f068-1ba52553686f",
        "colab": {
          "base_uri": "https://localhost:8080/"
        }
      },
      "source": [
        "%%shell\n",
        "set -e\n",
        "\n",
        "#---------------------------------------------------#\n",
        "JULIA_VERSION=\"1.4.2\" # any version ≥ 0.7.0\n",
        "JULIA_PACKAGES=\"IJulia BenchmarkTools Plots\"\n",
        "JULIA_PACKAGES_IF_GPU=\"CuArrays\"\n",
        "JULIA_NUM_THREADS=2\n",
        "#---------------------------------------------------#\n",
        "\n",
        "if [ -n \"$COLAB_GPU\" ] && [ -z `which julia` ]; then\n",
        "  # Install Julia\n",
        "  JULIA_VER=`cut -d '.' -f -2 <<< \"$JULIA_VERSION\"`\n",
        "  echo \"Installing Julia $JULIA_VERSION on the current Colab Runtime...\"\n",
        "  BASE_URL=\"https://julialang-s3.julialang.org/bin/linux/x64\"\n",
        "  URL=\"$BASE_URL/$JULIA_VER/julia-$JULIA_VERSION-linux-x86_64.tar.gz\"\n",
        "  wget -nv $URL -O /tmp/julia.tar.gz # -nv means \"not verbose\"\n",
        "  tar -x -f /tmp/julia.tar.gz -C /usr/local --strip-components 1\n",
        "  rm /tmp/julia.tar.gz\n",
        "\n",
        "  # Install Packages\n",
        "  if [ \"$COLAB_GPU\" = \"1\" ]; then\n",
        "      JULIA_PACKAGES=\"$JULIA_PACKAGES $JULIA_PACKAGES_IF_GPU\"\n",
        "  fi\n",
        "  for PKG in `echo $JULIA_PACKAGES`; do\n",
        "    echo \"Installing Julia package $PKG...\"\n",
        "    julia -e 'using Pkg; pkg\"add '$PKG'; precompile;\"'\n",
        "  done\n",
        "\n",
        "  # Install kernel and rename it to \"julia\"\n",
        "  echo \"Installing IJulia kernel...\"\n",
        "  julia -e 'using IJulia; IJulia.installkernel(\"julia\", env=Dict(\n",
        "      \"JULIA_NUM_THREADS\"=>\"'\"$JULIA_NUM_THREADS\"'\"))'\n",
        "  KERNEL_DIR=`julia -e \"using IJulia; print(IJulia.kerneldir())\"`\n",
        "  KERNEL_NAME=`ls -d \"$KERNEL_DIR\"/julia*`\n",
        "  mv -f $KERNEL_NAME \"$KERNEL_DIR\"/julia  \n",
        "\n",
        "  echo ''\n",
        "  echo \"Success! Please reload this page and jump to the next section.\"\n",
        "fi"
      ],
      "execution_count": null,
      "outputs": [
        {
          "output_type": "stream",
          "text": [
            "Installing Julia 1.4.2 on the current Colab Runtime...\n",
            "2020-11-02 23:10:02 URL:https://storage.googleapis.com/julialang2/bin/linux/x64/1.4/julia-1.4.2-linux-x86_64.tar.gz [99093958/99093958] -> \"/tmp/julia.tar.gz\" [1]\n",
            "Installing Julia package IJulia...\n",
            "    Cloning default registries into `~/.julia`\n",
            "    Cloning registry from \"https://github.com/JuliaRegistries/General.git\"\n",
            "\u001b[2K\u001b[?25h      Added registry `General` to `~/.julia/registries/General`\n",
            "  Resolving package versions...\n",
            "  Installed Artifacts ─────── v1.3.0\n",
            "  Installed VersionParsing ── v1.2.0\n",
            "  Installed MbedTLS_jll ───── v2.16.8+1\n",
            "  Installed ZeroMQ_jll ────── v4.3.2+5\n",
            "  Installed SoftGlobalScope ─ v1.1.0\n",
            "  Installed Parsers ───────── v1.0.11\n",
            "  Installed IJulia ────────── v1.22.0\n",
            "  Installed JLLWrappers ───── v1.1.3\n",
            "  Installed MbedTLS ───────── v1.0.3\n",
            "  Installed JSON ──────────── v0.21.1\n",
            "  Installed Conda ─────────── v1.5.0\n",
            "  Installed ZMQ ───────────── v1.2.1\n",
            "Downloading artifact: MbedTLS\n",
            "######################################################################## 100.0%\n",
            "\u001b[1A\u001b[2K\u001b[?25hDownloading artifact: ZeroMQ\n",
            "######################################################################## 100.0%\n",
            "\u001b[1A\u001b[2K\u001b[?25h   Updating `~/.julia/environments/v1.4/Project.toml`\n",
            "  [7073ff75] + IJulia v1.22.0\n",
            "   Updating `~/.julia/environments/v1.4/Manifest.toml`\n",
            "  [56f22d72] + Artifacts v1.3.0\n",
            "  [8f4d0f93] + Conda v1.5.0\n",
            "  [7073ff75] + IJulia v1.22.0\n",
            "  [692b3bcd] + JLLWrappers v1.1.3\n",
            "  [682c06a0] + JSON v0.21.1\n",
            "  [739be429] + MbedTLS v1.0.3\n",
            "  [c8ffd9c3] + MbedTLS_jll v2.16.8+1\n",
            "  [69de0a69] + Parsers v1.0.11\n",
            "  [b85f4697] + SoftGlobalScope v1.1.0\n",
            "  [81def892] + VersionParsing v1.2.0\n",
            "  [c2297ded] + ZMQ v1.2.1\n",
            "  [8f1865be] + ZeroMQ_jll v4.3.2+5\n",
            "  [2a0f44e3] + Base64 \n",
            "  [ade2ca70] + Dates \n",
            "  [8ba89e20] + Distributed \n",
            "  [7b1f6079] + FileWatching \n",
            "  [b77e0a4c] + InteractiveUtils \n",
            "  [76f85450] + LibGit2 \n",
            "  [8f399da3] + Libdl \n",
            "  [56ddb016] + Logging \n",
            "  [d6f4376e] + Markdown \n",
            "  [a63ad114] + Mmap \n",
            "  [44cfe95a] + Pkg \n",
            "  [de0858da] + Printf \n",
            "  [3fa0cd96] + REPL \n",
            "  [9a3f8284] + Random \n",
            "  [ea8e919c] + SHA \n",
            "  [9e88b42a] + Serialization \n",
            "  [6462fe0b] + Sockets \n",
            "  [8dfed614] + Test \n",
            "  [cf7118a7] + UUIDs \n",
            "  [4ec0a83e] + Unicode \n",
            "   Building Conda ─→ `~/.julia/packages/Conda/x5ml4/deps/build.log`\n",
            "   Building IJulia → `~/.julia/packages/IJulia/a1SNk/deps/build.log`\n",
            "Precompiling project...\n",
            "Installing Julia package BenchmarkTools...\n",
            "   Updating registry at `~/.julia/registries/General`\n",
            "   Updating git-repo `https://github.com/JuliaRegistries/General.git`\n",
            "\u001b[?25l\u001b[2K\u001b[?25h  Resolving package versions...\n",
            "  Installed BenchmarkTools ─ v0.5.0\n",
            "   Updating `~/.julia/environments/v1.4/Project.toml`\n",
            "  [6e4b80f9] + BenchmarkTools v0.5.0\n",
            "   Updating `~/.julia/environments/v1.4/Manifest.toml`\n",
            "  [6e4b80f9] + BenchmarkTools v0.5.0\n",
            "  [37e2e46d] + LinearAlgebra \n",
            "  [2f01184e] + SparseArrays \n",
            "  [10745b16] + Statistics \n",
            "Precompiling project...\n",
            "Installing Julia package Plots...\n",
            "   Updating registry at `~/.julia/registries/General`\n",
            "   Updating git-repo `https://github.com/JuliaRegistries/General.git`\n",
            "\u001b[?25l\u001b[2K\u001b[?25h  Resolving package versions...\n",
            "  Installed LibVPX_jll ────────────────── v1.9.0+1\n",
            "  Installed FreeType2_jll ─────────────── v2.10.1+5\n",
            "  Installed FFMPEG_jll ────────────────── v4.3.1+4\n",
            "  Installed TableTraits ───────────────── v1.0.0\n",
            "  Installed DataAPI ───────────────────── v1.4.0\n",
            "  Installed StructArrays ──────────────── v0.4.4\n",
            "  Installed HTTP ──────────────────────── v0.8.19\n",
            "  Installed Plots ─────────────────────── v1.6.12\n",
            "  Installed StatsBase ─────────────────── v0.33.2\n",
            "  Installed Adapt ─────────────────────── v2.3.0\n",
            "  Installed IterTools ─────────────────── v1.3.0\n",
            "  Installed Grisu ─────────────────────── v1.0.0\n",
            "  Installed FFMPEG ────────────────────── v0.4.0\n",
            "  Installed DataStructures ────────────── v0.18.8\n",
            "  Installed x264_jll ──────────────────── v2020.7.14+2\n",
            "  Installed OpenSSL_jll ───────────────── v1.1.1+6\n",
            "  Installed Colors ────────────────────── v0.12.4\n",
            "  Installed IniFile ───────────────────── v0.5.0\n",
            "  Installed Contour ───────────────────── v0.5.5\n",
            "  Installed FriBidi_jll ───────────────── v1.0.5+6\n",
            "  Installed IteratorInterfaceExtensions ─ v1.0.0\n",
            "  Installed SortingAlgorithms ─────────── v0.3.1\n",
            "  Installed PlotThemes ────────────────── v2.0.0\n",
            "  Installed Opus_jll ──────────────────── v1.3.1+3\n",
            "  Installed Bzip2_jll ─────────────────── v1.0.6+5\n",
            "  Installed OrderedCollections ────────── v1.3.2\n",
            "  Installed EarCut_jll ────────────────── v2.1.5+0\n",
            "  Installed Measures ──────────────────── v0.3.1\n",
            "  Installed Latexify ──────────────────── v0.14.2\n",
            "  Installed FixedPointNumbers ─────────── v0.8.4\n",
            "  Installed GR ────────────────────────── v0.52.0\n",
            "  Installed x265_jll ──────────────────── v3.0.0+3\n",
            "  Installed Reexport ──────────────────── v0.2.0\n",
            "  Installed GeometryBasics ────────────── v0.3.3\n",
            "  Installed libfdk_aac_jll ────────────── v0.1.6+4\n",
            "  Installed DataValueInterfaces ───────── v1.0.0\n",
            "  Installed Tables ────────────────────── v1.1.0\n",
            "  Installed StaticArrays ──────────────── v0.12.5\n",
            "  Installed PlotUtils ─────────────────── v1.0.7\n",
            "  Installed MacroTools ────────────────── v0.5.6\n",
            "  Installed Ogg_jll ───────────────────── v1.3.4+2\n",
            "  Installed libvorbis_jll ─────────────── v1.3.6+6\n",
            "  Installed Missings ──────────────────── v0.4.4\n",
            "  Installed NaNMath ───────────────────── v0.3.4\n",
            "  Installed Zlib_jll ──────────────────── v1.2.11+18\n",
            "  Installed LaTeXStrings ──────────────── v1.2.0\n",
            "  Installed Compat ────────────────────── v3.23.0\n",
            "  Installed LAME_jll ──────────────────── v3.100.0+3\n",
            "  Installed Showoff ───────────────────── v0.3.2\n",
            "  Installed Requires ──────────────────── v1.1.0\n",
            "  Installed RecipesBase ───────────────── v1.1.0\n",
            "  Installed ColorTypes ────────────────── v0.10.9\n",
            "  Installed Formatting ────────────────── v0.4.1\n",
            "  Installed RecipesPipeline ───────────── v0.1.13\n",
            "  Installed libass_jll ────────────────── v0.14.0+4\n",
            "  Installed GeometryTypes ─────────────── v0.8.3\n",
            "  Installed ColorSchemes ──────────────── v3.10.1\n",
            "Downloading artifact: LibVPX\n",
            "######################################################################## 100.0%\n",
            "\u001b[1A\u001b[2K\u001b[?25hDownloading artifact: FFMPEG\n",
            "######################################################################## 100.0%\n",
            "\u001b[1A\u001b[2K\u001b[?25hDownloading artifact: FreeType2\n",
            "######################################################################## 100.0%\n",
            "\u001b[1A\u001b[2K\u001b[?25hDownloading artifact: x264\n",
            "######################################################################## 100.0%\n",
            "\u001b[1A\u001b[2K\u001b[?25hDownloading artifact: OpenSSL\n",
            "######################################################################## 100.0%\n",
            "\u001b[1A\u001b[2K\u001b[?25hDownloading artifact: Bzip2\n",
            "######################################################################## 100.0%\n",
            "\u001b[1A\u001b[2K\u001b[?25hDownloading artifact: FriBidi\n",
            "######################################################################## 100.0%\n",
            "\u001b[1A\u001b[2K\u001b[?25hDownloading artifact: Opus\n",
            "######################################################################## 100.0%\n",
            "\u001b[1A\u001b[2K\u001b[?25hDownloading artifact: EarCut\n",
            "######################################################################## 100.0%\n",
            "\u001b[1A\u001b[2K\u001b[?25hDownloading artifact: x265\n",
            "######################################################################## 100.0%\n",
            "\u001b[1A\u001b[2K\u001b[?25hDownloading artifact: libfdk_aac\n",
            "######################################################################## 100.0%\n",
            "\u001b[1A\u001b[2K\u001b[?25hDownloading artifact: Ogg\n",
            "######################################################################## 100.0%\n",
            "\u001b[1A\u001b[2K\u001b[?25hDownloading artifact: libvorbis\n",
            "######################################################################## 100.0%\n",
            "\u001b[1A\u001b[2K\u001b[?25hDownloading artifact: LAME\n",
            "######################################################################## 100.0%\n",
            "\u001b[1A\u001b[2K\u001b[?25hDownloading artifact: Zlib\n",
            "######################################################################## 100.0%\n",
            "\u001b[1A\u001b[2K\u001b[?25hDownloading artifact: libass\n",
            "######################################################################## 100.0%\n",
            "\u001b[1A\u001b[2K\u001b[?25h   Updating `~/.julia/environments/v1.4/Project.toml`\n",
            "  [91a5bcdd] + Plots v1.6.12\n",
            "   Updating `~/.julia/environments/v1.4/Manifest.toml`\n",
            "  [79e6a3ab] + Adapt v2.3.0\n",
            "  [6e34b625] + Bzip2_jll v1.0.6+5\n",
            "  [35d6a980] + ColorSchemes v3.10.1\n",
            "  [3da002f7] + ColorTypes v0.10.9\n",
            "  [5ae59095] + Colors v0.12.4\n",
            "  [34da2185] + Compat v3.23.0\n",
            "  [d38c429a] + Contour v0.5.5\n",
            "  [9a962f9c] + DataAPI v1.4.0\n",
            "  [864edb3b] + DataStructures v0.18.8\n",
            "  [e2d170a0] + DataValueInterfaces v1.0.0\n",
            "  [5ae413db] + EarCut_jll v2.1.5+0\n",
            "  [c87230d0] + FFMPEG v0.4.0\n",
            "  [b22a6f82] + FFMPEG_jll v4.3.1+4\n",
            "  [53c48c17] + FixedPointNumbers v0.8.4\n",
            "  [59287772] + Formatting v0.4.1\n",
            "  [d7e528f0] + FreeType2_jll v2.10.1+5\n",
            "  [559328eb] + FriBidi_jll v1.0.5+6\n",
            "  [28b8d3ca] + GR v0.52.0\n",
            "  [5c1252a2] + GeometryBasics v0.3.3\n",
            "  [4d00f742] + GeometryTypes v0.8.3\n",
            "  [42e2da0e] + Grisu v1.0.0\n",
            "  [cd3eb016] + HTTP v0.8.19\n",
            "  [83e8ac13] + IniFile v0.5.0\n",
            "  [c8e1da08] + IterTools v1.3.0\n",
            "  [82899510] + IteratorInterfaceExtensions v1.0.0\n",
            "  [c1c5ebd0] + LAME_jll v3.100.0+3\n",
            "  [b964fa9f] + LaTeXStrings v1.2.0\n",
            "  [23fbe1c1] + Latexify v0.14.2\n",
            "  [dd192d2f] + LibVPX_jll v1.9.0+1\n",
            "  [1914dd2f] + MacroTools v0.5.6\n",
            "  [442fdcdd] + Measures v0.3.1\n",
            "  [e1d29d7a] + Missings v0.4.4\n",
            "  [77ba4419] + NaNMath v0.3.4\n",
            "  [e7412a2a] + Ogg_jll v1.3.4+2\n",
            "  [458c3c95] + OpenSSL_jll v1.1.1+6\n",
            "  [91d4177d] + Opus_jll v1.3.1+3\n",
            "  [bac558e1] + OrderedCollections v1.3.2\n",
            "  [ccf2f8ad] + PlotThemes v2.0.0\n",
            "  [995b91a9] + PlotUtils v1.0.7\n",
            "  [91a5bcdd] + Plots v1.6.12\n",
            "  [3cdcf5f2] + RecipesBase v1.1.0\n",
            "  [01d81517] + RecipesPipeline v0.1.13\n",
            "  [189a3867] + Reexport v0.2.0\n",
            "  [ae029012] + Requires v1.1.0\n",
            "  [992d4aef] + Showoff v0.3.2\n",
            "  [a2af1166] + SortingAlgorithms v0.3.1\n",
            "  [90137ffa] + StaticArrays v0.12.5\n",
            "  [2913bbd2] + StatsBase v0.33.2\n",
            "  [09ab397b] + StructArrays v0.4.4\n",
            "  [3783bdb8] + TableTraits v1.0.0\n",
            "  [bd369af6] + Tables v1.1.0\n",
            "  [83775a58] + Zlib_jll v1.2.11+18\n",
            "  [0ac62f75] + libass_jll v0.14.0+4\n",
            "  [f638f0a6] + libfdk_aac_jll v0.1.6+4\n",
            "  [f27f6e37] + libvorbis_jll v1.3.6+6\n",
            "  [1270edf5] + x264_jll v2020.7.14+2\n",
            "  [dfaa095f] + x265_jll v3.0.0+3\n",
            "  [8bb1440f] + DelimitedFiles \n",
            "  [1a1011a3] + SharedArrays \n",
            "   Building GR → `~/.julia/packages/GR/BwGt2/deps/build.log`\n",
            "Precompiling project...\n",
            "Installing Julia package CuArrays...\n",
            "   Updating registry at `~/.julia/registries/General`\n",
            "   Updating git-repo `https://github.com/JuliaRegistries/General.git`\n",
            "\u001b[?25l\u001b[2K\u001b[?25h  Resolving package versions...\n",
            "  Installed FoldingTrees ─── v1.0.1\n",
            "  Installed Adapt ────────── v1.1.0\n",
            "  Installed TimerOutputs ─── v0.5.7\n",
            "  Installed CUDAapi ──────── v4.0.0\n",
            "  Installed BinaryProvider ─ v0.5.10\n",
            "  Installed GPUCompiler ──── v0.2.0\n",
            "  Installed DataStructures ─ v0.17.20\n",
            "  Installed CuArrays ─────── v2.2.2\n",
            "  Installed ExprTools ────── v0.1.3\n",
            "  Installed NNlib ────────── v0.7.5\n",
            "  Installed CodeTracking ─── v1.0.4\n",
            "  Installed CUDAdrv ──────── v6.3.0\n",
            "  Installed AbstractTrees ── v0.3.3\n",
            "  Installed Cthulhu ──────── v1.3.0\n",
            "  Installed LLVM ─────────── v1.7.0\n",
            "  Installed CEnum ────────── v0.3.0\n",
            "  Installed CUDAnative ───── v3.2.0\n",
            "  Installed AbstractFFTs ─── v0.5.0\n",
            "  Installed GPUArrays ────── v3.4.1\n",
            "   Updating `~/.julia/environments/v1.4/Project.toml`\n",
            "  [3a865a2d] + CuArrays v2.2.2\n",
            "   Updating `~/.julia/environments/v1.4/Manifest.toml`\n",
            "  [621f4979] + AbstractFFTs v0.5.0\n",
            "  [1520ce14] + AbstractTrees v0.3.3\n",
            "  [79e6a3ab] ↓ Adapt v2.3.0 ⇒ v1.1.0\n",
            "  [b99e7846] + BinaryProvider v0.5.10\n",
            "  [fa961155] + CEnum v0.3.0\n",
            "  [3895d2a7] + CUDAapi v4.0.0\n",
            "  [c5f51814] + CUDAdrv v6.3.0\n",
            "  [be33ccc6] + CUDAnative v3.2.0\n",
            "  [da1fd8a2] + CodeTracking v1.0.4\n",
            "  [34da2185] - Compat v3.23.0\n",
            "  [f68482b8] + Cthulhu v1.3.0\n",
            "  [3a865a2d] + CuArrays v2.2.2\n",
            "  [864edb3b] ↓ DataStructures v0.18.8 ⇒ v0.17.20\n",
            "  [e2ba6199] + ExprTools v0.1.3\n",
            "  [1eca21be] + FoldingTrees v1.0.1\n",
            "  [0c68f7d7] + GPUArrays v3.4.1\n",
            "  [61eb1bfa] + GPUCompiler v0.2.0\n",
            "  [929cbde3] + LLVM v1.7.0\n",
            "  [872c559c] + NNlib v0.7.5\n",
            "  [a759f4b9] + TimerOutputs v0.5.7\n",
            "  [1a1011a3] - SharedArrays \n",
            "Precompiling project...\n",
            "Installing IJulia kernel...\n",
            "[ Info: Installing julia kernelspec in /root/.local/share/jupyter/kernels/julia-1.4\n",
            "\n",
            "Success! Please reload this page and jump to the next section.\n"
          ],
          "name": "stdout"
        },
        {
          "output_type": "execute_result",
          "data": {
            "text/plain": [
              ""
            ]
          },
          "metadata": {
            "tags": []
          },
          "execution_count": 2
        }
      ]
    },
    {
      "cell_type": "markdown",
      "metadata": {
        "id": "-OS3Ac017T1i"
      },
      "source": [
        "# Checking the Installation\n",
        "The `versioninfo()` function should print your Julia version and some other info about the system:"
      ]
    },
    {
      "cell_type": "code",
      "metadata": {
        "id": "EEzvvzCl1i0F",
        "outputId": "36948464-4962-429e-a8ab-b7e8aec104b4",
        "colab": {
          "base_uri": "https://localhost:8080/"
        }
      },
      "source": [
        "versioninfo()"
      ],
      "execution_count": null,
      "outputs": [
        {
          "output_type": "stream",
          "text": [
            "Julia Version 1.4.2\n",
            "Commit 44fa15b150* (2020-05-23 18:35 UTC)\n",
            "Platform Info:\n",
            "  OS: Linux (x86_64-pc-linux-gnu)\n",
            "  CPU: Intel(R) Xeon(R) CPU @ 2.20GHz\n",
            "  WORD_SIZE: 64\n",
            "  LIBM: libopenlibm\n",
            "  LLVM: libLLVM-8.0.1 (ORCJIT, broadwell)\n",
            "Environment:\n",
            "  JULIA_NUM_THREADS = 2\n"
          ],
          "name": "stdout"
        }
      ]
    },
    {
      "cell_type": "code",
      "metadata": {
        "id": "OP4YrNwBG-qQ",
        "outputId": "65d68ff9-c513-4f81-8f23-ea180e7e5e31",
        "colab": {
          "base_uri": "https://localhost:8080/",
          "height": 130
        }
      },
      "source": [
        "function fun()\n",
        "  print(\"Hello!!!\")\n",
        "\n",
        "end\n",
        "fun()"
      ],
      "execution_count": null,
      "outputs": [
        {
          "output_type": "error",
          "ename": "SyntaxError",
          "evalue": "ignored",
          "traceback": [
            "\u001b[0;36m  File \u001b[0;32m\"<ipython-input-1-c23198911978>\"\u001b[0;36m, line \u001b[0;32m1\u001b[0m\n\u001b[0;31m    function fun()\u001b[0m\n\u001b[0m               ^\u001b[0m\n\u001b[0;31mSyntaxError\u001b[0m\u001b[0;31m:\u001b[0m invalid syntax\n"
          ]
        }
      ]
    },
    {
      "cell_type": "code",
      "metadata": {
        "id": "yQlpeR9wNOi8",
        "outputId": "9cbe857d-3f8e-4246-ea9f-4426098403c2",
        "colab": {
          "base_uri": "https://localhost:8080/",
          "height": 397
        }
      },
      "source": [
        "using BenchmarkTools\n",
        "\n",
        "M = rand(2048, 2048)\n",
        "@benchmark M^2"
      ],
      "execution_count": null,
      "outputs": [
        {
          "output_type": "error",
          "ename": "SyntaxError",
          "evalue": "ignored",
          "traceback": [
            "\u001b[0;36m  File \u001b[0;32m\"<ipython-input-3-eead2ab1e4f3>\"\u001b[0;36m, line \u001b[0;32m1\u001b[0m\n\u001b[0;31m    using BenchmarkTools\u001b[0m\n\u001b[0m                       ^\u001b[0m\n\u001b[0;31mSyntaxError\u001b[0m\u001b[0;31m:\u001b[0m invalid syntax\n"
          ]
        }
      ]
    },
    {
      "cell_type": "code",
      "metadata": {
        "id": "XciCcMAJOT3_",
        "outputId": "7cd4da0f-3299-4a0e-b530-439c9197aec9",
        "colab": {
          "base_uri": "https://localhost:8080/",
          "height": 79
        }
      },
      "source": [
        "if ENV[\"COLAB_GPU\"] == \"1\"\n",
        "    using CuArrays\n",
        "\n",
        "    M_gpu = cu(M)\n",
        "    @benchmark CuArrays.@sync M_gpu^2\n",
        "else\n",
        "    println(\"No GPU found.\")\n",
        "end"
      ],
      "execution_count": null,
      "outputs": [
        {
          "output_type": "error",
          "ename": "LoadError",
          "evalue": "ignored",
          "traceback": [
            "UndefVarError: @benchmark not defined",
            ""
          ]
        }
      ]
    },
    {
      "cell_type": "markdown",
      "metadata": {
        "id": "8RC1QNNqk6h1"
      },
      "source": [
        "# Need Help?\n",
        "\n",
        "* Learning: https://julialang.org/learning/\n",
        "* Documentation: https://docs.julialang.org/\n",
        "* Questions & Discussions:\n",
        "  * https://discourse.julialang.org/\n",
        "  * http://julialang.slack.com/\n",
        "  * https://stackoverflow.com/questions/tagged/julia\n",
        "\n",
        "If you ever ask for help or file an issue about Julia, you should generally provide the output of `versioninfo()`."
      ]
    },
    {
      "cell_type": "markdown",
      "metadata": {
        "id": "2UMidUQB03vJ"
      },
      "source": [
        "Add new code cells by clicking the `+ Code` button (or _Insert_ > _Code cell_).\n",
        "\n",
        "Have fun!\n",
        "\n",
        "<img src=\"https://raw.githubusercontent.com/JuliaLang/julia-logo-graphics/master/images/julia-logo-mask.png\" height=\"100\" />"
      ]
    },
    {
      "cell_type": "code",
      "metadata": {
        "id": "SpW680oEHhyw"
      },
      "source": [
        "using Random\n",
        "using Printf\n",
        "using Dates"
      ],
      "execution_count": null,
      "outputs": []
    },
    {
      "cell_type": "code",
      "metadata": {
        "id": "FK2cx5xLDvRd",
        "outputId": "8126be0c-f57c-4253-fb95-dd18dfc443f9",
        "colab": {
          "base_uri": "https://localhost:8080/"
        }
      },
      "source": [
        "# Generates t sequences all of length l, and returns an array of strings\n",
        "function generate_sequences(t::Int64, l::Int64)\n",
        "   # t is the number of sequences to create\n",
        "    # l is the length of the sequences\n",
        "    DNA = Array{String,1}(undef,0)\n",
        "    base_arr = [\"A\", \"T\", \"G\", \"C\"]\n",
        "\n",
        "    for t_index in 1:t\n",
        "        push!(DNA, \"\")\n",
        "        for l_value in 1:l\n",
        "            r = convert(Int64, floor(Random.rand() * 4) + 1)\n",
        "            DNA[t_index] = string(DNA[t_index], base_arr[r])\n",
        "        end\n",
        "    end\n",
        "    return DNA    \n",
        "end"
      ],
      "execution_count": null,
      "outputs": [
        {
          "output_type": "execute_result",
          "data": {
            "text/plain": [
              "generate_sequences (generic function with 1 method)"
            ]
          },
          "metadata": {
            "tags": []
          },
          "execution_count": 48
        }
      ]
    },
    {
      "cell_type": "code",
      "metadata": {
        "id": "oRlr0qXpD-ji",
        "outputId": "72a38faf-dd24-4cd5-e57d-49a18c4fa14d",
        "colab": {
          "base_uri": "https://localhost:8080/"
        }
      },
      "source": [
        "# test generate_sequences here\n",
        "data = generate_sequences(10,1000)"
      ],
      "execution_count": null,
      "outputs": [
        {
          "output_type": "execute_result",
          "data": {
            "text/plain": [
              "10-element Array{String,1}:\n",
              " \"ATTCAAGCTCCTCCGGTCCTCTGATCTTTGATTACCTGTATCGTTAGGGGTCTTCTCCCCGACCCAACTAAACGTTGAATAAGATCTTCCCGTGGGGCCGCTGGACGTTCACAGGAGTAGTTATCGACGCATTTGGCCAGAAGAGAGCAGTATAAATGCAGCCCTAACTCCTGCCAAACACCCCAACGGCTGCACAGCGGGGACGTGTGTCCTTAAGCAGAGGGAGCCGTCGGGCACGCGGGCTAAAACGTGCCTGAGGAGGATTGCCTTGATATACATGTTAACCAGCGCATTTATTATAAGGTGAAGAGTGTATTCTATGATTCTCCGTATACTAGTTAATAGGCATCCTAGTTTGATGCCCCTTGACCAGCGAACCCCCAGCGCCATCCGAGATACAGATCTGACTCAGACCATGTGCTGACCCTGCTCCACCCGTATCTGACCAAGGCCTTTAATCTCACAGCCTCATGATCATCCACCCAGATGCTAACCAGTCCTTTCGCCCGTAATTTACGCATAAGTTACCATGGCCCATCTTGCCCGAGGATCTAGTACACAGATTTAAAGGAAAGTAGAACAGAAGTCGGTGGGAACGGGGCTAGAGTATCCATTAACGATCAGCCGTAATGGGAAGAAGAAACCGGAGGGTCGGGTGTGATCGTCTGTGGTGTGAACTTCACCGCCAATGGAAACAAACCATCGAACCCTTACGCAAAGCAACAGACGGACCACGATACTCGCTCTGGAGACGTAATCCCAAACTCGGTTAGGTGCGTGACGGACGGTCAGATCCGGGGTCGACCCCACTCGCTAAGACATCTTAATGAGACCGGAGGTTGAATGGGTAGACAGTATAGGGTAGAGCCCCGGAATATATCTACGTTATCTTCGAACAACGTGTGACTGCAGATACTGATGCAAGTTTAATTAGTCGTCGTTGCTAGCAGAGCGCGGATCCAGCGACACAGGTTTAAGGGGCCAAAATGTATGTGAACCT\"\n",
              " \"AAGGCCCACGGGACCTATTAACCGGCCATGGGCAGATGGGGGTGGCGACTTCTCAGGCTGGACGGATGTTGATAGGTACCGAGGCTGTCGCGTGTAGCGTCGGGCCCGTTACCCGCATTGACTCGACGGAATACGGATCAGCGTTTCCGTCCGGGGCGTCACCTACCTGAGACGGTTAAGTGTAAGGTGTCACCCTACTGGAATAAGCCAGATAACAAGCTTATCCAACAAAGGTCCGGCACCTCGAAGTCGTCACAATGCGAACTAGGTCGGAATTAGCAGTTATAATTGCCTTGGAACAGGAGGATGAATATGCTTAAGGCCTCAGTCAAAACTTCGGTTGAACAATGATACGAATTACGTGACTGCGAGGGAATCACCTCGGCTAACACAATGTAGTGTTGGACGACATGTAGCCCTTGAAGGTCGAACATACTCACAGCTTCTGGCATCCAGTTGACAATTGTTCAGACAATCGATGATAATTAGACGTGTCTGTTCGGTGAATCTTGGTGCCTTCAATACCGGGACTCCAATCTTGTTAGACAGGTTGCATCGAAGCACACTAGTTATGAATCCTCATGCTTCCATTTTAGTGGCCAGTCGCGCGCAAGATGGAGAGTCAATCTCGTATATAATGTAAGATGAATTCAGCGAGGCTGACACACACCGGCATGCCGGCTAAACGATGACTTTATATCGTGCTGTGACTTACATATCGAAGTTGCGGTAGCAAGTGGGAGAAGTGTGGGAGGTTACCGCAGGTGGACTCGAGTGACCGTGCACTTCTAGTCGAAATAGTGTATCGCCTGATCGTGATACTAAGATGGCAAAAGGGGGGGTGGAGATTGAAGATTTCTCTGGAACGGTGTACCCGGCCCGCATCGAAAGATCATAGCCGACACTGAATTCCGGATTACGAGATCAACGTCAAGAAACGGTGGGGACTATGACTCCCGCACACTGACTCTGATCCAGCCGTAGAGACGGTGGGTGAAAG\"\n",
              " \"GATAGAGACCTGTCCCACAGGTAGAGTAGACATGACCGTCGAAATGACGCAAATTATGGACTGTCGTCTAGAAGCCGTCTATATCGAATACTTGGAATAAACTAAATTTGACTCGGCAACGAGCCACAGGAGCGTGTTCGAGCTTTAGGAACAAATTAATTTTTCCCATTTCGCGAGAATACTCCGTACTTACACGATATGCAGCGCCGCAACCCTACCTTACGATTCGCAGCAACAGGACTGGAGTCCTGCTTTGGTCCACTGCTCAATACATCATAAGCCTGGTCTGGTGCAATCATGCCAGACTGCCCGAACTCTCAACTCACTCGGGACCAGCACCCTGATCGCCGATCTCTTGGATGCTCTCATCAGGAGGGGCCTGAGCCCTGAACCGTAAGCGGTCAAGCGAGGTCTCTCCGCAGAAGCCGAATAGCGTTGTTGGCTAAACGCGAAAGCAACCCGACAATACTCATCAGATAGGGGAAGGTAGTAACGTCCCAGTCGAACGCCGTTCGTGGACTCAAGATGACGGGGCCTTTATGGGGCTGAGTTGTCGGTCATCTCAACCTTGTCGACGCTCGAAGTGTTAATTCCAAAGTATCTCCTGAAAGATCTATAGGCTCCTGCTCAATCAGCTACTGGAGGGACATGTTCACGTGCGTCTGTCTGAATCGGGTCTGCCTTATTTGGCAGGTCTCCTGAGTTCTAGTGGGTTGCCTCCGACTATGCGATCCGTCAACGCAACCTTGAACGAGCTTAACAACAGGCTAGGTCGGGCAGTAACGACGTGAGAGTATTATTTTGCCATCTTAGACGTTGAGGGAACAAAATTACCATAAAGGACTCGAGGGTCATCGAACATCTTCTTACTACCGGGTACTGGATCGCCACGGATCACCATCTAGCTCGCTGTACCTGACTATTTGTTGTCCCCCTCTCTATATACGGAGATGGCCACGGGGGCCTGTCTCTATCGACGGGCTCCCGCGGGTTCCGTGTA\"\n",
              " \"CATCGACGTAATACGTTGCTAAGCGGTCGCTGGAATTTCACCAACTTAATATTCAACTGTACCGAAGATAATCGATTATAGAATGGATTTCATAGTGTGTGCAGTTGTGTGGTATCGTATAGGGACGTCAAGAGGACAGCGTCACGCCTCAGCATGAAGCCGTCACGCTAAATACTGGGGCATGGCTATGCGTCCGATGGATTGACCCGAGGGATTGCACCTGAGCTGACGTCAGCTCGGCAAGAGCGTCCAATGTGCTCTACCGCCCTATTCAGAGTCAGCGCGATGCTAGCGTGTTAAGCAGTGCCGGCTGGTCAACCGCGCGCCAATCCAGAAAATGGGAGACGCCATAATCTACCCTGGTAACTGATCACACCGTATAACCACTTCGGTGGTAGTGCGGGAAATTAGAGTTAGGCCGCAATGTGAAGGTATGCCTTGTGACGCTGGAAAACGTCCATAGGTCTAGCCTTGGAGGGGCGCTCAGCAAGTTCGCTGGGTCGGGCAGTTAGATATATGCTTACTATGCCAGAGCACGCCTCATTGCGGAGCCAGAGATAACTCCCTGTAGACTTAGTGTAGTTTGTCTTACACGCGATGCGTGTTTATGTGCCTCCATCGGGCTCTCATAGGGGCCGGTAACTAGACACCTGCTCTGACATCAAGTATGCAGTCTATTCCACTAACTACTCAGATAGTCTTAGAAGATTAACCCTTGAGGGCTCTAAATCTGTTCAATCGGCTCGGACCTTGAATCGTGACCAGCCTGGACTCTACTCGGGACAAGAATGTTCAGGCTATGAAACGAGATATCTAGTGAGCAGCGCGCTAGCGGATCTTCGGAACCTGTGAGGATTTAGGGTAGCACCTAAGAAAACTATCTAATTACGTCGGGATGCCTCTAGGTTTGCCGCGGTTGACTTGCCGGAGTCGGCTTAGTCCTACTCTGGACCCTCAAACGCTTGCGCGGGGAGGAGGAGGTGGCTCGTAGACCATCGCG\"\n",
              " \"GCGTACCCTAACCCGTTTGGGCTGTCACCCAAGTCTCTAATGGGGCGACGTTGGATGGTATCGGTGGCAAGGTGATTTCTGCTCTTGTGCAAAAACACTTCCAACCCTGCTTATCTGCCGGTGCTCCTATCCAATATTCCCCACTTCATACCGTGCTGCATAGGCGGTTAAATCCCGTCCAGGTGGTCGCAAAAAACCAACCGTTCCCAATATGTCGGCACGTACATTGGTGACTTAGTGAATATAGATGGCCCCCTCGAGGGGGCGCTCATAGGGGTGCCTGTTCGGCGGCCCTGAATACGTGATTGATCTTATTAGGATTTTGACAAACTACTAGTTTCTGATACCGACGACCGTTAATCACGAAGCTTCTCTATAAGAAGGCTCATTGGCTGTAGTACACGTTAAGGATTGATCGGCATGCCATCACGTCGTTAGGAACCTGATCGGTTGAGAGCACCGCCAAATCAGATACGGAGTTAGGACTCTGCGAGGCCAAAGGGATATTTCGCTAAATGACTCCGGGCTGGATTGGGTTCTAATTTTATTTGAACGTGACTATACTGGGGGAGTTGTCTGTCGGGGAAAAGTATCGACCACATCGTCTCCCCCGGGTCCGGTACCCCATGCAAATGCATGAGTAAACGGGGGCTAGCACAATGTCGTCGTTAAGCATCTATAGAATTGTTTACTAGCTCGAAATCAATTTATTGCCACGGATGTATTCTGGCTTACGCATTGGCCGGAAGATCTAACGTCGAAGATAAGACGTTGAAAATAGCAAGGTTATAAGACTCCCACTGGCATAGGCCCAAAGATTCTCCTATTGGTCCACACCCGCCCGTAGTTTTCATCCGGTAACGGACTTACAATATCGGCGTTTGGGGCTTATTTCACCGACTTAAAGTTAATGAACGCGGACGCGAGACACAAGGAGCCCGCACTTGCGCGTCAGGCAAGCTCATATCAGCTTCGTGAGAACGACTTGGTGCAACTAACG\"\n",
              " \"TTTGGCTTATTTGAGGGGTTTGCCAATGGAAGTGCGTCCAGCTATCATGTGACGGGCTGGGAGCTTCAGTGTAAGTGCAAAAGTCCGTGCTGGGCGTATGCGTGGTCCGGGACATGACACGAAGGTCCGAACTCTGGTTTCTCCCTCATACAGCTGCGAACAAACAATTGCCTCCCATTGGGGGAATCCCGTGCACATAGCGTCTCGACAGAATTCGGTCCTTCGTCGCCAAGTGTTTGACCAACGCCCGCGGGTACGATCTGTGTCGCCACGTGCTTTTTGCCCATAGCCTGAGGGATCTTCTCCGGACCGGCATTCTGACGGGAAGTCTATAAAAAACTGGCTGTCATAAAAACCCTGCCACAACCGAGAAGGCACTAGGCTCAGGCGAAGAATTATCGCAATATCCCGTCGCTAACGGGCCCCGCTTAGCGCAGTCAGTTACTATGAACCTTGGGCGCGAGGGTTCAGGGAGCTAGTGAATGCGAAATTTAGCAGAGTTACCTGATGCTAGATATAGAAACATATGCTATATCTTTACGTTCGTTAACGGAACAATGGCAAGCCTGCACAAGCAGAGCCACTCACCATAGGACGAAATTGCGCCTTTCGGGGCGTGTTTGCTCACTTGATATACGTATTACAACCTATTAGTTGAGTATTAATTGACCTACAGCTCCCGTGTGAAATATCCAGGCTCCTCCGGGGGGAATTTATTGGCGAAGTTGAGCATCCAGCCGAGGCGTATCGACCTTGGCAGACCGCCTACTAGATCATAAGCAGCATTGCTTTGACATGCGATCCTACATACGGAGATACACCCATCGGATGCGTAGGTAGCGGGTATTCGAAGAACGCTTTCTATCATATGTGAGGGAGCTAGGTCTCGAATTGGTGCGAGAGCCATAAGGAGCGTAGCCTCTGAGAAACGTCTATACCAACGGAAACCACAGGACTTACAGCTCGAACATCCGGACAGACAACTCGACACGCGGGGGGA\"\n",
              " \"GCCCGAAACTAACTCACCAAGTGTCCGAACTATTTCATAACGGACCATCTTGTTGGTAGTATCAACGGGTCTGATAATGATATGCTAAAAAGCTGTGGCCTATCAGGCCCTCGCGAGGTTGTTTAAAGTAGTCACAACGGTGCAATCTAACGGTCCTTATGCCCCTATGTATCCTCGTCGGTCTGCTGTGGAATTCTCCATCCCCTATCCACTACGCGGTTTGGTAGTCACTTGTCGGGTTAAAAAAGTTGTGCGAGGGATGAGTCATCTCTCGCCCAAGATACTGCCTAAAAGTGTCGCTTACTCGAACGCCGCTAGAACGTATCATCAGCGGCGATTACCGATGGTTTATCCAAGGGTACAAGCAGAGACGAGAATCGCGAGTCGAAGCAGGCAGTACTTCGCCTTCGAACTCCAACAGGCATCTCAAGAATCAACTACAACCCAGAGCGGCCCGATCGGATATACCGAAAGCTACTGGCCGCAGTCGGGGGAGGTCACTCAGTATTCCCACAACCAACTTACAAAGTGTTCCGTTCTAAACAGTCGACTGGAATGGCTGCCAGCCACCTCGGATAGAACCTACTATCCGACAAACGTTATACGACCTGCTGTCACCGACCGCCAGCGCGCTTACACATAACCACCTAATTGAATGGCAAGGTAGGGTATACGCGGACTGCAACGTAGTTCAACAAGGATTATATGCAAATCCTACTCTTGGAGCATAGGGCCCCCTCCGGTTCTTTCCGCGATGAACACCTTGAGTCCTGCTGAACTGGCCCACAACACCTGTCGTCTGGAATTCAAATAAACGTGCACGGACCAATAATCAGAGAACGACGTACAGCTTTATCCTCCCAGCCATCATCTAGCACCTGACCACAGCTCGATGCGGGTCATCTTTGCCCATGACTCCCCCCCATCCTTTCGTCACAGACGCCCAGATGGTACATAACAAAGCACACACCCAGCGAAACACAGTCCAGCATTTCCCGTA\"\n",
              " \"AGCCTACTTAATTCATACAAATTTTGTGCACATATAGGAATGCACCCTAATTCTTAGCATGGGAATTGAGTGTATCGTGGATAGTCCTGTCATGCAACCCGGACCTAGTCGTCGTGGTTCACCTGTGTGATTGGTCTGGGGCAGAACAATTCCCGGTCCCAACGAGCACGCATCAAGATCTGCGATCGTCACATTAACTCCTAGGGGTCCCTTAGGGCGGTGCGTCGGTACGCGTTCTCAATACCTCTACACAAATTTTATGCACCGCGCGCACCATTAGTGGATACCATAAATGTACCCCAGATCACAGCACTGGAAGCCTGAACAATTTTCTTCTCATAGCTAGGACGTTTGGACTCACGATTAGCATCAACGTCTAATTTGCGGGCCAATACCTTAGAGTCTTGGAAGCTGCCTTACCAGACGTACCTGCATGAAGTAACGTCATGAACCAGATGCACCCTGTCTGAACTTTCCAATGCGTCTCATGGCCCCCATAGACCATGCCCGTTTACAGACCAAATATATGTCCACGTACCAGGGTCATTAGCACATTCTCTTATCCCCCTAGCCGTGCGGGTGCATACTTGCATCGAGTCGAATTAGAAGAAGTACAGATGCTGTTGGTAGACAACGTTGCCGCTGAAATGTCATGATAAAAGGGCCACTGCTGCTAAGCAACATACCAGAGTTTTCAATGTGCCGACTGGCTATCCGTAAACAAACGTCGAGTTACTATAGGTGCCCATTACGCGAGTAAAGGGGAAAACACGTAAACGTCGTACCAGCGGCAAGAAGCGGACCGTGAGATCTGTCCTGTCGGTGGACCTCCTACAGTTTTGTGGTACTGGAGGCGCATAGGGGCTTTAATATATTGGAATATACCAGTAACACCCATTTCTCTGGGGAACAGTTCCTTACTACCCGGCTGAATTACTTAGCGGAGTGCGTTTATGGGGCTGGTCCATTAGTCGGGTGGCTGTCTTTTGCATGAGGTTTA\"\n",
              " \"GGTTGCGGTCCAACTCTTCTGACGTAGATCGATGATTGGAGATGCTTAACCGACCGTGACATTTACCGTGCAAAGATCATGGCGTAGCTCGAAAGAATTACAGCGTCTGGTACCTTCGCATGGTCATTCATTTTCATGGAGACGCGCCACGTTCAGAGGTAGAAAGCCCGGACCAGAACCTGACGCCCTCGGTTCCTAGCATGACATCGAAAGCGGTGGGCCTACCGATCTCGTAGTAACCCGATATCCGCATGGTATGAAGGGCCGTGAGGGATATCGCTTTGTTACCCAGGTAAAACGCCGGGCGTCCTAAGATTTGCCCGATGTCACGTGTAGCGCGCATTGCCTGTCCACCACTTGTGAGGGCAACGAAAGTCGTAGCGTTTCGCCGCGAATCCCGTGGGCGCTGAAGACTATGCCGGCTCACCGGCGAAATCGCATAGACGAAAAACTCTGGCGGGGCCCCACATCAGTACCCGAGTAACAAAATCATAGAAGACACCGCAGCCAGGATCTGAACTTCTATCTCACGCGAGCATGCATAACTAACGGGCACTTACGGTACGCAAGACGGGGTCTTCTGTCACATGTTAGCACGGGGGCAGACAGAGCCGCTGGACTATTAGCCCCTACCCGTTTCAGGCGCGAGGCTTCAAGGCGCCTTCAACTAGGATCTACGTTCGGGCAGAGCCTCGTGGTACTGCCAATACGGCCGCGCCTCTCATGATCAGATCGACCCGAATAGTAATGGCCTCAATTGTAAAAGATACTTACCGACGGGGTCTCGTTTCGTGCTAACTACATCGAACGTGCTAAAATTCTTAGCTCCCTTTTGTCCTGAACTCCGCTTGGCGACATCAGCGTCTCCAATGCTGAGAAATTCCGCATTAGGTCTCACGGCAGCGGGTCCCGTAAGTTCCAGTTAATCAGCTTTTGTGTCATTCCTCCACGAAATGAAACCGGGCTCTGGTGCTCAGTATCAGGCCGAGGCGAAGGTAAA\"\n",
              " \"TATCGACCTGATTGTCTCGGCCTGGCAGCCATACTTACGCCCGTCTAGGGATATTGGATCGCGAGCGGGTAGTTGACGACTGATTGTGTCCGGGCCTAGGCGAAGTTGTTTTACACCCTGCTGGTCAAACACAACCCCGTGATCTCGCCATTAAACCCAACCGGTTCCAGTCATGCCCATGGACAACGCGCAATATACTGGCCTCTGGAAATCACTTCCCCGCAGATACCATGAACGCTGTAGTTACATGCCGTGGTCCCGGTGTGTTACCACATCGGCGCGAGCTCAGCGGTAGGATGATGGTGTTCATTAGTACTTTGGCTTCATTTACCTAATCGAACAAAATGTGCTCAAACTGGTTCCTTATGCAGCAGTGAACTAAGGCCTTGCTGGCATCGGTTGTCGGCTGCCACTTTACGTCAATATGGAGCGGCTGGTACCACTGTAATTCATTTACGAGGATCGGACAGATATTGTCCTTAGGGGGAGACCTCCCGGTACCCCTTTGGGTAGTCCCTATTGAAGGGGTCCTGGAATGACGCCAAGTCCTAGTGACAGCAGCACCTGTCTGGTCACCGTCGGGTATGGCGCATAGCCGAATGCGAGATACTATCAAAAATGCCCCACTGGGTCTGGCTACCGGAAACGACTTACGAGTCGAAACTTCCGGCCGAGGGGTGCGCCGACCCTTAACGCTTGTAGAATCTGAGCATTAATAAGTTGCGTTTTTCCTTTATAGTTTGTTCGTGCACCAGAAAGCCACGTCGCTGACCAGGCTTTAAGCGGACGTGTATCACAAGTAGTTCACTAAACTCGTTGCAGGTAATGTTCATGATCCATAGGTACAAATTCGAATTCTCAACACTCTTGTTCACATCACAATTCCGCATGGTCTCGGTAGCAGCTATGCGAGTAGACGATCCTGGTGGCTTGCACGTCTGTGTTTGCGAATTCTTCGCCATAATCGTTGGACGAACCCACGCACGAAAATAAAGGCATA\""
            ]
          },
          "metadata": {
            "tags": []
          },
          "execution_count": 49
        }
      ]
    },
    {
      "cell_type": "code",
      "metadata": {
        "id": "sUDMq5OPD_H6",
        "outputId": "5345f96d-b0f9-4e8d-de7e-b0fc5ea8b9b2",
        "colab": {
          "base_uri": "https://localhost:8080/"
        }
      },
      "source": [
        "function MSA_to_TSP(sequences)\n",
        "  node = []\n",
        "  for i in 1:length(sequences)\n",
        "    push!(node,sequences[i])\n",
        "  end\n",
        "\n",
        "  graph = Array{Float64, 2}(undef, length(node), length(node))\n",
        "  for i in 1:length(node)\n",
        "    for j in i+1:length(node)\n",
        "      score, align1, align2 = get_alignment_score(node[i],node[j]) \n",
        "      graph[i,j] = score\n",
        "      graph[j,i] = score\n",
        "    end\n",
        "  end\n",
        "\n",
        "  return graph\n",
        "end"
      ],
      "execution_count": null,
      "outputs": [
        {
          "output_type": "execute_result",
          "data": {
            "text/plain": [
              "MSA_to_TSP (generic function with 1 method)"
            ]
          },
          "metadata": {
            "tags": []
          },
          "execution_count": 9
        }
      ]
    },
    {
      "cell_type": "code",
      "metadata": {
        "id": "9K_9s4f1EA34",
        "outputId": "5a525784-79fc-40c8-9f5a-18d887228319",
        "colab": {
          "base_uri": "https://localhost:8080/"
        }
      },
      "source": [
        "# test MSA_to_TSP here\n",
        "MSA_to_TSP(data)"
      ],
      "execution_count": null,
      "outputs": [
        {
          "output_type": "execute_result",
          "data": {
            "text/plain": [
              "10×10 Array{Float64,2}:\n",
              "   0.0   86.0        94.0       …  84.0       114.0        87.0\n",
              "  86.0    2.5e-323  108.0          93.0        71.0       102.0\n",
              "  94.0  108.0         2.0e-323     91.0        74.0        80.0\n",
              "  94.0  103.0        83.0          81.0        78.0        73.0\n",
              "  98.0   90.0        84.0          80.0       109.0       123.0\n",
              "  83.0   81.0        83.0       …  83.0        80.0       101.0\n",
              "  87.0  101.0       100.0          81.0       111.0       117.0\n",
              "  84.0   93.0        91.0           5.0e-323   73.0        80.0\n",
              " 114.0   71.0        74.0          73.0         6.4e-323   94.0\n",
              "  87.0  102.0        80.0          80.0        94.0         7.4e-323"
            ]
          },
          "metadata": {
            "tags": []
          },
          "execution_count": 10
        }
      ]
    },
    {
      "cell_type": "code",
      "metadata": {
        "id": "dvG_lQ3kECn1",
        "outputId": "7015917f-64f1-4727-e983-50b8a7963665",
        "colab": {
          "base_uri": "https://localhost:8080/"
        }
      },
      "source": [
        "function get_alignment_score(v, w, match_penalty=1, mismatch_penalty=-1, deletion_penalty=-1)\n",
        "    n1 = length(v)\n",
        "    n2 = length(w)\n",
        "    #if !use_preallocated_matrices\n",
        "    s = zeros(Float64, n1+1, n2+1)\n",
        "    b = zeros(Float64, n1+1, n2+1)\n",
        "    #end\n",
        "\n",
        "    for i in 1:(n1+1)\n",
        "        s[i,1] = (i-1) * deletion_penalty\n",
        "        b[i,1] = 2\n",
        "    end\n",
        "    for j in 1:(n2+1)\n",
        "        s[1,j] = (j-1) * deletion_penalty\n",
        "        b[1,j] = 3\n",
        "    end\n",
        "\n",
        "    for i in 2:(n1+1)\n",
        "        for j in 2:(n2+1)\n",
        "            if v[i-1] == w[j-1]\n",
        "                ms = s[i-1,j-1] + match_penalty\n",
        "            else\n",
        "                # ignore cases where a letter is paired with a gap\n",
        "                # do not consider this a mismatch\n",
        "                # if v[i-1] != '-' && w[j-1] != '-'\n",
        "                #     ms = s[i-1,j-1] + mismatch_penalty\n",
        "                # else\n",
        "                #     # if a letter is paired with a gap, add no penalty\n",
        "                #     ms = s[i-1,j-1] #+ match_penalty # + 0.5 * mismatch_penalty\n",
        "                # end\n",
        "                ms = s[i-1,j-1] + mismatch_penalty\n",
        "            end\n",
        "            test = [ms, s[i-1,j] + deletion_penalty, s[i,j-1] + deletion_penalty]\n",
        "            p = argmax(test)\n",
        "            s[i,j] = test[p]\n",
        "            b[i,j] = p\n",
        "        end\n",
        "    end\n",
        "\n",
        "    i = n1+1\n",
        "    j = n2+1\n",
        "    sv = []\n",
        "    sw = []\n",
        "    while(i > 1 || j > 1)\n",
        "        p = b[i,j]\n",
        "        if (p == 1)\n",
        "            i = i-1\n",
        "            j = j-1\n",
        "            push!(sv, v[i])\n",
        "            push!(sw, w[j])\n",
        "        elseif p == 2\n",
        "            i=i-1\n",
        "            push!(sv, v[i])\n",
        "            push!(sw, \"-\")\n",
        "        elseif p == 3\n",
        "            j = j-1\n",
        "            push!(sv, \"-\")\n",
        "            push!(sw, w[j])\n",
        "        else\n",
        "            break\n",
        "        end\n",
        "    end\n",
        "\n",
        "    return (s[n1+1,n2+1], join(reverse(sv)), join(reverse(sw)))\n",
        "end"
      ],
      "execution_count": null,
      "outputs": [
        {
          "output_type": "execute_result",
          "data": {
            "text/plain": [
              "get_alignment_score (generic function with 4 methods)"
            ]
          },
          "metadata": {
            "tags": []
          },
          "execution_count": 52
        }
      ]
    },
    {
      "cell_type": "code",
      "metadata": {
        "id": "7CMhuwFhEGUx",
        "outputId": "fd55354d-eccf-4b64-8ea7-37e8a290fcc1",
        "colab": {
          "base_uri": "https://localhost:8080/"
        }
      },
      "source": [
        "# test get_alignment_score here\n",
        "sequences = generate_sequences(10,1000)\n",
        "score, align1, align2 = get_alignment_score(sequences[1],sequences[2])\n",
        "println(\"Score = \",score)\n",
        "println(\"Alignment of fir sequence = \",align1)\n",
        "println(\"Alignment of sec sequence = \",align2)"
      ],
      "execution_count": null,
      "outputs": [
        {
          "output_type": "stream",
          "text": [
            "Score = 73.0\n",
            "Alignment of fir sequence = --GGAACGGT--GTG-AGA-CTAAA-A-CGGTGACCCCAGTGATGAGGCGAGCAAGTGCC-T-GA-ATAGGCCCTG-GAGATAGTAGTG-ACA-GGACGTCAA-AAGAAATTGTCGGTT--TA-TCGTTGGT-TTG-TAAAACCACGG-CTACCTCCTGGACAAGAGAATAGTCCCAGTAGCGTCGGAG-CGTGTAAACACTCAGGAGACACGGA-TT-CAGTGGCACCG-TCTTGCCACAGAGTTCCGTTTTTC-CCTCTGATCTCGCGCTACAA-GAGAGCGTCAAC--CCGCTCTAG--GGAAGAGTTACTCCT-GGGGGCTT-C---TCC----A--G---TT-C-AGCTA-AGACCGGGGTCACGTA-TGAAACCAAATGCCACCTGTACTGGGGGCGAAGAAAAATAGAA-GGTGGATAATGTTAAATTCTGAAGCCTGC-CAAAAACTTTCTGGCAGT-A-GGACCCGGTTAA-TTAAAACCGGGGACAA-CTTGTACGCCAGTCGAAATTTTGA-TTTTAGCGAACGTCTG--GGGTCGACT-TACGT-T--AA--C---AAC-TTGGC---CGGATACAGA-CTAG-TCGGACC-CATGGTAACTCCC--TC--TAAG-ATGGGTCCGAAATGTGGGACT--G-AAAAGTGT-TCGC--CCGT-CGA-GCTTGGCAC-CCA-TAC---A-GCGCAAAATGTGCATACTTCAACCAGACGTACAAGAGTGTATAC-ACCCCTCCTCATCGG--GGAAACTGT-ACTCGTGGATACTT-AGA-ATTAGGA-AATATAAATTTG--TAC--CTTACTACTTG-CTTAGTTCAT--CT-TTGCCTTTTGGGGTACGTCGTGGA--CATCCGC-CG-G-GCATAAACGTAGG-GAATCCCAGTAAATCT-CC-G-ATAGA-TCTGAAG-GTTGGGTACCGCACGCTTGTTTGCACCACCCAGTCAGTCCG-TCGATCACA-GC-TCGTG-ATGTCAACAT-A-CCTAAGCT-TACG-GAT-ATGCAAAAT-TAAGCTCCTGCTAGATCATGATCAAAGTCGAATT--AA--TGCTTG-CCCCGACGTGTT--GTTTCA-C-GC--GGT--CTTGC-G----AT---CA-ACCG-CT-T----AC--CCC------GGACCT\n",
            "Alignment of sec sequence = AATGAAC-CTACACGCAGAGC-AAATATCGCT-A-CACTGTG-T-CTCCCAGCCA-T-CCGTCGAGGT-CGCGCGGCGCGA-AG-A-TGCA-ATCGA-GT-AAGAGGACCTT-T---TTAAAATTCCCTGTTCTTGAT-AGGGCGGGGTCTA-CT--T-GTC----G--TCG--CCA-TATCGT-GCAGTCG-G---GCA--CACGA-ACACGAATTTCCA-T--TTCCGAGCTAG--A-ACAGCTAC-TCTCTCATCTTTGA-CT-TC-C-A-AATGAGCGGGGGAACGGCCGATC-AGCTCTCTCAG-AACTCCTAGACGCCTTCCAGAACCATTGATGGTATTTACAAG-TAGGGAGTGGAGTCAC-TATTGTGTCCATGTGCC-CAT-T-C---GTG-G-A-AAGACTGGAACGGT--AT-A-GGT--A-T-T--A-CC-ACACAAGGA--TTCACGAAGTCACGG--CAGG--AACTCCGCCCCCCCGTCAATCTAG-AAGCC-CTTG----TTT-ACCTCTA---AACG-CTGCCGGGTCCTCTATTCGTGTGGAACGCGGGAACGTGGGCTAAAGG-TATGGATCTGGCGCGGTCCGCAACGAAACGCCCTGTCGATAAGAAACAG--CG-TATCT---ACTCCGCTTATGTGTGACGCTTATTTACGATGC-T-GC-CTGCATTTCGTTATGTGGGCAATG-G-GT-CTCCTGCCAGA-GTTTTTGAGCGTGCACGA-CGGT--GCATCGGTAGG--CCGGTGGGT-GT-GCTAGTTAAGACA-GGGGAGAACCT-AATAGGAAAACGGGTTA-AAC-TGCCTCAGCGGATGGATGTTG-CTCTT-CCGTTCG-CGT-GATTAAGCCGCTCGTGTG-AT--A--TAGGAGAA-ACC-TTGCACCTGCCGGCA-AGAGGGTGTAGCG-T--GTA--GGA-G--AGTCCGCA-GACACAGGAAG---GAT-G-T-A-AGGCGGCCTGCA-G-GAATTTGAGCCGAAGATGTGCGCG-TGAT-CAATATAT-CG-T-CT-C-A-A-CA-GA-CACA-CCGCGTTACAACGTTCTTGTCTTAG-CG-GTTAGGCTT-AGCGGCGGGGTGGCATGCAGCCATATCCACAGATTGAATATGGAGACTTCCCTATTTTTAATCG\n"
          ],
          "name": "stdout"
        }
      ]
    },
    {
      "cell_type": "code",
      "metadata": {
        "id": "IH8FYmLgUprC",
        "outputId": "0fc565a3-f18b-4797-e0d3-647eaff367f5",
        "colab": {
          "base_uri": "https://localhost:8080/"
        }
      },
      "source": [
        "# Return the ant colony with cities initialized to each ant\n",
        "\n",
        "function create_colony(num_ants, num_nodes)\n",
        "    colony = []\n",
        "    for i in 1 : num_ants\n",
        "       push!(colony, Dict(\"path\"=>[rand(1:num_nodes)], \"distance\" => 0))\n",
        "    end\n",
        "    return colony\n",
        "end"
      ],
      "execution_count": null,
      "outputs": [
        {
          "output_type": "execute_result",
          "data": {
            "text/plain": [
              "create_colony (generic function with 1 method)"
            ]
          },
          "metadata": {
            "tags": []
          },
          "execution_count": 21
        }
      ]
    },
    {
      "cell_type": "code",
      "metadata": {
        "id": "Bl7SPj75Uqc0",
        "outputId": "916ee524-780a-4719-bfe6-1e6e7461eb90",
        "colab": {
          "base_uri": "https://localhost:8080/"
        }
      },
      "source": [
        "create_colony(10, 4)"
      ],
      "execution_count": null,
      "outputs": [
        {
          "output_type": "execute_result",
          "data": {
            "text/plain": [
              "10-element Array{Any,1}:\n",
              " Dict{String,Any}(\"distance\" => 0,\"path\" => [1])\n",
              " Dict{String,Any}(\"distance\" => 0,\"path\" => [4])\n",
              " Dict{String,Any}(\"distance\" => 0,\"path\" => [3])\n",
              " Dict{String,Any}(\"distance\" => 0,\"path\" => [1])\n",
              " Dict{String,Any}(\"distance\" => 0,\"path\" => [4])\n",
              " Dict{String,Any}(\"distance\" => 0,\"path\" => [2])\n",
              " Dict{String,Any}(\"distance\" => 0,\"path\" => [3])\n",
              " Dict{String,Any}(\"distance\" => 0,\"path\" => [1])\n",
              " Dict{String,Any}(\"distance\" => 0,\"path\" => [1])\n",
              " Dict{String,Any}(\"distance\" => 0,\"path\" => [4])"
            ]
          },
          "metadata": {
            "tags": []
          },
          "execution_count": 22
        }
      ]
    },
    {
      "cell_type": "code",
      "metadata": {
        "id": "iZzqK24NUqnw",
        "outputId": "d383e349-cf4c-4116-89bd-86a0f4be8032",
        "colab": {
          "base_uri": "https://localhost:8080/"
        }
      },
      "source": [
        "function create_pheror_matrix(num_nodes)\n",
        "    pheromone = zeros(Float64, num_nodes, num_nodes)\n",
        "    for i in 1: num_nodes\n",
        "        for j in 1: num_nodes\n",
        "            pheromone[i,j] = 1/num_nodes\n",
        "        end\n",
        "    end\n",
        "    return pheromone\n",
        "end"
      ],
      "execution_count": null,
      "outputs": [
        {
          "output_type": "execute_result",
          "data": {
            "text/plain": [
              "create_pheror_matrix (generic function with 1 method)"
            ]
          },
          "metadata": {
            "tags": []
          },
          "execution_count": 23
        }
      ]
    },
    {
      "cell_type": "code",
      "metadata": {
        "id": "qsji7XHwUqP1",
        "outputId": "eb4b8b6f-5b06-4801-f073-77a59da57213",
        "colab": {
          "base_uri": "https://localhost:8080/"
        }
      },
      "source": [
        "create_pheror_matrix(4)"
      ],
      "execution_count": null,
      "outputs": [
        {
          "output_type": "execute_result",
          "data": {
            "text/plain": [
              "4×4 Array{Float64,2}:\n",
              " 0.25  0.25  0.25  0.25\n",
              " 0.25  0.25  0.25  0.25\n",
              " 0.25  0.25  0.25  0.25\n",
              " 0.25  0.25  0.25  0.25"
            ]
          },
          "metadata": {
            "tags": []
          },
          "execution_count": 24
        }
      ]
    },
    {
      "cell_type": "code",
      "metadata": {
        "id": "oH_0qzAmUy-3",
        "outputId": "74510c44-4ffb-487e-f6bc-00e8bf30f666",
        "colab": {
          "base_uri": "https://localhost:8080/"
        }
      },
      "source": [
        "function calculate_proba(num_nodes, pheromone, distance_matrix, alpha, beta)\n",
        "    probability = zeros(Float64, num_nodes, num_nodes)\n",
        "    for i in 1: num_nodes\n",
        "        for j in 1: num_nodes\n",
        "            probability[i,j] = (pheromone[i,j]^alpha) * (distance_matrix[i,j]^-beta)\n",
        "            probability[j,i] = probability[i,j]\n",
        "        end\n",
        "    end\n",
        "    return probability\n",
        "end"
      ],
      "execution_count": 191,
      "outputs": [
        {
          "output_type": "execute_result",
          "data": {
            "text/plain": [
              "calculate_proba (generic function with 1 method)"
            ]
          },
          "metadata": {
            "tags": []
          },
          "execution_count": 191
        }
      ]
    },
    {
      "cell_type": "code",
      "metadata": {
        "id": "ZdMIbq9UWHop",
        "outputId": "9241dc79-e13d-44b6-9429-c9f19544a809",
        "colab": {
          "base_uri": "https://localhost:8080/"
        }
      },
      "source": [
        "function calculate_proba_ant(pheromone, distance_matrix, unvisited_nodes, current_node, proba, alpha, beta)\n",
        "  sigma = 0.0\n",
        "  for unvisited_node in unvisited_nodes\n",
        "    sigma += (pheromone[current_node,unvisited_node]^alpha) * (distance_matrix[current_node,unvisited_node]^-beta)\n",
        "  end\n",
        "  proba_ant = proba[current_node,:]/sigma\n",
        "  return proba_ant\n",
        "end"
      ],
      "execution_count": 138,
      "outputs": [
        {
          "output_type": "execute_result",
          "data": {
            "text/plain": [
              "calculate_proba_ant (generic function with 2 methods)"
            ]
          },
          "metadata": {
            "tags": []
          },
          "execution_count": 138
        }
      ]
    },
    {
      "cell_type": "code",
      "metadata": {
        "id": "2fCncJIzXHDh",
        "outputId": "89bff796-23bc-472c-c277-1b669f21b06c",
        "colab": {
          "base_uri": "https://localhost:8080/"
        }
      },
      "source": [
        "function find_best_path(n_ants, colony)\n",
        "  bpath = []\n",
        "  best_distance = Inf32\n",
        "  typeof(best_distance)\n",
        "  idx_best = 0\n",
        "  for i=1: n_ants\n",
        "    if colony[i][\"distance\"] < best_distance\n",
        "      best_distance = colony[i][\"distance\"]\n",
        "      bpath = colony[i][\"path\"]\n",
        "      idx_best = i\n",
        "    end\n",
        "  end\n",
        "  best_path = Dict(\"path\"=> bpath, \"distance\"=> best_distance, \"ant\"=> idx_best)\n",
        "  return best_path\n",
        "end"
      ],
      "execution_count": 122,
      "outputs": [
        {
          "output_type": "execute_result",
          "data": {
            "text/plain": [
              "find_best_path (generic function with 1 method)"
            ]
          },
          "metadata": {
            "tags": []
          },
          "execution_count": 122
        }
      ]
    },
    {
      "cell_type": "code",
      "metadata": {
        "id": "q-w0_md6Z1qk",
        "outputId": "6861ae73-c5d6-4f88-eb08-e517dddcfdd9",
        "colab": {
          "base_uri": "https://localhost:8080/"
        }
      },
      "source": [
        "function update_pheror_matrix(num_nodes, n_ants, pheromone, distance_matrix, colony, Q, decay)\n",
        "  depositpher = 0.0\n",
        "  for i=1: n_ants\n",
        "    ant = i\n",
        "    for j= 1:(length(colony[ant][\"path\"])-1)\n",
        "      src = colony[ant][\"path\"][j]\n",
        "      dest = colony[ant][\"path\"][j+1]\n",
        "      pheromone[src,dest] += Q/colony[i][\"distance\"]\n",
        "    end\n",
        "    depositpher += Q/colony[i][\"distance\"]\n",
        "    for i= 1:num_nodes\n",
        "      for j= 1:num_nodes\n",
        "        pheromone[i,j] = (1-decay)*pheromone[i,j]*depositpher\n",
        "        pheromone[j,i] = pheromone[i,j]\n",
        "      end\n",
        "    end\n",
        "  end\n",
        "  return pheromone\n",
        "end"
      ],
      "execution_count": 152,
      "outputs": [
        {
          "output_type": "execute_result",
          "data": {
            "text/plain": [
              "update_pheror_matrix (generic function with 2 methods)"
            ]
          },
          "metadata": {
            "tags": []
          },
          "execution_count": 152
        }
      ]
    },
    {
      "cell_type": "code",
      "metadata": {
        "id": "NsL7_OW6boFi",
        "outputId": "4dd5a639-91e5-4811-98a1-198694648da5",
        "colab": {
          "base_uri": "https://localhost:8080/"
        }
      },
      "source": [
        "function calculateDist_ant(ant, colony, distmatrix)\n",
        "  dist = 0\n",
        "  path = colony[ant][\"path\"]\n",
        "  for i= 1:length(path)-1\n",
        "    dist += distmatrix[path[i],path[i+1]]\n",
        "  end\n",
        "  return dist\n",
        "end"
      ],
      "execution_count": 153,
      "outputs": [
        {
          "output_type": "execute_result",
          "data": {
            "text/plain": [
              "calculateDist_ant (generic function with 1 method)"
            ]
          },
          "metadata": {
            "tags": []
          },
          "execution_count": 153
        }
      ]
    },
    {
      "cell_type": "markdown",
      "metadata": {
        "id": "ZnGe1twunXLF"
      },
      "source": [
        ""
      ]
    },
    {
      "cell_type": "code",
      "metadata": {
        "id": "etAiFH4sUzB-",
        "outputId": "4f1fad77-a5de-43bd-bc35-755ec2657243",
        "colab": {
          "base_uri": "https://localhost:8080/"
        }
      },
      "source": [
        "function traverse(ant, num_nodes, colony, pheromone, distance_matrix, proba, alpha, beta)\n",
        "    unvisited = collect(1:num_nodes)\n",
        "    current = colony[ant][\"path\"][1]\n",
        "    print(current)\n",
        "    deleteat!(unvisited, findfirst(isequal(current), unvisited))\n",
        "    for j in 1: num_nodes\n",
        "        if length(unvisited) > 1\n",
        "            ant_probability = calculate_proba_ant(pheromone, distance_matrix, unvisited, current, proba, alpha, beta)\n",
        "            prob = map((x) -> ant_probability[x] , unvisited)\n",
        "            current = unvisited[findmax(prob)[2]]\n",
        "            deleteat!(unvisited, findfirst(isequal(current), unvisited))\n",
        "            push!(colony[ant][\"path\"], current)       \n",
        "        else\n",
        "            push!(colony[ant][\"path\"], unvisited[1])\n",
        "        end\n",
        "    end\n",
        "    # complete the calculate_distance function\n",
        "    colony[ant][\"distance\"] = calculateDist_ant(ant, colony, distance_matrix)\n",
        "end"
      ],
      "execution_count": 159,
      "outputs": [
        {
          "output_type": "execute_result",
          "data": {
            "text/plain": [
              "traverse (generic function with 2 methods)"
            ]
          },
          "metadata": {
            "tags": []
          },
          "execution_count": 159
        }
      ]
    },
    {
      "cell_type": "code",
      "metadata": {
        "id": "3nEqLOO5Uy08",
        "outputId": "494842a7-9d8e-46b1-f171-74e567ce65a7",
        "colab": {
          "base_uri": "https://localhost:8080/"
        }
      },
      "source": [
        "function run(num_ants, num_nodes, distance_matrix, iterations, Q, decay, alpha, beta)\n",
        "    pheromone = create_pheror_matrix(num_nodes)\n",
        "    gbpath = Dict()\n",
        "    for i= 1: iterations\n",
        "        colony = create_colony(num_ants, num_nodes)\n",
        "        probability = calculate_proba(num_nodes, pheromone, distance_matrix, alpha, beta)\n",
        "        for ant in 1: num_ants\n",
        "            traverse(ant, num_nodes, colony, pheromone, distance_matrix, probability, alpha, beta)\n",
        "        end\n",
        "        # complete update_pheromone_matrix\n",
        "        pheromone = update_pheror_matrix(num_nodes, num_ants, pheromone, distance_matrix, colony, Q, decay)\n",
        "        #complete find best path fucntion\n",
        "        best_path = find_best_path(num_ants, colony)\n",
        "        \n",
        "        bpath = best_path\n",
        "        if i == 1\n",
        "            gbpath = bpath\n",
        "        else\n",
        "            if bpath[\"distance\"] < gbpath[\"distance\"]\n",
        "                gbpath = bpath\n",
        "            end\n",
        "        end\n",
        "        println(\"current best path = \",bpath[\"path\"])\n",
        "        println(\"current distance = \",bpath[\"distance\"])\n",
        "        println(\"global best path = \",gbpath[\"path\"])\n",
        "        println(\"global best path distance =\",gbpath[\"distance\"])\n",
        "        println(\"iteration over\")\n",
        "    end    \n",
        "    return pheromone\n",
        "end"
      ],
      "execution_count": 192,
      "outputs": [
        {
          "output_type": "execute_result",
          "data": {
            "text/plain": [
              "run (generic function with 3 methods)"
            ]
          },
          "metadata": {
            "tags": []
          },
          "execution_count": 192
        }
      ]
    },
    {
      "cell_type": "code",
      "metadata": {
        "id": "0Kmrwnabim88",
        "outputId": "37f13dd4-abd1-4e1e-c193-d0d30fa4094b",
        "colab": {
          "base_uri": "https://localhost:8080/"
        }
      },
      "source": [
        "#distance_matrix = MSA_to_TSP(generate_sequences(10,1000))\n",
        "#distance_matrix = [0 5 7.07 5 10.44; 5 0 5 7.07 10.19; 7.07 5 0 5 5.38; 5 7.07 5 0 5.83; 10.44 10.19 5.38 5.83 0]\n",
        "distance_matrix = [0 556.149 1160.79 786.014 556.149; 556.149 0 648.358 556.149 786.014; 1160.79 648.358 0 597.706 1131.61; 786.014 556.149 597.706 0 554.032; 556.149 786.014 1131.61 554.032 0]\n",
        "typeof(distance_matrix)\n",
        "run(50,5,distance_matrix,10,0.6,0.6,1,1)\n",
        "#phero = run(20,10,distance_matrix,10,0.6,0.6,1,1)\n",
        "phero"
      ],
      "execution_count": 202,
      "outputs": [
        {
          "output_type": "stream",
          "text": [
            "42451241214321442435311111325313532113235544443454current best path = [2, 1, 5, 4, 3, 3]\n",
            "current distance = 2264.036\n",
            "global best path = [2, 1, 5, 4, 3, 3]\n",
            "global best path distance =2264.036\n",
            "iteration over\n",
            "22522432254222141322321453553111542435543113211455current best path = [4, 5, 1, 2, 3, 3]\n",
            "current distance = 2314.688\n",
            "global best path = [2, 1, 5, 4, 3, 3]\n",
            "global best path distance =2264.036\n",
            "iteration over\n",
            "24525152521112251351115344215313235322255321512411current best path = [4, 5, 1, 2, 3, 3]\n",
            "current distance = 2314.688\n",
            "global best path = [2, 1, 5, 4, 3, 3]\n",
            "global best path distance =2264.036\n",
            "iteration over\n",
            "45122141413524312532344132321315214521452253521511current best path = [3, 4, 5, 1, 2, 2]\n",
            "current distance = 2264.036\n",
            "global best path = [2, 1, 5, 4, 3, 3]\n",
            "global best path distance =2264.036\n",
            "iteration over\n",
            "15532223232242135232334412541151552535323111455242current best path = [3, 4, 5, 1, 2, 2]\n",
            "current distance = 2264.036\n",
            "global best path = [2, 1, 5, 4, 3, 3]\n",
            "global best path distance =2264.036\n",
            "iteration over\n",
            "41322112552244525543345523354131153514412124253252current best path = [3, 4, 5, 1, 2, 2]\n",
            "current distance = 2264.036\n",
            "global best path = [2, 1, 5, 4, 3, 3]\n",
            "global best path distance =2264.036\n",
            "iteration over\n",
            "31555224511115311545354554244123241515132231254354current best path = [3, 4, 5, 1, 2, 2]\n",
            "current distance = 2264.036\n",
            "global best path = [2, 1, 5, 4, 3, 3]\n",
            "global best path distance =2264.036\n",
            "iteration over\n",
            "51553443144255532154351222315435232115223242212115current best path = [3, 1, 2, 4, 5, 5]\n",
            "current distance = 2827.12\n",
            "global best path = [2, 1, 5, 4, 3, 3]\n",
            "global best path distance =2264.036\n",
            "iteration over\n",
            "52212521525522222432524151513242452441525555342414current best path = [3, 4, 5, 1, 2, 2]\n",
            "current distance = 2264.036\n",
            "global best path = [2, 1, 5, 4, 3, 3]\n",
            "global best path distance =2264.036\n",
            "iteration over\n",
            "32521145325552535121253224241222153533452535355332current best path = [4, 5, 1, 2, 3, 3]\n",
            "current distance = 2314.688\n",
            "global best path = [2, 1, 5, 4, 3, 3]\n",
            "global best path distance =2264.036\n",
            "iteration over\n"
          ],
          "name": "stdout"
        },
        {
          "output_type": "execute_result",
          "data": {
            "text/plain": [
              "10×10 Array{Float64,2}:\n",
              " 2.20317e-17  0.0          1.07187e-21  …  0.0          0.0\n",
              " 0.0          1.71389e-10  0.0             0.0          0.0\n",
              " 1.07187e-21  0.0          1.26938e-91     0.0          0.0\n",
              " 3.12506e-8   0.0          0.0             0.0          3.12506e-8\n",
              " 0.0          1.07187e-21  0.0             1.07187e-21  0.0\n",
              " 0.0          0.0          0.0          …  0.0          0.0\n",
              " 0.0          3.12506e-8   0.0             0.0          0.0\n",
              " 0.0          0.0          1.07187e-21     0.0          0.0\n",
              " 0.0          0.0          0.0             2.96637e-8   1.07187e-21\n",
              " 0.0          0.0          0.0             1.07187e-21  4.94424e-6"
            ]
          },
          "metadata": {
            "tags": []
          },
          "execution_count": 202
        }
      ]
    },
    {
      "cell_type": "code",
      "metadata": {
        "id": "wAdqdicyw3HY",
        "outputId": "f79c771c-f64e-42d3-d027-bdfdf569844d",
        "colab": {
          "base_uri": "https://localhost:8080/"
        }
      },
      "source": [
        "findmax(phero[10,:])"
      ],
      "execution_count": 180,
      "outputs": [
        {
          "output_type": "execute_result",
          "data": {
            "text/plain": [
              "(2.956035478154747e-8, 5)"
            ]
          },
          "metadata": {
            "tags": []
          },
          "execution_count": 180
        }
      ]
    },
    {
      "cell_type": "code",
      "metadata": {
        "id": "nv_A8lC4EIKs"
      },
      "source": [
        "function ACO_on_TSP()\n",
        "end"
      ],
      "execution_count": null,
      "outputs": []
    },
    {
      "cell_type": "code",
      "metadata": {
        "id": "YInsT-ngEJ69"
      },
      "source": [
        "# test ACO_on_TSP here"
      ],
      "execution_count": null,
      "outputs": []
    },
    {
      "cell_type": "code",
      "metadata": {
        "id": "3sD0CKnOELi7"
      },
      "source": [
        "function TSP_to_MSA()\n",
        "end"
      ],
      "execution_count": null,
      "outputs": []
    },
    {
      "cell_type": "code",
      "metadata": {
        "id": "CXTxRSSbENOz"
      },
      "source": [
        "# test TSP_to_MSA here"
      ],
      "execution_count": null,
      "outputs": []
    },
    {
      "cell_type": "code",
      "metadata": {
        "id": "DS0cNpWLS0va",
        "outputId": "6ad648d1-cf45-44d3-c76e-222c49bcbb9a",
        "colab": {
          "base_uri": "https://localhost:8080/"
        }
      },
      "source": [
        "# test createPherorMatrix here\n",
        "createPherorMatrix()"
      ],
      "execution_count": null,
      "outputs": [
        {
          "output_type": "execute_result",
          "data": {
            "text/plain": [
              "2×3 Array{Int64,2}:\n",
              " 0  0  0\n",
              " 0  0  0"
            ]
          },
          "metadata": {
            "tags": []
          },
          "execution_count": 18
        }
      ]
    }
  ]
}